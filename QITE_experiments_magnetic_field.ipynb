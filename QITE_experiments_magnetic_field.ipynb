{
 "cells": [
  {
   "cell_type": "code",
   "execution_count": 1,
   "metadata": {},
   "outputs": [],
   "source": [
    "from qrisp import QuantumVariable, h, x, prepare, conjugate\n",
    "from qrisp.vqe.problems.heisenberg import create_heisenberg_init_function, heisenberg_problem, create_heisenberg_hamiltonian\n",
    "import networkx as nx\n",
    "import numpy as np\n",
    "import scipy\n",
    "import matplotlib.pyplot as plt\n",
    "from run_QITE import run_QITE\n",
    "\n",
    "import pickle\n",
    "from time import time\n",
    "from datetime import datetime\n",
    "\n",
    "def save_data(data, filename):  \n",
    "    # Open a file for writing\n",
    "    with open(filename+'.pickle', 'wb') as file:\n",
    "        # Write the object to the file\n",
    "        pickle.dump(data, file)\n",
    "\n",
    "def load_data(filename):\n",
    "    with open(filename+'.pickle', 'rb') as file:\n",
    "        # Load the object from the file\n",
    "        data = pickle.load(file)\n",
    "    return data"
   ]
  },
  {
   "cell_type": "markdown",
   "metadata": {},
   "source": [
    "# Investigate the ground states for inceasing magnetig field strength B"
   ]
  },
  {
   "cell_type": "markdown",
   "metadata": {},
   "source": [
    "# L=4"
   ]
  },
  {
   "cell_type": "code",
   "execution_count": 2,
   "metadata": {},
   "outputs": [
    {
     "name": "stdout",
     "output_type": "stream",
     "text": [
      "X(0)*X(1) + X(1)*X(2) + X(2)*X(3) + Y(0)*Y(1) + Y(1)*Y(2) + Y(2)*Y(3) + 3*Z(0) + Z(0)*Z(1) + 3*Z(1) + Z(1)*Z(2) + 3*Z(2) + Z(2)*Z(3) + 3*Z(3)\n",
      "Eigen energies: [-9.82842712 -9.         -7.         -6.46410162 -4.17157288 -3.82842712\n",
      " -3.         -1.          0.46410162  1.82842712  2.17157288  3.\n",
      "  5.          7.82842712  9.         15.        ]\n"
     ]
    }
   ],
   "source": [
    "L = 4\n",
    "G = nx.Graph()\n",
    "G.add_edges_from([(k,(k+1)%L) for k in range(L-1)]) \n",
    "\n",
    "J = 1\n",
    "B = 3\n",
    "H = create_heisenberg_hamiltonian(G, J, B)\n",
    "print(H)\n",
    "\n",
    "\n",
    "H_matrix = H.to_array()\n",
    "eigvals, eigvecs = np.linalg.eigh(H_matrix)\n",
    "idx = np.argsort(eigvals)\n",
    "eigvals_sorted = eigvals[idx].real\n",
    "print('Eigen energies:', eigvals_sorted)\n",
    "eigvecs_sorted = eigvecs[:,idx].T\n",
    "eigvecs_sorted = [vec.reshape(-1,1) for vec in eigvecs_sorted]\n",
    "\n",
    "psi = eigvecs_sorted[0]"
   ]
  },
  {
   "cell_type": "code",
   "execution_count": 3,
   "metadata": {},
   "outputs": [
    {
     "name": "stdout",
     "output_type": "stream",
     "text": [
      "                                                                                     \u001b[2K\r"
     ]
    },
    {
     "data": {
      "text/latex": [
       "$\\displaystyle - 0.2706 {\\left|7\\right\\rangle } + 0.6533 {\\left|11\\right\\rangle } - 0.6533 {\\left|13\\right\\rangle } + 0.2706 {\\left|14\\right\\rangle }$"
      ],
      "text/plain": [
       "-0.2706*|7> + 0.6533*|11> - 0.6533*|13> + 0.2706*|14>"
      ]
     },
     "execution_count": 3,
     "metadata": {},
     "output_type": "execute_result"
    }
   ],
   "source": [
    "from qrisp import *\n",
    "\n",
    "qf = QuantumFloat(L)\n",
    "prepare(qf, psi.transpose()[0])\n",
    "\n",
    "qf.qs.statevector(decimals=4)"
   ]
  },
  {
   "cell_type": "code",
   "execution_count": 4,
   "metadata": {},
   "outputs": [
    {
     "name": "stdout",
     "output_type": "stream",
     "text": [
      "                                                                                     \u001b[2K\r"
     ]
    },
    {
     "data": {
      "text/latex": [
       "$\\displaystyle 0.5 {\\left|7\\right\\rangle } + 0.5 {\\left|11\\right\\rangle } + 0.5 {\\left|13\\right\\rangle } + 0.5 {\\left|14\\right\\rangle }$"
      ],
      "text/plain": [
       "0.5*|7> + 0.5*|11> + 0.5*|13> + 0.5*|14>"
      ]
     },
     "execution_count": 4,
     "metadata": {},
     "output_type": "execute_result"
    }
   ],
   "source": [
    "from qrisp import QuantumFloat, x, z, dicke_state\n",
    "\n",
    "def U_0(qv):\n",
    "    [x(qv[i]) for i in range(1,L)]\n",
    "    dicke_state(qv,L)\n",
    "\n",
    "qf = QuantumFloat(L)\n",
    "U_0(qf)\n",
    "qf.qs.statevector(decimals=4)"
   ]
  },
  {
   "cell_type": "markdown",
   "metadata": {},
   "source": [
    "# L=10"
   ]
  },
  {
   "cell_type": "code",
   "execution_count": 5,
   "metadata": {},
   "outputs": [],
   "source": [
    "L = 10\n",
    "G = nx.Graph()\n",
    "G.add_edges_from([(k,(k+1)%L) for k in range(L-1)]) \n",
    "# nx.draw(G, with_labels=True)"
   ]
  },
  {
   "cell_type": "code",
   "execution_count": 6,
   "metadata": {},
   "outputs": [
    {
     "name": "stdout",
     "output_type": "stream",
     "text": [
      "X(0)*X(1) + X(1)*X(2) + X(2)*X(3) + X(3)*X(4) + X(4)*X(5) + X(5)*X(6) + X(6)*X(7) + X(7)*X(8) + X(8)*X(9) + Y(0)*Y(1) + Y(1)*Y(2) + Y(2)*Y(3) + Y(3)*Y(4) + Y(4)*Y(5) + Y(5)*Y(6) + Y(6)*Y(7) + Y(7)*Y(8) + Y(8)*Y(9) + Z(0) + Z(0)*Z(1) + Z(1) + Z(1)*Z(2) + Z(2) + Z(2)*Z(3) + Z(3) + Z(3)*Z(4) + Z(4) + Z(4)*Z(5) + Z(5) + Z(5)*Z(6) + Z(6) + Z(6)*Z(7) + Z(7) + Z(7)*Z(8) + Z(8) + Z(8)*Z(9) + Z(9)\n"
     ]
    }
   ],
   "source": [
    "from qrisp.operators import X, Y, Z\n",
    "\n",
    "J = 1\n",
    "B = 1\n",
    "H = create_heisenberg_hamiltonian(G, J, B)\n",
    "print(H)\n",
    "\n",
    "# Define scaling factor\n",
    "F = 10\n",
    "\n",
    "# Hamiltonian simulation via first order Suzuki-Trotter formula with 5 steps\n",
    "def exp_H(qv, t):\n",
    "    H.trotterization(method='commuting')(qv,t/F,5)"
   ]
  },
  {
   "cell_type": "code",
   "execution_count": 7,
   "metadata": {},
   "outputs": [
    {
     "name": "stdout",
     "output_type": "stream",
     "text": [
      "Eigen energies: [-17.72269436 -17.03214083 -16.10817429 ...  16.80422607  17.\n",
      "  19.        ]\n",
      "                                                                                     \u001b[2K\r"
     ]
    },
    {
     "data": {
      "text/latex": [
       "$\\displaystyle - 0.0001 {\\left|111\\right\\rangle } + 0.0003 {\\left|119\\right\\rangle } - 0.0006 {\\left|123\\right\\rangle } + 0.0006 {\\left|125\\right\\rangle } - 0.0003 {\\left|126\\right\\rangle } - 0.0001 {\\left|159\\right\\rangle } + 0.0008 {\\left|175\\right\\rangle } - 0.0024 {\\left|183\\right\\rangle } + 0.0044 {\\left|187\\right\\rangle } - 0.0047 {\\left|189\\right\\rangle } + 0.0021 {\\left|190\\right\\rangle } - 0.0012 {\\left|207\\right\\rangle } + 0.0062 {\\left|215\\right\\rangle } - 0.0132 {\\left|219\\right\\rangle } + 0.0151 {\\left|221\\right\\rangle } - 0.0068 {\\left|222\\right\\rangle } - 0.0051 {\\left|231\\right\\rangle } + 0.0186 {\\left|235\\right\\rangle } - 0.0247 {\\left|237\\right\\rangle } + 0.0118 {\\left|238\\right\\rangle } - 0.0088 {\\left|243\\right\\rangle } + 0.0212 {\\left|245\\right\\rangle } - 0.0115 {\\left|246\\right\\rangle } - 0.0063 {\\left|249\\right\\rangle } + 0.0058 {\\left|250\\right\\rangle } - 0.0011 {\\left|252\\right\\rangle } + 0.0002 {\\left|287\\right\\rangle } - 0.0017 {\\left|303\\right\\rangle } + 0.0059 {\\left|311\\right\\rangle } - 0.0114 {\\left|315\\right\\rangle } + 0.0126 {\\left|317\\right\\rangle } - 0.0056 {\\left|318\\right\\rangle } + 0.0045 {\\left|335\\right\\rangle } - 0.0239 {\\left|343\\right\\rangle } + 0.0526 {\\left|347\\right\\rangle } - 0.0615 {\\left|349\\right\\rangle } + 0.0281 {\\left|350\\right\\rangle } + 0.0225 {\\left|359\\right\\rangle } - 0.0852 {\\left|363\\right\\rangle } + 0.1154 {\\left|365\\right\\rangle } - 0.0554 {\\left|366\\right\\rangle } + 0.0426 {\\left|371\\right\\rangle } - 0.1046 {\\left|373\\right\\rangle } + 0.0572 {\\left|374\\right\\rangle } + 0.0317 {\\left|377\\right\\rangle } - 0.0298 {\\left|378\\right\\rangle } + 0.0058 {\\left|380\\right\\rangle } - 0.0027 {\\left|399\\right\\rangle } + 0.0171 {\\left|407\\right\\rangle } - 0.0427 {\\left|411\\right\\rangle } + 0.0529 {\\left|413\\right\\rangle } - 0.0248 {\\left|414\\right\\rangle } - 0.0306 {\\left|423\\right\\rangle } + 0.1239 {\\left|427\\right\\rangle } - 0.1755 {\\left|429\\right\\rangle } + 0.0858 {\\left|430\\right\\rangle } - 0.0722 {\\left|435\\right\\rangle } + 0.1854 {\\left|437\\right\\rangle } - 0.1033 {\\left|438\\right\\rangle } - 0.0592 {\\left|441\\right\\rangle } + 0.0572 {\\left|442\\right\\rangle } - 0.0115 {\\left|444\\right\\rangle } + 0.0105 {\\left|455\\right\\rangle } - 0.0482 {\\left|459\\right\\rangle } + 0.0759 {\\left|461\\right\\rangle } - 0.0387 {\\left|462\\right\\rangle } + 0.0526 {\\left|467\\right\\rangle } - 0.1484 {\\left|469\\right\\rangle } + 0.0858 {\\left|470\\right\\rangle } + 0.0543 {\\left|473\\right\\rangle } - 0.0554 {\\left|474\\right\\rangle } + 0.0118 {\\left|476\\right\\rangle } - 0.0128 {\\left|483\\right\\rangle } + 0.0401 {\\left|485\\right\\rangle } - 0.0248 {\\left|486\\right\\rangle } - 0.0244 {\\left|489\\right\\rangle } + 0.0281 {\\left|490\\right\\rangle } - 0.0068 {\\left|492\\right\\rangle } + 0.0042 {\\left|497\\right\\rangle } - 0.0056 {\\left|498\\right\\rangle } + 0.0021 {\\left|500\\right\\rangle } - 0.0003 {\\left|504\\right\\rangle } - 0.0001 {\\left|543\\right\\rangle } + 0.0011 {\\left|559\\right\\rangle } - 0.0041 {\\left|567\\right\\rangle } + 0.0083 {\\left|571\\right\\rangle } - 0.0093 {\\left|573\\right\\rangle } + 0.0042 {\\left|574\\right\\rangle } - 0.0035 {\\left|591\\right\\rangle } + 0.0193 {\\left|599\\right\\rangle } - 0.0442 {\\left|603\\right\\rangle } + 0.0529 {\\left|605\\right\\rangle } - 0.0244 {\\left|606\\right\\rangle } - 0.0208 {\\left|615\\right\\rangle } + 0.081 {\\left|619\\right\\rangle } - 0.112 {\\left|621\\right\\rangle } + 0.0543 {\\left|622\\right\\rangle } - 0.0428 {\\left|627\\right\\rangle } + 0.1073 {\\left|629\\right\\rangle } - 0.0592 {\\left|630\\right\\rangle } - 0.0332 {\\left|633\\right\\rangle } + 0.0317 {\\left|634\\right\\rangle } - 0.0063 {\\left|636\\right\\rangle } + 0.004 {\\left|655\\right\\rangle } - 0.0262 {\\left|663\\right\\rangle } + 0.0674 {\\left|667\\right\\rangle } - 0.0852 {\\left|669\\right\\rangle } + 0.0401 {\\left|670\\right\\rangle } + 0.051 {\\left|679\\right\\rangle } - 0.21 {\\left|683\\right\\rangle } + 0.3016 {\\left|685\\right\\rangle } - 0.1484 {\\left|686\\right\\rangle } + 0.1272 {\\left|691\\right\\rangle } - 0.3309 {\\left|693\\right\\rangle } + 0.1854 {\\left|694\\right\\rangle } + 0.1073 {\\left|697\\right\\rangle } - 0.1046 {\\left|698\\right\\rangle } + 0.0212 {\\left|700\\right\\rangle } - 0.0197 {\\left|711\\right\\rangle } + 0.0922 {\\left|715\\right\\rangle } - 0.1476 {\\left|717\\right\\rangle } + 0.0759 {\\left|718\\right\\rangle } - 0.1057 {\\left|723\\right\\rangle } + 0.3016 {\\left|725\\right\\rangle } - 0.1755 {\\left|726\\right\\rangle } - 0.112 {\\left|729\\right\\rangle } + 0.1154 {\\left|730\\right\\rangle } - 0.0247 {\\left|732\\right\\rangle } + 0.0268 {\\left|739\\right\\rangle } - 0.0852 {\\left|741\\right\\rangle } + 0.0529 {\\left|742\\right\\rangle } + 0.0529 {\\left|745\\right\\rangle } - 0.0615 {\\left|746\\right\\rangle } + 0.0151 {\\left|748\\right\\rangle } - 0.0093 {\\left|753\\right\\rangle } + 0.0126 {\\left|754\\right\\rangle } - 0.0047 {\\left|756\\right\\rangle } + 0.0006 {\\left|760\\right\\rangle } - 0.0011 {\\left|783\\right\\rangle } + 0.0078 {\\left|791\\right\\rangle } - 0.0208 {\\left|795\\right\\rangle } + 0.0268 {\\left|797\\right\\rangle } - 0.0128 {\\left|798\\right\\rangle } - 0.0169 {\\left|807\\right\\rangle } + 0.0717 {\\left|811\\right\\rangle } - 0.1057 {\\left|813\\right\\rangle } + 0.0526 {\\left|814\\right\\rangle } - 0.0476 {\\left|819\\right\\rangle } + 0.1272 {\\left|821\\right\\rangle } - 0.0722 {\\left|822\\right\\rangle } - 0.0428 {\\left|825\\right\\rangle } + 0.0426 {\\left|826\\right\\rangle } - 0.0088 {\\left|828\\right\\rangle } + 0.0112 {\\left|839\\right\\rangle } - 0.055 {\\left|843\\right\\rangle } + 0.0922 {\\left|845\\right\\rangle } - 0.0482 {\\left|846\\right\\rangle } + 0.0717 {\\left|851\\right\\rangle } - 0.21 {\\left|853\\right\\rangle } + 0.1239 {\\left|854\\right\\rangle } + 0.081 {\\left|857\\right\\rangle } - 0.0852 {\\left|858\\right\\rangle } + 0.0186 {\\left|860\\right\\rangle } - 0.0208 {\\left|867\\right\\rangle } + 0.0674 {\\left|869\\right\\rangle } - 0.0427 {\\left|870\\right\\rangle } - 0.0442 {\\left|873\\right\\rangle } + 0.0526 {\\left|874\\right\\rangle } - 0.0132 {\\left|876\\right\\rangle } + 0.0083 {\\left|881\\right\\rangle } - 0.0114 {\\left|882\\right\\rangle } + 0.0044 {\\left|884\\right\\rangle } - 0.0006 {\\left|888\\right\\rangle } - 0.0022 {\\left|903\\right\\rangle } + 0.0112 {\\left|907\\right\\rangle } - 0.0197 {\\left|909\\right\\rangle } + 0.0105 {\\left|910\\right\\rangle } - 0.0169 {\\left|915\\right\\rangle } + 0.051 {\\left|917\\right\\rangle } - 0.0306 {\\left|918\\right\\rangle } - 0.0208 {\\left|921\\right\\rangle } + 0.0225 {\\left|922\\right\\rangle } - 0.0051 {\\left|924\\right\\rangle } + 0.0078 {\\left|931\\right\\rangle } - 0.0262 {\\left|933\\right\\rangle } + 0.0171 {\\left|934\\right\\rangle } + 0.0193 {\\left|937\\right\\rangle } - 0.0239 {\\left|938\\right\\rangle } + 0.0062 {\\left|940\\right\\rangle } - 0.0041 {\\left|945\\right\\rangle } + 0.0059 {\\left|946\\right\\rangle } - 0.0024 {\\left|948\\right\\rangle } + 0.0003 {\\left|952\\right\\rangle } - 0.0011 {\\left|963\\right\\rangle } + 0.004 {\\left|965\\right\\rangle } - 0.0027 {\\left|966\\right\\rangle } - 0.0035 {\\left|969\\right\\rangle } + 0.0045 {\\left|970\\right\\rangle } - 0.0012 {\\left|972\\right\\rangle } + 0.0011 {\\left|977\\right\\rangle } - 0.0017 {\\left|978\\right\\rangle } + 0.0008 {\\left|980\\right\\rangle } - 0.0001 {\\left|984\\right\\rangle } - 0.0001 {\\left|993\\right\\rangle } + 0.0002 {\\left|994\\right\\rangle } - 0.0001 {\\left|996\\right\\rangle }$"
      ],
      "text/plain": [
       "-0.0001*|111> + 0.0003*|119> - 0.0006*|123> + 0.0006*|125> - 0.0003*|126> - 0.0001*|159> + 0.0008*|175> - 0.0024*|183> + 0.0044*|187> - 0.0047*|189> + 0.0021*|190> - 0.0012*|207> + 0.0062*|215> - 0.0132*|219> + 0.0151*|221> - 0.0068*|222> - 0.0051*|231> + 0.0186*|235> - 0.0247*|237> + 0.0118*|238> - 0.0088*|243> + 0.0212*|245> - 0.0115*|246> - 0.0063*|249> + 0.0058*|250> - 0.0011*|252> + 0.0002*|287> - 0.0017*|303> + 0.0059*|311> - 0.0114*|315> + 0.0126*|317> - 0.0056*|318> + 0.0045*|335> - 0.0239*|343> + 0.0526*|347> - 0.0615*|349> + 0.0281*|350> + 0.0225*|359> - 0.0852*|363> + 0.1154*|365> - 0.0554*|366> + 0.0426*|371> - 0.1046*|373> + 0.0572*|374> + 0.0317*|377> - 0.0298*|378> + 0.0058*|380> - 0.0027*|399> + 0.0171*|407> - 0.0427*|411> + 0.0529*|413> - 0.0248*|414> - 0.0306*|423> + 0.1239*|427> - 0.1755*|429> + 0.0858*|430> - 0.0722*|435> + 0.1854*|437> - 0.1033*|438> - 0.0592*|441> + 0.0572*|442> - 0.0115*|444> + 0.0105*|455> - 0.0482*|459> + 0.0759*|461> - 0.0387*|462> + 0.0526*|467> - 0.1484*|469> + 0.0858*|470> + 0.0543*|473> - 0.0554*|474> + 0.0118*|476> - 0.0128*|483> + 0.0401*|485> - 0.0248*|486> - 0.0244*|489> + 0.0281*|490> - 0.0068*|492> + 0.0042*|497> - 0.0056*|498> + 0.0021*|500> - 0.0003*|504> - 0.0001*|543> + 0.0011*|559> - 0.0041*|567> + 0.0083*|571> - 0.0093*|573> + 0.0042*|574> - 0.0035*|591> + 0.0193*|599> - 0.0442*|603> + 0.0529*|605> - 0.0244*|606> - 0.0208*|615> + 0.081*|619> - 0.112*|621> + 0.0543*|622> - 0.0428*|627> + 0.1073*|629> - 0.0592*|630> - 0.0332*|633> + 0.0317*|634> - 0.0063*|636> + 0.004*|655> - 0.0262*|663> + 0.0674*|667> - 0.0852*|669> + 0.0401*|670> + 0.051*|679> - 0.21*|683> + 0.3016*|685> - 0.1484*|686> + 0.1272*|691> - 0.3309*|693> + 0.1854*|694> + 0.1073*|697> - 0.1046*|698> + 0.0212*|700> - 0.0197*|711> + 0.0922*|715> - 0.1476*|717> + 0.0759*|718> - 0.1057*|723> + 0.3016*|725> - 0.1755*|726> - 0.112*|729> + 0.1154*|730> - 0.0247*|732> + 0.0268*|739> - 0.0852*|741> + 0.0529*|742> + 0.0529*|745> - 0.0615*|746> + 0.0151*|748> - 0.0093*|753> + 0.0126*|754> - 0.0047*|756> + 0.0006*|760> - 0.0011*|783> + 0.0078*|791> - 0.0208*|795> + 0.0268*|797> - 0.0128*|798> - 0.0169*|807> + 0.0717*|811> - 0.1057*|813> + 0.0526*|814> - 0.0476*|819> + 0.1272*|821> - 0.0722*|822> - 0.0428*|825> + 0.0426*|826> - 0.0088*|828> + 0.0112*|839> - 0.055*|843> + 0.0922*|845> - 0.0482*|846> + 0.0717*|851> - 0.21*|853> + 0.1239*|854> + 0.081*|857> - 0.0852*|858> + 0.0186*|860> - 0.0208*|867> + 0.0674*|869> - 0.0427*|870> - 0.0442*|873> + 0.0526*|874> - 0.0132*|876> + 0.0083*|881> - 0.0114*|882> + 0.0044*|884> - 0.0006*|888> - 0.0022*|903> + 0.0112*|907> - 0.0197*|909> + 0.0105*|910> - 0.0169*|915> + 0.051*|917> - 0.0306*|918> - 0.0208*|921> + 0.0225*|922> - 0.0051*|924> + 0.0078*|931> - 0.0262*|933> + 0.0171*|934> + 0.0193*|937> - 0.0239*|938> + 0.0062*|940> - 0.0041*|945> + 0.0059*|946> - 0.0024*|948> + 0.0003*|952> - 0.0011*|963> + 0.004*|965> - 0.0027*|966> - 0.0035*|969> + 0.0045*|970> - 0.0012*|972> + 0.0011*|977> - 0.0017*|978> + 0.0008*|980> - 0.0001*|984> - 0.0001*|993> + 0.0002*|994> - 0.0001*|996>"
      ]
     },
     "execution_count": 7,
     "metadata": {},
     "output_type": "execute_result"
    }
   ],
   "source": [
    "H_matrix = H.to_array()\n",
    "eigvals, eigvecs = np.linalg.eigh(H_matrix)\n",
    "idx = np.argsort(eigvals)\n",
    "eigvals_sorted = eigvals[idx].real\n",
    "print('Eigen energies:', eigvals_sorted)\n",
    "eigvecs_sorted = eigvecs[:,idx].T\n",
    "eigvecs_sorted = [vec.reshape(-1,1) for vec in eigvecs_sorted]\n",
    "\n",
    "psi = eigvecs_sorted[0]\n",
    "\n",
    "qf = QuantumFloat(L)\n",
    "prepare(qf, psi.transpose()[0])\n",
    "\n",
    "qf.qs.statevector(decimals=4)"
   ]
  },
  {
   "cell_type": "code",
   "execution_count": 15,
   "metadata": {},
   "outputs": [
    {
     "name": "stdout",
     "output_type": "stream",
     "text": [
      "                                                                                     \u001b[2K\r"
     ]
    },
    {
     "data": {
      "text/latex": [
       "$\\displaystyle 0.069 {\\left|63\\right\\rangle } + 0.069 {\\left|95\\right\\rangle } + 0.069 {\\left|111\\right\\rangle } + 0.069 {\\left|119\\right\\rangle } + 0.069 {\\left|123\\right\\rangle } + 0.069 {\\left|125\\right\\rangle } + 0.069 {\\left|126\\right\\rangle } + 0.069 {\\left|159\\right\\rangle } + 0.069 {\\left|175\\right\\rangle } + 0.069 {\\left|183\\right\\rangle } + 0.069 {\\left|187\\right\\rangle } + 0.069 {\\left|189\\right\\rangle } + 0.069 {\\left|190\\right\\rangle } + 0.069 {\\left|207\\right\\rangle } + 0.069 {\\left|215\\right\\rangle } + 0.069 {\\left|219\\right\\rangle } + 0.069 {\\left|221\\right\\rangle } + 0.069 {\\left|222\\right\\rangle } + 0.069 {\\left|231\\right\\rangle } + 0.069 {\\left|235\\right\\rangle } + 0.069 {\\left|237\\right\\rangle } + 0.069 {\\left|238\\right\\rangle } + 0.069 {\\left|243\\right\\rangle } + 0.069 {\\left|245\\right\\rangle } + 0.069 {\\left|246\\right\\rangle } + 0.069 {\\left|249\\right\\rangle } + 0.069 {\\left|250\\right\\rangle } + 0.069 {\\left|252\\right\\rangle } + 0.069 {\\left|287\\right\\rangle } + 0.069 {\\left|303\\right\\rangle } + 0.069 {\\left|311\\right\\rangle } + 0.069 {\\left|315\\right\\rangle } + 0.069 {\\left|317\\right\\rangle } + 0.069 {\\left|318\\right\\rangle } + 0.069 {\\left|335\\right\\rangle } + 0.069 {\\left|343\\right\\rangle } + 0.069 {\\left|347\\right\\rangle } + 0.069 {\\left|349\\right\\rangle } + 0.069 {\\left|350\\right\\rangle } + 0.069 {\\left|359\\right\\rangle } + 0.069 {\\left|363\\right\\rangle } + 0.069 {\\left|365\\right\\rangle } + 0.069 {\\left|366\\right\\rangle } + 0.069 {\\left|371\\right\\rangle } + 0.069 {\\left|373\\right\\rangle } + 0.069 {\\left|374\\right\\rangle } + 0.069 {\\left|377\\right\\rangle } + 0.069 {\\left|378\\right\\rangle } + 0.069 {\\left|380\\right\\rangle } + 0.069 {\\left|399\\right\\rangle } + 0.069 {\\left|407\\right\\rangle } + 0.069 {\\left|411\\right\\rangle } + 0.069 {\\left|413\\right\\rangle } + 0.069 {\\left|414\\right\\rangle } + 0.069 {\\left|423\\right\\rangle } + 0.069 {\\left|427\\right\\rangle } + 0.069 {\\left|429\\right\\rangle } + 0.069 {\\left|430\\right\\rangle } + 0.069 {\\left|435\\right\\rangle } + 0.069 {\\left|437\\right\\rangle } + 0.069 {\\left|438\\right\\rangle } + 0.069 {\\left|441\\right\\rangle } + 0.069 {\\left|442\\right\\rangle } + 0.069 {\\left|444\\right\\rangle } + 0.069 {\\left|455\\right\\rangle } + 0.069 {\\left|459\\right\\rangle } + 0.069 {\\left|461\\right\\rangle } + 0.069 {\\left|462\\right\\rangle } + 0.069 {\\left|467\\right\\rangle } + 0.069 {\\left|469\\right\\rangle } + 0.069 {\\left|470\\right\\rangle } + 0.069 {\\left|473\\right\\rangle } + 0.069 {\\left|474\\right\\rangle } + 0.069 {\\left|476\\right\\rangle } + 0.069 {\\left|483\\right\\rangle } + 0.069 {\\left|485\\right\\rangle } + 0.069 {\\left|486\\right\\rangle } + 0.069 {\\left|489\\right\\rangle } + 0.069 {\\left|490\\right\\rangle } + 0.069 {\\left|492\\right\\rangle } + 0.069 {\\left|497\\right\\rangle } + 0.069 {\\left|498\\right\\rangle } + 0.069 {\\left|500\\right\\rangle } + 0.069 {\\left|504\\right\\rangle } + 0.069 {\\left|543\\right\\rangle } + 0.069 {\\left|559\\right\\rangle } + 0.069 {\\left|567\\right\\rangle } + 0.069 {\\left|571\\right\\rangle } + 0.069 {\\left|573\\right\\rangle } + 0.069 {\\left|574\\right\\rangle } + 0.069 {\\left|591\\right\\rangle } + 0.069 {\\left|599\\right\\rangle } + 0.069 {\\left|603\\right\\rangle } + 0.069 {\\left|605\\right\\rangle } + 0.069 {\\left|606\\right\\rangle } + 0.069 {\\left|615\\right\\rangle } + 0.069 {\\left|619\\right\\rangle } + 0.069 {\\left|621\\right\\rangle } + 0.069 {\\left|622\\right\\rangle } + 0.069 {\\left|627\\right\\rangle } + 0.069 {\\left|629\\right\\rangle } + 0.069 {\\left|630\\right\\rangle } + 0.069 {\\left|633\\right\\rangle } + 0.069 {\\left|634\\right\\rangle } + 0.069 {\\left|636\\right\\rangle } + 0.069 {\\left|655\\right\\rangle } + 0.069 {\\left|663\\right\\rangle } + 0.069 {\\left|667\\right\\rangle } + 0.069 {\\left|669\\right\\rangle } + 0.069 {\\left|670\\right\\rangle } + 0.069 {\\left|679\\right\\rangle } + 0.069 {\\left|683\\right\\rangle } + 0.069 {\\left|685\\right\\rangle } + 0.069 {\\left|686\\right\\rangle } + 0.069 {\\left|691\\right\\rangle } + 0.069 {\\left|693\\right\\rangle } + 0.069 {\\left|694\\right\\rangle } + 0.069 {\\left|697\\right\\rangle } + 0.069 {\\left|698\\right\\rangle } + 0.069 {\\left|700\\right\\rangle } + 0.069 {\\left|711\\right\\rangle } + 0.069 {\\left|715\\right\\rangle } + 0.069 {\\left|717\\right\\rangle } + 0.069 {\\left|718\\right\\rangle } + 0.069 {\\left|723\\right\\rangle } + 0.069 {\\left|725\\right\\rangle } + 0.069 {\\left|726\\right\\rangle } + 0.069 {\\left|729\\right\\rangle } + 0.069 {\\left|730\\right\\rangle } + 0.069 {\\left|732\\right\\rangle } + 0.069 {\\left|739\\right\\rangle } + 0.069 {\\left|741\\right\\rangle } + 0.069 {\\left|742\\right\\rangle } + 0.069 {\\left|745\\right\\rangle } + 0.069 {\\left|746\\right\\rangle } + 0.069 {\\left|748\\right\\rangle } + 0.069 {\\left|753\\right\\rangle } + 0.069 {\\left|754\\right\\rangle } + 0.069 {\\left|756\\right\\rangle } + 0.069 {\\left|760\\right\\rangle } + 0.069 {\\left|783\\right\\rangle } + 0.069 {\\left|791\\right\\rangle } + 0.069 {\\left|795\\right\\rangle } + 0.069 {\\left|797\\right\\rangle } + 0.069 {\\left|798\\right\\rangle } + 0.069 {\\left|807\\right\\rangle } + 0.069 {\\left|811\\right\\rangle } + 0.069 {\\left|813\\right\\rangle } + 0.069 {\\left|814\\right\\rangle } + 0.069 {\\left|819\\right\\rangle } + 0.069 {\\left|821\\right\\rangle } + 0.069 {\\left|822\\right\\rangle } + 0.069 {\\left|825\\right\\rangle } + 0.069 {\\left|826\\right\\rangle } + 0.069 {\\left|828\\right\\rangle } + 0.069 {\\left|839\\right\\rangle } + 0.069 {\\left|843\\right\\rangle } + 0.069 {\\left|845\\right\\rangle } + 0.069 {\\left|846\\right\\rangle } + 0.069 {\\left|851\\right\\rangle } + 0.069 {\\left|853\\right\\rangle } + 0.069 {\\left|854\\right\\rangle } + 0.069 {\\left|857\\right\\rangle } + 0.069 {\\left|858\\right\\rangle } + 0.069 {\\left|860\\right\\rangle } + 0.069 {\\left|867\\right\\rangle } + 0.069 {\\left|869\\right\\rangle } + 0.069 {\\left|870\\right\\rangle } + 0.069 {\\left|873\\right\\rangle } + 0.069 {\\left|874\\right\\rangle } + 0.069 {\\left|876\\right\\rangle } + 0.069 {\\left|881\\right\\rangle } + 0.069 {\\left|882\\right\\rangle } + 0.069 {\\left|884\\right\\rangle } + 0.069 {\\left|888\\right\\rangle } + 0.069 {\\left|903\\right\\rangle } + 0.069 {\\left|907\\right\\rangle } + 0.069 {\\left|909\\right\\rangle } + 0.069 {\\left|910\\right\\rangle } + 0.069 {\\left|915\\right\\rangle } + 0.069 {\\left|917\\right\\rangle } + 0.069 {\\left|918\\right\\rangle } + 0.069 {\\left|921\\right\\rangle } + 0.069 {\\left|922\\right\\rangle } + 0.069 {\\left|924\\right\\rangle } + 0.069 {\\left|931\\right\\rangle } + 0.069 {\\left|933\\right\\rangle } + 0.069 {\\left|934\\right\\rangle } + 0.069 {\\left|937\\right\\rangle } + 0.069 {\\left|938\\right\\rangle } + 0.069 {\\left|940\\right\\rangle } + 0.069 {\\left|945\\right\\rangle } + 0.069 {\\left|946\\right\\rangle } + 0.069 {\\left|948\\right\\rangle } + 0.069 {\\left|952\\right\\rangle } + 0.069 {\\left|963\\right\\rangle } + 0.069 {\\left|965\\right\\rangle } + 0.069 {\\left|966\\right\\rangle } + 0.069 {\\left|969\\right\\rangle } + 0.069 {\\left|970\\right\\rangle } + 0.069 {\\left|972\\right\\rangle } + 0.069 {\\left|977\\right\\rangle } + 0.069 {\\left|978\\right\\rangle } + 0.069 {\\left|980\\right\\rangle } + 0.069 {\\left|984\\right\\rangle } + 0.069 {\\left|993\\right\\rangle } + 0.069 {\\left|994\\right\\rangle } + 0.069 {\\left|996\\right\\rangle } + 0.069 {\\left|1000\\right\\rangle } + 0.069 {\\left|1008\\right\\rangle }$"
      ],
      "text/plain": [
       "0.069*|63> + 0.069*|95> + 0.069*|111> + 0.069*|119> + 0.069*|123> + 0.069*|125> + 0.069*|126> + 0.069*|159> + 0.069*|175> + 0.069*|183> + 0.069*|187> + 0.069*|189> + 0.069*|190> + 0.069*|207> + 0.069*|215> + 0.069*|219> + 0.069*|221> + 0.069*|222> + 0.069*|231> + 0.069*|235> + 0.069*|237> + 0.069*|238> + 0.069*|243> + 0.069*|245> + 0.069*|246> + 0.069*|249> + 0.069*|250> + 0.069*|252> + 0.069*|287> + 0.069*|303> + 0.069*|311> + 0.069*|315> + 0.069*|317> + 0.069*|318> + 0.069*|335> + 0.069*|343> + 0.069*|347> + 0.069*|349> + 0.069*|350> + 0.069*|359> + 0.069*|363> + 0.069*|365> + 0.069*|366> + 0.069*|371> + 0.069*|373> + 0.069*|374> + 0.069*|377> + 0.069*|378> + 0.069*|380> + 0.069*|399> + 0.069*|407> + 0.069*|411> + 0.069*|413> + 0.069*|414> + 0.069*|423> + 0.069*|427> + 0.069*|429> + 0.069*|430> + 0.069*|435> + 0.069*|437> + 0.069*|438> + 0.069*|441> + 0.069*|442> + 0.069*|444> + 0.069*|455> + 0.069*|459> + 0.069*|461> + 0.069*|462> + 0.069*|467> + 0.069*|469> + 0.069*|470> + 0.069*|473> + 0.069*|474> + 0.069*|476> + 0.069*|483> + 0.069*|485> + 0.069*|486> + 0.069*|489> + 0.069*|490> + 0.069*|492> + 0.069*|497> + 0.069*|498> + 0.069*|500> + 0.069*|504> + 0.069*|543> + 0.069*|559> + 0.069*|567> + 0.069*|571> + 0.069*|573> + 0.069*|574> + 0.069*|591> + 0.069*|599> + 0.069*|603> + 0.069*|605> + 0.069*|606> + 0.069*|615> + 0.069*|619> + 0.069*|621> + 0.069*|622> + 0.069*|627> + 0.069*|629> + 0.069*|630> + 0.069*|633> + 0.069*|634> + 0.069*|636> + 0.069*|655> + 0.069*|663> + 0.069*|667> + 0.069*|669> + 0.069*|670> + 0.069*|679> + 0.069*|683> + 0.069*|685> + 0.069*|686> + 0.069*|691> + 0.069*|693> + 0.069*|694> + 0.069*|697> + 0.069*|698> + 0.069*|700> + 0.069*|711> + 0.069*|715> + 0.069*|717> + 0.069*|718> + 0.069*|723> + 0.069*|725> + 0.069*|726> + 0.069*|729> + 0.069*|730> + 0.069*|732> + 0.069*|739> + 0.069*|741> + 0.069*|742> + 0.069*|745> + 0.069*|746> + 0.069*|748> + 0.069*|753> + 0.069*|754> + 0.069*|756> + 0.069*|760> + 0.069*|783> + 0.069*|791> + 0.069*|795> + 0.069*|797> + 0.069*|798> + 0.069*|807> + 0.069*|811> + 0.069*|813> + 0.069*|814> + 0.069*|819> + 0.069*|821> + 0.069*|822> + 0.069*|825> + 0.069*|826> + 0.069*|828> + 0.069*|839> + 0.069*|843> + 0.069*|845> + 0.069*|846> + 0.069*|851> + 0.069*|853> + 0.069*|854> + 0.069*|857> + 0.069*|858> + 0.069*|860> + 0.069*|867> + 0.069*|869> + 0.069*|870> + 0.069*|873> + 0.069*|874> + 0.069*|876> + 0.069*|881> + 0.069*|882> + 0.069*|884> + 0.069*|888> + 0.069*|903> + 0.069*|907> + 0.069*|909> + 0.069*|910> + 0.069*|915> + 0.069*|917> + 0.069*|918> + 0.069*|921> + 0.069*|922> + 0.069*|924> + 0.069*|931> + 0.069*|933> + 0.069*|934> + 0.069*|937> + 0.069*|938> + 0.069*|940> + 0.069*|945> + 0.069*|946> + 0.069*|948> + 0.069*|952> + 0.069*|963> + 0.069*|965> + 0.069*|966> + 0.069*|969> + 0.069*|970> + 0.069*|972> + 0.069*|977> + 0.069*|978> + 0.069*|980> + 0.069*|984> + 0.069*|993> + 0.069*|994> + 0.069*|996> + 0.069*|1000> + 0.069*|1008>"
      ]
     },
     "execution_count": 15,
     "metadata": {},
     "output_type": "execute_result"
    }
   ],
   "source": [
    "k=4\n",
    "\n",
    "def U_0(qv):\n",
    "    [x(qv[i]) for i in range(k,L)]\n",
    "    dicke_state(qv,L-k)\n",
    "\n",
    "qf = QuantumFloat(L)\n",
    "U_0(qf)\n",
    "qf.qs.statevector(decimals=4)"
   ]
  },
  {
   "cell_type": "code",
   "execution_count": null,
   "metadata": {},
   "outputs": [],
   "source": []
  },
  {
   "cell_type": "code",
   "execution_count": 17,
   "metadata": {},
   "outputs": [],
   "source": [
    "O = H.hermitize().eliminate_ladder_conjugates()\n",
    "commuting_groups = O.group_up(lambda a, b: a.commute(b))\n",
    "#for group in commuting_groups:\n",
    "#    print(group)\n",
    "\n",
    "def trotter_step_2(qarg, t, steps):\n",
    "    dt = t / steps\n",
    "    #\n",
    "    # 1) Forward half-step\n",
    "    #\n",
    "    for com_group in commuting_groups:\n",
    "        with conjugate(com_group.change_of_basis)(qarg, method=\"commuting\") as diagonal_operator:\n",
    "            intersect_groups = diagonal_operator.group_up(lambda a, b: not a.intersect(b))\n",
    "            for intersect_group in intersect_groups:\n",
    "                for term, coeff in intersect_group.terms_dict.items():\n",
    "                    term.simulate(\n",
    "                        -coeff * (dt/2) * (-1),\n",
    "                        qarg\n",
    "                    )\n",
    "    \n",
    "    #\n",
    "    # 2) Backward half-step (reverse order)\n",
    "    #\n",
    "    for com_group in reversed(commuting_groups):\n",
    "        with conjugate(com_group.change_of_basis)(qarg, method=\"commuting\") as diagonal_operator:\n",
    "            intersect_groups = diagonal_operator.group_up(lambda a, b: not a.intersect(b))\n",
    "            for intersect_group in intersect_groups:\n",
    "                for term, coeff in intersect_group.terms_dict.items():\n",
    "                    term.simulate(\n",
    "                        -coeff * (dt/2) * (-1),\n",
    "                        qarg\n",
    "                    )\n",
    "\n",
    "F=10\n",
    "\n",
    "def exp_H_2(qv, t, steps=2):\n",
    "    for i in range(steps):\n",
    "        trotter_step_2(qv, t/F, steps)"
   ]
  },
  {
   "cell_type": "markdown",
   "metadata": {},
   "source": [
    "## QITE with dicke"
   ]
  },
  {
   "cell_type": "code",
   "execution_count": 28,
   "metadata": {},
   "outputs": [
    {
     "name": "stdout",
     "output_type": "stream",
     "text": [
      "                                                                                     \u001b[2K\r"
     ]
    }
   ],
   "source": [
    "from qrisp import QuantumVariable, x, dicke_state\n",
    "\n",
    "def U_0(qv):\n",
    "    [x(qv[i]) for i in range(4,L)]\n",
    "    dicke_state(qv,L-4)\n",
    "\n",
    "results = []\n",
    "\n",
    "results.append(run_QITE(H, U_0, exp_H_2, np.linspace(.01,5.0,20), 3, method='GC', use_statevectors=True))"
   ]
  },
  {
   "cell_type": "code",
   "execution_count": 29,
   "metadata": {},
   "outputs": [
    {
     "name": "stdout",
     "output_type": "stream",
     "text": [
      "Eigen energies: [-23.93848705 -23.80492013 -22.96201964 ...  32.80422607  33.\n",
      "  39.        ]\n"
     ]
    },
    {
     "data": {
      "text/plain": [
       "[np.float64(7.368043378527874e-20),\n",
       " np.float64(5.2654135699976456e-17),\n",
       " np.float64(2.42824352417883e-18),\n",
       " np.float64(7.601399692046814e-09)]"
      ]
     },
     "execution_count": 29,
     "metadata": {},
     "output_type": "execute_result"
    }
   ],
   "source": [
    "H_matrix = H.to_array()\n",
    "eigvals, eigvecs = np.linalg.eigh(H_matrix)\n",
    "idx = np.argsort(eigvals)\n",
    "eigvals_sorted = eigvals[idx].real\n",
    "print('Eigen energies:', eigvals_sorted)\n",
    "eigvecs_sorted = eigvecs[:,idx].T\n",
    "eigvecs_sorted = [vec.reshape(-1,1) for vec in eigvecs_sorted]\n",
    "\n",
    "psi = eigvecs_sorted[0]\n",
    "states = results[0][\"statevectors\"]\n",
    "\n",
    "fidelities = []\n",
    "for phi in states:\n",
    "    fidelities.append(np.abs(np.dot(psi.transpose()[0],phi))**2)\n",
    "\n",
    "fidelities"
   ]
  },
  {
   "cell_type": "code",
   "execution_count": null,
   "metadata": {},
   "outputs": [],
   "source": []
  }
 ],
 "metadata": {
  "kernelspec": {
   "display_name": "qrisp",
   "language": "python",
   "name": "python3"
  },
  "language_info": {
   "codemirror_mode": {
    "name": "ipython",
    "version": 3
   },
   "file_extension": ".py",
   "mimetype": "text/x-python",
   "name": "python",
   "nbconvert_exporter": "python",
   "pygments_lexer": "ipython3",
   "version": "3.10.16"
  }
 },
 "nbformat": 4,
 "nbformat_minor": 2
}
