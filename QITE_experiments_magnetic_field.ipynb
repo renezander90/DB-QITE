{
 "cells": [
  {
   "cell_type": "code",
   "execution_count": 2,
   "metadata": {},
   "outputs": [],
   "source": [
    "from qrisp import QuantumVariable, h, x, prepare, conjugate\n",
    "from qrisp.vqe.problems.heisenberg import create_heisenberg_init_function, heisenberg_problem, create_heisenberg_hamiltonian\n",
    "import networkx as nx\n",
    "import numpy as np\n",
    "import scipy\n",
    "import matplotlib.pyplot as plt\n",
    "from run_QITE import run_QITE\n",
    "\n",
    "import pickle\n",
    "from time import time\n",
    "from datetime import datetime\n",
    "\n",
    "def save_data(data, filename):  \n",
    "    # Open a file for writing\n",
    "    with open(filename+'.pickle', 'wb') as file:\n",
    "        # Write the object to the file\n",
    "        pickle.dump(data, file)\n",
    "\n",
    "def load_data(filename):\n",
    "    with open(filename+'.pickle', 'rb') as file:\n",
    "        # Load the object from the file\n",
    "        data = pickle.load(file)\n",
    "    return data"
   ]
  },
  {
   "cell_type": "markdown",
   "metadata": {},
   "source": [
    "# Investigate the ground states for inceasing magnetig field strength B"
   ]
  },
  {
   "cell_type": "markdown",
   "metadata": {},
   "source": [
    "# L=4"
   ]
  },
  {
   "cell_type": "code",
   "execution_count": 3,
   "metadata": {},
   "outputs": [
    {
     "name": "stdout",
     "output_type": "stream",
     "text": [
      "X(0)*X(1) + X(1)*X(2) + X(2)*X(3) + Y(0)*Y(1) + Y(1)*Y(2) + Y(2)*Y(3) + 3*Z(0) + Z(0)*Z(1) + 3*Z(1) + Z(1)*Z(2) + 3*Z(2) + Z(2)*Z(3) + 3*Z(3)\n",
      "Eigen energies: [-9.82842712 -9.         -7.         -6.46410162 -4.17157288 -3.82842712\n",
      " -3.         -1.          0.46410162  1.82842712  2.17157288  3.\n",
      "  5.          7.82842712  9.         15.        ]\n"
     ]
    }
   ],
   "source": [
    "L = 4\n",
    "G = nx.Graph()\n",
    "G.add_edges_from([(k,(k+1)%L) for k in range(L-1)]) \n",
    "\n",
    "J = 1\n",
    "B = 3\n",
    "H = create_heisenberg_hamiltonian(G, J, B)\n",
    "print(H)\n",
    "\n",
    "\n",
    "H_matrix = H.to_array()\n",
    "eigvals, eigvecs = np.linalg.eigh(H_matrix)\n",
    "idx = np.argsort(eigvals)\n",
    "eigvals_sorted = eigvals[idx].real\n",
    "print('Eigen energies:', eigvals_sorted)\n",
    "eigvecs_sorted = eigvecs[:,idx].T\n",
    "eigvecs_sorted = [vec.reshape(-1,1) for vec in eigvecs_sorted]\n",
    "\n",
    "psi = eigvecs_sorted[0]"
   ]
  },
  {
   "cell_type": "code",
   "execution_count": 4,
   "metadata": {},
   "outputs": [
    {
     "name": "stdout",
     "output_type": "stream",
     "text": [
      "                                                                                     \u001b[2K\r"
     ]
    },
    {
     "data": {
      "text/latex": [
       "$\\displaystyle - 0.2706 {\\left|7\\right\\rangle } + 0.6533 {\\left|11\\right\\rangle } - 0.6533 {\\left|13\\right\\rangle } + 0.2706 {\\left|14\\right\\rangle }$"
      ],
      "text/plain": [
       "-0.2706*|7> + 0.6533*|11> - 0.6533*|13> + 0.2706*|14>"
      ]
     },
     "execution_count": 4,
     "metadata": {},
     "output_type": "execute_result"
    }
   ],
   "source": [
    "from qrisp import *\n",
    "\n",
    "qf = QuantumFloat(L)\n",
    "prepare(qf, psi.transpose()[0])\n",
    "\n",
    "qf.qs.statevector(decimals=4)"
   ]
  },
  {
   "cell_type": "code",
   "execution_count": 5,
   "metadata": {},
   "outputs": [
    {
     "name": "stdout",
     "output_type": "stream",
     "text": [
      "                                                                                     \u001b[2K\r"
     ]
    },
    {
     "data": {
      "text/latex": [
       "$\\displaystyle 0.5 {\\left|7\\right\\rangle } + 0.5 {\\left|11\\right\\rangle } + 0.5 {\\left|13\\right\\rangle } + 0.5 {\\left|14\\right\\rangle }$"
      ],
      "text/plain": [
       "0.5*|7> + 0.5*|11> + 0.5*|13> + 0.5*|14>"
      ]
     },
     "execution_count": 5,
     "metadata": {},
     "output_type": "execute_result"
    }
   ],
   "source": [
    "from qrisp import QuantumFloat, x, z, dicke_state\n",
    "\n",
    "def U_0(qv):\n",
    "    [x(qv[i]) for i in range(1,L)]\n",
    "    dicke_state(qv,L)\n",
    "\n",
    "qf = QuantumFloat(L)\n",
    "U_0(qf)\n",
    "qf.qs.statevector(decimals=4)"
   ]
  },
  {
   "cell_type": "markdown",
   "metadata": {},
   "source": [
    "# L=10"
   ]
  },
  {
   "cell_type": "code",
   "execution_count": 15,
   "metadata": {},
   "outputs": [],
   "source": [
    "L = 10\n",
    "G = nx.Graph()\n",
    "G.add_edges_from([(k,(k+1)%L) for k in range(L-1)]) \n",
    "# nx.draw(G, with_labels=True)"
   ]
  },
  {
   "cell_type": "code",
   "execution_count": 24,
   "metadata": {},
   "outputs": [
    {
     "name": "stdout",
     "output_type": "stream",
     "text": [
      "X(0)*X(1) + X(1)*X(2) + X(2)*X(3) + X(3)*X(4) + X(4)*X(5) + X(5)*X(6) + X(6)*X(7) + X(7)*X(8) + X(8)*X(9) + Y(0)*Y(1) + Y(1)*Y(2) + Y(2)*Y(3) + Y(3)*Y(4) + Y(4)*Y(5) + Y(5)*Y(6) + Y(6)*Y(7) + Y(7)*Y(8) + Y(8)*Y(9) + 3*Z(0) + Z(0)*Z(1) + 3*Z(1) + Z(1)*Z(2) + 3*Z(2) + Z(2)*Z(3) + 3*Z(3) + Z(3)*Z(4) + 3*Z(4) + Z(4)*Z(5) + 3*Z(5) + Z(5)*Z(6) + 3*Z(6) + Z(6)*Z(7) + 3*Z(7) + Z(7)*Z(8) + 3*Z(8) + Z(8)*Z(9) + 3*Z(9)\n"
     ]
    }
   ],
   "source": [
    "from qrisp.operators import X, Y, Z\n",
    "\n",
    "J = 1\n",
    "B = 3\n",
    "H = create_heisenberg_hamiltonian(G, J, B)\n",
    "print(H)\n",
    "\n",
    "# Define scaling factor\n",
    "F = 10\n",
    "\n",
    "# Hamiltonian simulation via first order Suzuki-Trotter formula with 5 steps\n",
    "def exp_H(qv, t):\n",
    "    H.trotterization(method='commuting')(qv,t/F,5)"
   ]
  },
  {
   "cell_type": "code",
   "execution_count": 25,
   "metadata": {},
   "outputs": [
    {
     "name": "stdout",
     "output_type": "stream",
     "text": [
      "Eigen energies: [-23.93848705 -23.80492013 -22.96201964 ...  32.80422607  33.\n",
      "  39.        ]\n",
      "                                                                                     \u001b[2K\r"
     ]
    },
    {
     "data": {
      "text/latex": [
       "$\\displaystyle - 0.0013 {\\left|255\\right\\rangle } + 0.0087 {\\left|383\\right\\rangle } - 0.0257 {\\left|447\\right\\rangle } + 0.0499 {\\left|479\\right\\rangle } - 0.0739 {\\left|495\\right\\rangle } + 0.0882 {\\left|503\\right\\rangle } - 0.085 {\\left|507\\right\\rangle } + 0.0617 {\\left|509\\right\\rangle } - 0.0225 {\\left|510\\right\\rangle } - 0.0119 {\\left|639\\right\\rangle } + 0.0561 {\\left|703\\right\\rangle } - 0.1233 {\\left|735\\right\\rangle } + 0.1923 {\\left|751\\right\\rangle } - 0.2353 {\\left|759\\right\\rangle } + 0.2298 {\\left|763\\right\\rangle } - 0.168 {\\left|765\\right\\rangle } + 0.0617 {\\left|766\\right\\rangle } - 0.0339 {\\left|831\\right\\rangle } + 0.1295 {\\left|863\\right\\rangle } - 0.2344 {\\left|879\\right\\rangle } + 0.3062 {\\left|887\\right\\rangle } - 0.309 {\\left|891\\right\\rangle } + 0.2298 {\\left|893\\right\\rangle } - 0.085 {\\left|894\\right\\rangle } - 0.0576 {\\left|927\\right\\rangle } + 0.1854 {\\left|943\\right\\rangle } - 0.2834 {\\left|951\\right\\rangle } + 0.3062 {\\left|955\\right\\rangle } - 0.2353 {\\left|957\\right\\rangle } + 0.0882 {\\left|958\\right\\rangle } - 0.0678 {\\left|975\\right\\rangle } + 0.1854 {\\left|983\\right\\rangle } - 0.2344 {\\left|987\\right\\rangle } + 0.1923 {\\left|989\\right\\rangle } - 0.0739 {\\left|990\\right\\rangle } - 0.0576 {\\left|999\\right\\rangle } + 0.1295 {\\left|1003\\right\\rangle } - 0.1233 {\\left|1005\\right\\rangle } + 0.0499 {\\left|1006\\right\\rangle } - 0.0339 {\\left|1011\\right\\rangle } + 0.0561 {\\left|1013\\right\\rangle } - 0.0257 {\\left|1014\\right\\rangle } - 0.0119 {\\left|1017\\right\\rangle } + 0.0087 {\\left|1018\\right\\rangle } - 0.0013 {\\left|1020\\right\\rangle }$"
      ],
      "text/plain": [
       "-0.0013*|255> + 0.0087*|383> - 0.0257*|447> + 0.0499*|479> - 0.0739*|495> + 0.0882*|503> - 0.085*|507> + 0.0617*|509> - 0.0225*|510> - 0.0119*|639> + 0.0561*|703> - 0.1233*|735> + 0.1923*|751> - 0.2353*|759> + 0.2298*|763> - 0.168*|765> + 0.0617*|766> - 0.0339*|831> + 0.1295*|863> - 0.2344*|879> + 0.3062*|887> - 0.309*|891> + 0.2298*|893> - 0.085*|894> - 0.0576*|927> + 0.1854*|943> - 0.2834*|951> + 0.3062*|955> - 0.2353*|957> + 0.0882*|958> - 0.0678*|975> + 0.1854*|983> - 0.2344*|987> + 0.1923*|989> - 0.0739*|990> - 0.0576*|999> + 0.1295*|1003> - 0.1233*|1005> + 0.0499*|1006> - 0.0339*|1011> + 0.0561*|1013> - 0.0257*|1014> - 0.0119*|1017> + 0.0087*|1018> - 0.0013*|1020>"
      ]
     },
     "execution_count": 25,
     "metadata": {},
     "output_type": "execute_result"
    }
   ],
   "source": [
    "H_matrix = H.to_array()\n",
    "eigvals, eigvecs = np.linalg.eigh(H_matrix)\n",
    "idx = np.argsort(eigvals)\n",
    "eigvals_sorted = eigvals[idx].real\n",
    "print('Eigen energies:', eigvals_sorted)\n",
    "eigvecs_sorted = eigvecs[:,idx].T\n",
    "eigvecs_sorted = [vec.reshape(-1,1) for vec in eigvecs_sorted]\n",
    "\n",
    "psi = eigvecs_sorted[0]\n",
    "\n",
    "qf = QuantumFloat(L)\n",
    "prepare(qf, psi.transpose()[0])\n",
    "\n",
    "qf.qs.statevector(decimals=4)"
   ]
  },
  {
   "cell_type": "code",
   "execution_count": 27,
   "metadata": {},
   "outputs": [
    {
     "name": "stdout",
     "output_type": "stream",
     "text": [
      "hello\n",
      "                                                                                     \u001b[2K\r"
     ]
    },
    {
     "data": {
      "text/latex": [
       "$\\displaystyle 0.1491 {\\left|255\\right\\rangle } + 0.1491 {\\left|383\\right\\rangle } + 0.1491 {\\left|447\\right\\rangle } + 0.1491 {\\left|479\\right\\rangle } + 0.1491 {\\left|495\\right\\rangle } + 0.1491 {\\left|503\\right\\rangle } + 0.1491 {\\left|507\\right\\rangle } + 0.1491 {\\left|509\\right\\rangle } + 0.1491 {\\left|510\\right\\rangle } + 0.1491 {\\left|639\\right\\rangle } + 0.1491 {\\left|703\\right\\rangle } + 0.1491 {\\left|735\\right\\rangle } + 0.1491 {\\left|751\\right\\rangle } + 0.1491 {\\left|759\\right\\rangle } + 0.1491 {\\left|763\\right\\rangle } + 0.1491 {\\left|765\\right\\rangle } + 0.1491 {\\left|766\\right\\rangle } + 0.1491 {\\left|831\\right\\rangle } + 0.1491 {\\left|863\\right\\rangle } + 0.1491 {\\left|879\\right\\rangle } + 0.1491 {\\left|887\\right\\rangle } + 0.1491 {\\left|891\\right\\rangle } + 0.1491 {\\left|893\\right\\rangle } + 0.1491 {\\left|894\\right\\rangle } + 0.1491 {\\left|927\\right\\rangle } + 0.1491 {\\left|943\\right\\rangle } + 0.1491 {\\left|951\\right\\rangle } + 0.1491 {\\left|955\\right\\rangle } + 0.1491 {\\left|957\\right\\rangle } + 0.1491 {\\left|958\\right\\rangle } + 0.1491 {\\left|975\\right\\rangle } + 0.1491 {\\left|983\\right\\rangle } + 0.1491 {\\left|987\\right\\rangle } + 0.1491 {\\left|989\\right\\rangle } + 0.1491 {\\left|990\\right\\rangle } + 0.1491 {\\left|999\\right\\rangle } + 0.1491 {\\left|1003\\right\\rangle } + 0.1491 {\\left|1005\\right\\rangle } + 0.1491 {\\left|1006\\right\\rangle } + 0.1491 {\\left|1011\\right\\rangle } + 0.1491 {\\left|1013\\right\\rangle } + 0.1491 {\\left|1014\\right\\rangle } + 0.1491 {\\left|1017\\right\\rangle } + 0.1491 {\\left|1018\\right\\rangle } + 0.1491 {\\left|1020\\right\\rangle }$"
      ],
      "text/plain": [
       "0.1491*|255> + 0.1491*|383> + 0.1491*|447> + 0.1491*|479> + 0.1491*|495> + 0.1491*|503> + 0.1491*|507> + 0.1491*|509> + 0.1491*|510> + 0.1491*|639> + 0.1491*|703> + 0.1491*|735> + 0.1491*|751> + 0.1491*|759> + 0.1491*|763> + 0.1491*|765> + 0.1491*|766> + 0.1491*|831> + 0.1491*|863> + 0.1491*|879> + 0.1491*|887> + 0.1491*|891> + 0.1491*|893> + 0.1491*|894> + 0.1491*|927> + 0.1491*|943> + 0.1491*|951> + 0.1491*|955> + 0.1491*|957> + 0.1491*|958> + 0.1491*|975> + 0.1491*|983> + 0.1491*|987> + 0.1491*|989> + 0.1491*|990> + 0.1491*|999> + 0.1491*|1003> + 0.1491*|1005> + 0.1491*|1006> + 0.1491*|1011> + 0.1491*|1013> + 0.1491*|1014> + 0.1491*|1017> + 0.1491*|1018> + 0.1491*|1020>"
      ]
     },
     "execution_count": 27,
     "metadata": {},
     "output_type": "execute_result"
    }
   ],
   "source": [
    "def U_0(qv):\n",
    "    print(\"hello\")\n",
    "    [x(qv[i]) for i in range(2,L)]\n",
    "    dicke_state(qv,L-2)\n",
    "\n",
    "qf = QuantumFloat(L)\n",
    "U_0(qf)\n",
    "qf.qs.statevector(decimals=4)"
   ]
  },
  {
   "cell_type": "code",
   "execution_count": null,
   "metadata": {},
   "outputs": [],
   "source": []
  },
  {
   "cell_type": "code",
   "execution_count": 17,
   "metadata": {},
   "outputs": [],
   "source": [
    "O = H.hermitize().eliminate_ladder_conjugates()\n",
    "commuting_groups = O.group_up(lambda a, b: a.commute(b))\n",
    "#for group in commuting_groups:\n",
    "#    print(group)\n",
    "\n",
    "def trotter_step_2(qarg, t, steps):\n",
    "    dt = t / steps\n",
    "    #\n",
    "    # 1) Forward half-step\n",
    "    #\n",
    "    for com_group in commuting_groups:\n",
    "        with conjugate(com_group.change_of_basis)(qarg, method=\"commuting\") as diagonal_operator:\n",
    "            intersect_groups = diagonal_operator.group_up(lambda a, b: not a.intersect(b))\n",
    "            for intersect_group in intersect_groups:\n",
    "                for term, coeff in intersect_group.terms_dict.items():\n",
    "                    term.simulate(\n",
    "                        -coeff * (dt/2) * (-1),\n",
    "                        qarg\n",
    "                    )\n",
    "    \n",
    "    #\n",
    "    # 2) Backward half-step (reverse order)\n",
    "    #\n",
    "    for com_group in reversed(commuting_groups):\n",
    "        with conjugate(com_group.change_of_basis)(qarg, method=\"commuting\") as diagonal_operator:\n",
    "            intersect_groups = diagonal_operator.group_up(lambda a, b: not a.intersect(b))\n",
    "            for intersect_group in intersect_groups:\n",
    "                for term, coeff in intersect_group.terms_dict.items():\n",
    "                    term.simulate(\n",
    "                        -coeff * (dt/2) * (-1),\n",
    "                        qarg\n",
    "                    )\n",
    "\n",
    "F=10\n",
    "\n",
    "def exp_H_2(qv, t, steps=2):\n",
    "    for i in range(steps):\n",
    "        trotter_step_2(qv, t/F, steps)"
   ]
  },
  {
   "cell_type": "markdown",
   "metadata": {},
   "source": [
    "## QITE with dicke"
   ]
  },
  {
   "cell_type": "code",
   "execution_count": 28,
   "metadata": {},
   "outputs": [
    {
     "name": "stdout",
     "output_type": "stream",
     "text": [
      "                                                                                     \u001b[2K\r"
     ]
    }
   ],
   "source": [
    "from qrisp import QuantumVariable, x, dicke_state\n",
    "\n",
    "def U_0(qv):\n",
    "    [x(qv[i]) for i in range(4,L)]\n",
    "    dicke_state(qv,L-4)\n",
    "\n",
    "results = []\n",
    "\n",
    "results.append(run_QITE(H, U_0, exp_H_2, np.linspace(.01,5.0,20), 3, method='GC', use_statevectors=True))"
   ]
  },
  {
   "cell_type": "code",
   "execution_count": 29,
   "metadata": {},
   "outputs": [
    {
     "name": "stdout",
     "output_type": "stream",
     "text": [
      "Eigen energies: [-23.93848705 -23.80492013 -22.96201964 ...  32.80422607  33.\n",
      "  39.        ]\n"
     ]
    },
    {
     "data": {
      "text/plain": [
       "[np.float64(7.368043378527874e-20),\n",
       " np.float64(5.2654135699976456e-17),\n",
       " np.float64(2.42824352417883e-18),\n",
       " np.float64(7.601399692046814e-09)]"
      ]
     },
     "execution_count": 29,
     "metadata": {},
     "output_type": "execute_result"
    }
   ],
   "source": [
    "H_matrix = H.to_array()\n",
    "eigvals, eigvecs = np.linalg.eigh(H_matrix)\n",
    "idx = np.argsort(eigvals)\n",
    "eigvals_sorted = eigvals[idx].real\n",
    "print('Eigen energies:', eigvals_sorted)\n",
    "eigvecs_sorted = eigvecs[:,idx].T\n",
    "eigvecs_sorted = [vec.reshape(-1,1) for vec in eigvecs_sorted]\n",
    "\n",
    "psi = eigvecs_sorted[0]\n",
    "states = results[0][\"statevectors\"]\n",
    "\n",
    "fidelities = []\n",
    "for phi in states:\n",
    "    fidelities.append(np.abs(np.dot(psi.transpose()[0],phi))**2)\n",
    "\n",
    "fidelities"
   ]
  },
  {
   "cell_type": "code",
   "execution_count": null,
   "metadata": {},
   "outputs": [],
   "source": []
  }
 ],
 "metadata": {
  "kernelspec": {
   "display_name": "qrisp",
   "language": "python",
   "name": "python3"
  },
  "language_info": {
   "codemirror_mode": {
    "name": "ipython",
    "version": 3
   },
   "file_extension": ".py",
   "mimetype": "text/x-python",
   "name": "python",
   "nbconvert_exporter": "python",
   "pygments_lexer": "ipython3",
   "version": "3.10.16"
  }
 },
 "nbformat": 4,
 "nbformat_minor": 2
}
