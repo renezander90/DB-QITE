{
 "cells": [
  {
   "cell_type": "markdown",
   "id": "e8d1c6a4",
   "metadata": {},
   "source": [
    "# Heisenberg XXX model\n",
    "\n",
    "$$ H_{\\text{TFIM}} = \\sum_{j=1}^{L}(X_jX_{j+1}+Y_jY_{j+1}+Z_jZ_{j+1}) $$\n",
    "\n",
    "pip install qrisp \n",
    "\n",
    "https://www.qrisp.eu\n"
   ]
  },
  {
   "cell_type": "code",
   "execution_count": 4,
   "id": "ba14dbf3",
   "metadata": {},
   "outputs": [],
   "source": [
    "import networkx as nx\n",
    "import numpy as np\n",
    "from scipy.sparse.linalg import eigsh\n",
    "from scipy.sparse.linalg import svds\n",
    "\n",
    "\n",
    "# Create a graph\n",
    "L = 20\n",
    "G = nx.Graph()\n",
    "G.add_edges_from([(k,k+1) for k in range(L-1)]) \n",
    "#nx.draw(G, with_labels=True)"
   ]
  },
  {
   "cell_type": "markdown",
   "id": "5dbc5821",
   "metadata": {},
   "source": [
    "## Define Heisenberg Hamiltonian"
   ]
  },
  {
   "cell_type": "code",
   "execution_count": 5,
   "id": "065122e0",
   "metadata": {},
   "outputs": [
    {
     "name": "stdout",
     "output_type": "stream",
     "text": [
      "X(0)*X(1) + X(1)*X(2) + X(10)*X(11) + X(11)*X(12) + X(12)*X(13) + X(13)*X(14) + X(14)*X(15) + X(15)*X(16) + X(16)*X(17) + X(17)*X(18) + X(18)*X(19) + X(2)*X(3) + X(3)*X(4) + X(4)*X(5) + X(5)*X(6) + X(6)*X(7) + X(7)*X(8) + X(8)*X(9) + X(9)*X(10) + Y(0)*Y(1) + Y(1)*Y(2) + Y(10)*Y(11) + Y(11)*Y(12) + Y(12)*Y(13) + Y(13)*Y(14) + Y(14)*Y(15) + Y(15)*Y(16) + Y(16)*Y(17) + Y(17)*Y(18) + Y(18)*Y(19) + Y(2)*Y(3) + Y(3)*Y(4) + Y(4)*Y(5) + Y(5)*Y(6) + Y(6)*Y(7) + Y(7)*Y(8) + Y(8)*Y(9) + Y(9)*Y(10) + Z(0)*Z(1) + Z(1)*Z(2) + Z(10)*Z(11) + Z(11)*Z(12) + Z(12)*Z(13) + Z(13)*Z(14) + Z(14)*Z(15) + Z(15)*Z(16) + Z(16)*Z(17) + Z(17)*Z(18) + Z(18)*Z(19) + Z(2)*Z(3) + Z(3)*Z(4) + Z(4)*Z(5) + Z(5)*Z(6) + Z(6)*Z(7) + Z(7)*Z(8) + Z(8)*Z(9) + Z(9)*Z(10)\n"
     ]
    }
   ],
   "source": [
    "from qrisp.operators import X, Y, Z\n",
    "\n",
    "def create_heisenberg_hamiltonian(G):\n",
    "    H = sum(X(i)*X(j)+Y(i)*Y(j)+Z(i)*Z(j) for (i,j) in G.edges())\n",
    "    return H\n",
    "\n",
    "H = create_heisenberg_hamiltonian(G)\n",
    "print(H)"
   ]
  },
  {
   "cell_type": "markdown",
   "id": "1438e2e1",
   "metadata": {},
   "source": [
    "## Calculate eigenvalues clasically"
   ]
  },
  {
   "cell_type": "code",
   "execution_count": 6,
   "id": "4472e67e",
   "metadata": {},
   "outputs": [
    {
     "name": "stdout",
     "output_type": "stream",
     "text": [
      "Spectral gap: 0.013162432840264492\n",
      "Ground state energy: -1.3925187352195666e-15\n"
     ]
    }
   ],
   "source": [
    "M = H.to_sparse_matrix()\n",
    "eigenvalues, eigenvectors = eigsh(M, k=1, which='SA')\n",
    "E0 = eigenvalues[0]\n",
    "\n",
    "# Rescale to E0=0\n",
    "H2 = H - E0\n",
    "\n",
    "M = H2.to_sparse_matrix()\n",
    "u, s, vt = svds(M, k=1, which='LM')\n",
    "spectral_norm = s[0]\n",
    "\n",
    "E_max = spectral_norm\n",
    "\n",
    "# Rescale such that spectrum in [0,1)\n",
    "H3 = H2*(1/(E_max+1))\n",
    "\n",
    "M = H3.to_sparse_matrix()\n",
    "eigenvalues, eigenvectors = eigsh(M, k=2, which='SA')\n",
    "\n",
    "# ground state\n",
    "psi0 = eigenvectors[:,0]\n",
    "\n",
    "E0 = eigenvalues[0]\n",
    "E1 = eigenvalues[1]\n",
    "\n",
    "delta = E1-E0\n",
    "print('Spectral gap:', delta)\n",
    "print('Ground state energy:', E0)\n"
   ]
  },
  {
   "cell_type": "markdown",
   "id": "0120af2b",
   "metadata": {},
   "source": [
    "## VQE warm start \n",
    "\n",
    "* 2 layers of problem specific Ansatz: https://arxiv.org/abs/2108.08086, https://qrisp.eu/reference/Algorithms/vqe/vqeProblems/heisenberg.html"
   ]
  },
  {
   "cell_type": "code",
   "execution_count": 7,
   "id": "aab14084",
   "metadata": {},
   "outputs": [
    {
     "name": "stdout",
     "output_type": "stream",
     "text": [
      "                                                                                     \u001b[2K\u001b[2K\r"
     ]
    },
    {
     "name": "stderr",
     "output_type": "stream",
     "text": [
      "/Users/renezander/Desktop/Qrisp/src/qrisp/operators/qubit/qubit_operator.py:1570: UserWarning: DeprecationWarning: This method will no longer be supported in a later release of Qrisp. Instead please migrate to .expectation_value.\n",
      "  warnings.warn(\"DeprecationWarning: This method will no longer be supported in a later release of Qrisp. Instead please migrate to .expectation_value.\")\n"
     ]
    },
    {
     "name": "stdout",
     "output_type": "stream",
     "text": [
      "0.03373946602265761                                                                  \u001b[2K\n",
      "Fidelity: 0.6451660561959907                                                         \u001b[2K\n"
     ]
    }
   ],
   "source": [
    "from qrisp import QuantumVariable\n",
    "from qrisp.vqe.problems.heisenberg import *\n",
    "from qrisp import QPE\n",
    "\n",
    "vqe = heisenberg_problem(G,1,0)\n",
    "U_0 = vqe.train_function(QuantumVariable(G.number_of_nodes()),depth=1,max_iter=100)\n",
    "\n",
    "qv = QuantumVariable(G.number_of_nodes())\n",
    "U_0(qv)\n",
    "E_0 = H3.get_measurement(qv,precision=0.001)\n",
    "print(E_0)\n",
    "\n",
    "psi = qv.qs.statevector_array()\n",
    "\n",
    "F0 = np.abs(np.dot(psi.conj().transpose(),psi0))**2\n",
    "print('Fidelity:', F0)"
   ]
  },
  {
   "cell_type": "markdown",
   "id": "705b609c",
   "metadata": {},
   "source": [
    "## QPE\n",
    "\n",
    "Recall that $n+\\lceil \\log(2+\\frac{1}{2\\epsilon})\\rceil$ precision qubits for QPE yield an estimate accurate to $n$ bits with probability $1-\\epsilon$."
   ]
  },
  {
   "cell_type": "code",
   "execution_count": 17,
   "id": "770b6af0",
   "metadata": {},
   "outputs": [
    {
     "name": "stdout",
     "output_type": "stream",
     "text": [
      "{'x': 20, 'h': 1704, 'p': 117, 'cx': 6342, 'rz': 3388, 'sx': 874, 'sx_dg': 874, 'QFT_dg': 1, 'gphase': 1}\n",
      "{'u3': 11007, 'cz': 6360}\n",
      "24\n",
      "6782\n"
     ]
    }
   ],
   "source": [
    "\n",
    "qv = QuantumVariable(G.number_of_nodes())\n",
    "U_0(qv)\n",
    "\n",
    "# Hamiltonian simulation via first second Suzuki-Trotter formula with 2 steps \n",
    "exp_H = H3.trotterization(order=2,forward_evolution=False)\n",
    "\n",
    "qpe_res = QPE(qv,exp_H,precision=4,kwargs={\"t\":2*np.pi,\"steps\":1},iter_spec=True)\n",
    "\n",
    "qc = qpe_res.qs.compile()\n",
    "tqc = qc.transpile(basis_gates=[\"cz\",\"u\"])\n",
    "\n",
    "print(qc.count_ops())\n",
    "print(tqc.count_ops())\n",
    "print(tqc.num_qubits())\n",
    "print(tqc.depth())"
   ]
  },
  {
   "cell_type": "markdown",
   "id": "75499c7b",
   "metadata": {},
   "source": [
    "## Ground state is prepared if qpe_res is in |0> state"
   ]
  },
  {
   "cell_type": "code",
   "execution_count": 18,
   "id": "0b96d985",
   "metadata": {},
   "outputs": [
    {
     "name": "stdout",
     "output_type": "stream",
     "text": [
      "Success probability: 0.6681833181668184                                              \u001b[2K\n",
      "Fidelity: 0.9534042003395854                                                         \u001b[2K\n"
     ]
    }
   ],
   "source": [
    "results = qpe_res.get_measurement(precompiled_qc=qc)\n",
    "sorted_results = dict(sorted(results.items(), key=lambda item: item[1], reverse=True))\n",
    "P0 = sorted_results[0]\n",
    "print('Success probability:', P0)\n",
    "\n",
    "#qc = qpe_res.qs.compile()\n",
    "\n",
    "n = H.find_minimal_qubit_amount()\n",
    "\n",
    "for i in range(qc.num_qubits() - n):\n",
    "    qc.qubits.insert(0, qc.qubits.pop(-1))\n",
    "\n",
    "phi = qc.statevector_array()[:2**n]\n",
    "phi = phi/np.linalg.norm(phi)\n",
    "\n",
    "F0 = (np.abs(np.dot(phi.conj().transpose(),psi0))**2)\n",
    "print('Fidelity:', F0)"
   ]
  },
  {
   "cell_type": "markdown",
   "id": "c90c6441",
   "metadata": {},
   "source": [
    "# Benchmarking"
   ]
  },
  {
   "cell_type": "code",
   "execution_count": null,
   "id": "f0d3fa68",
   "metadata": {},
   "outputs": [],
   "source": [
    "def prepare_gs(precision, steps, results_dict):\n",
    "\n",
    "    result = dict()\n",
    "\n",
    "    qv = QuantumVariable(G.number_of_nodes())\n",
    "    U_0(qv)\n",
    "\n",
    "    # Hamiltonian simulation via first order Suzuki-Trotter formula with 5 steps \n",
    "    # Note: 5 steps are insufficient to obtain the ground state energy within error 0.1 (10 steps are sufficent)\n",
    "    exp_H = H3.trotterization(order=2,forward_evolution=False)\n",
    "\n",
    "    qpe_res = QPE(qv,exp_H,precision=precision,kwargs={\"t\":2*np.pi,\"steps\":steps},iter_spec=True)\n",
    "\n",
    "    qc = qpe_res.qs.compile()\n",
    "    tqc = qc.transpile(basis_gates=[\"cz\",\"u\"])\n",
    "\n",
    "    result[\"ops\"] = tqc.count_ops()\n",
    "    result[\"depth\"] = tqc.depth()\n",
    "\n",
    "    results = qpe_res.get_measurement(precompiled_qc=qc)\n",
    "    sorted_results = dict(sorted(results.items(), key=lambda item: item[1], reverse=True))\n",
    "    P0 = sorted_results[0]\n",
    "    #print('Success probability:', P0)\n",
    "    result[\"P0\"] = P0\n",
    "\n",
    "    #qc = qpe_res.qs.compile()\n",
    "\n",
    "    n = H.find_minimal_qubit_amount()\n",
    "\n",
    "    for i in range(qc.num_qubits() - n):\n",
    "        qc.qubits.insert(0, qc.qubits.pop(-1))\n",
    "\n",
    "    phi = qc.statevector_array()[:2**n]\n",
    "    phi = phi/np.linalg.norm(phi)\n",
    "\n",
    "    F0 = (np.abs(np.dot(phi.conj().transpose(),psi0))**2)\n",
    "    #print('Fidelity:', F0)\n",
    "    result[\"F0\"] = F0\n",
    "\n",
    "    results_dict[(precision,steps)] = result\n",
    "\n"
   ]
  },
  {
   "cell_type": "code",
   "execution_count": null,
   "id": "0d316133",
   "metadata": {},
   "outputs": [],
   "source": [
    "results_dict = dict()\n",
    "\n",
    "for precision in range(1,5):\n",
    "    for steps in range(1,5):        \n",
    "        prepare_gs(precision, steps, results_dict)"
   ]
  },
  {
   "cell_type": "markdown",
   "id": "fa1a72c3",
   "metadata": {},
   "source": [
    "## Visualize results"
   ]
  },
  {
   "cell_type": "code",
   "execution_count": null,
   "id": "00424236",
   "metadata": {},
   "outputs": [],
   "source": [
    "import numpy as np\n",
    "import matplotlib.pyplot as plt\n",
    "\n",
    "# Define the function f(i, j)\n",
    "def f(i, j):\n",
    "    # Ensure i and j are numpy arrays\n",
    "    i = np.array(i)\n",
    "    j = np.array(j)\n",
    "    # Get the shape of the input arrays\n",
    "    input_shape = i.shape\n",
    "    # Flatten the arrays\n",
    "    i_flat = i.flatten()\n",
    "    j_flat = j.flatten()\n",
    "    # Retrieve 'F0' values for each (i, j) pair\n",
    "    f0_values = np.array([results_dict[(i_val, j_val)]['F0'] for i_val, j_val in zip(i_flat, j_flat)])\n",
    "    # Reshape to match input shape\n",
    "    return f0_values.reshape(input_shape)\n",
    "\n",
    "# Define the range for x and y\n",
    "x = np.arange(1, 5)  \n",
    "y = np.arange(1, 5)  \n",
    "\n",
    "# Create a meshgrid\n",
    "X, Y = np.meshgrid(x, y)\n",
    "\n",
    "# Apply the function to the grid\n",
    "Z = f(X, Y)\n",
    "\n",
    "# Define the threshold\n",
    "threshold = 0.99\n",
    "\n",
    "# Create a boolean mask where True if f(x, y) > threshold\n",
    "mask = Z > threshold\n",
    "\n",
    "# Plotting\n",
    "plt.figure(figsize=(6, 5))\n",
    "plt.imshow(mask, extent=(x.min(), x.max(), y.min(), y.max()), origin='lower', cmap='Greys')\n",
    "plt.colorbar(label='Above Threshold')\n",
    "plt.title('Squares where f(x, y) > Threshold')\n",
    "plt.xlabel('QPE precision x')\n",
    "plt.ylabel('Trotter steps y')\n",
    "plt.xticks(x)\n",
    "plt.yticks(y)\n",
    "plt.grid(True)\n",
    "plt.show()"
   ]
  },
  {
   "cell_type": "code",
   "execution_count": null,
   "id": "c4280210",
   "metadata": {},
   "outputs": [],
   "source": []
  }
 ],
 "metadata": {
  "kernelspec": {
   "display_name": "qrisp_new",
   "language": "python",
   "name": "python3"
  },
  "language_info": {
   "codemirror_mode": {
    "name": "ipython",
    "version": 3
   },
   "file_extension": ".py",
   "mimetype": "text/x-python",
   "name": "python",
   "nbconvert_exporter": "python",
   "pygments_lexer": "ipython3",
   "version": "3.10.15"
  }
 },
 "nbformat": 4,
 "nbformat_minor": 5
}
