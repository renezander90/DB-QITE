{
 "cells": [
  {
   "cell_type": "code",
   "execution_count": 2,
   "metadata": {},
   "outputs": [
    {
     "name": "stderr",
     "output_type": "stream",
     "text": [
      "/home/marek/.local/lib/python3.12/site-packages/matplotlib/projections/__init__.py:63: UserWarning: Unable to import Axes3D. This may be due to multiple versions of Matplotlib being installed (e.g. as a system package and as a pip package). As a result, the 3D projection is not available.\n",
      "  warnings.warn(\"Unable to import Axes3D. This may be due to multiple versions of \"\n"
     ]
    }
   ],
   "source": [
    "#\n",
    "# Please execute on QITE_experiments branch from GitHub\n",
    "# \n",
    "\n",
    "from qrisp import QuantumVariable, h, x, prepare, conjugate, QPE\n",
    "from qrisp.vqe import VQEProblem\n",
    "from qrisp.vqe.problems.heisenberg import create_heisenberg_init_function, heisenberg_problem, create_heisenberg_hamiltonian\n",
    "import networkx as nx\n",
    "import numpy as np\n",
    "import scipy\n",
    "import matplotlib.pyplot as plt\n",
    "from qrisp.qite import QITE\n",
    "from qrisp import QuantumVariable\n",
    "\n",
    "import numpy as np\n",
    "import sympy as sp\n",
    "import time\n",
    "\n",
    "import pickle\n",
    "from time import time\n",
    "from datetime import datetime\n",
    "\n",
    "def save_data(data, filename):  \n",
    "    # Open a file for writing\n",
    "    with open(filename+'.pickle', 'wb') as file:\n",
    "        # Write the object to the file\n",
    "        pickle.dump(data, file)\n",
    "\n",
    "def load_data(filename):\n",
    "    with open(filename+'.pickle', 'rb') as file:\n",
    "        # Load the object from the file\n",
    "        data = pickle.load(file)\n",
    "    return data\n",
    "\n",
    "def get_statevector(qc,n,subs_dic=None):\n",
    "    if subs_dic is not None:\n",
    "        bqc = qc.bind_parameters(subs_dic) \n",
    "    else:\n",
    "        bqc = qc\n",
    "    \n",
    "    for i in range(bqc.num_qubits() - n):\n",
    "        bqc.qubits.insert(0, bqc.qubits.pop(-1))\n",
    "\n",
    "    statevector = bqc.statevector_array()[:2**n]\n",
    "    statevector = statevector/np.linalg.norm(statevector)\n",
    "\n",
    "    return statevector\n",
    "\n",
    "def compute_moments(psi, H):\n",
    "    E = (psi.conj().T @ H.dot(psi)).real\n",
    "    S = (psi.conj().T @ (H @ H).dot(psi)).real\n",
    "    return E, S, S - E**2\n",
    "\n",
    "from scipy.sparse.linalg import eigsh\n",
    "from scipy.sparse.linalg import svds\n",
    "from qrisp.operators import X, Y, Z\n",
    "\n",
    "def rescaled_Hamiltonian(L, scaling_factor=1):\n",
    "\n",
    "    # Create a graph\n",
    "    G = nx.Graph()\n",
    "    G.add_edges_from([(k,k+1) for k in range(L-1)]) \n",
    "\n",
    "    def create_heisenberg_hamiltonian(G):\n",
    "        H = sum(X(i)*X(j)+Y(i)*Y(j)+Z(i)*Z(j) for (i,j) in G.edges())\n",
    "        return H\n",
    "\n",
    "    H = create_heisenberg_hamiltonian(G)\n",
    "\n",
    "    M = H.to_sparse_matrix()\n",
    "    eigenvalues, eigenvectors = eigsh(M, k=1, which='SA')\n",
    "    E0 = eigenvalues[0]\n",
    "\n",
    "    # Rescale to E0=0\n",
    "    H2 = H - E0\n",
    "\n",
    "    M = H2.to_sparse_matrix()\n",
    "    u, s, vt = svds(M, k=1, which='LM')\n",
    "    spectral_norm = s[0]\n",
    "\n",
    "    E_max = spectral_norm\n",
    "\n",
    "    # Rescale such that spectrum in [0,1)\n",
    "    H3 = H2*(1/(E_max+1))*scaling_factor\n",
    "\n",
    "    M = H3.to_sparse_matrix()\n",
    "    eigenvalues, eigenvectors = eigsh(M, k=2, which='SA')\n",
    "\n",
    "    # Ground state\n",
    "    psi_0 = eigenvectors[:,0]\n",
    "\n",
    "    E0 = eigenvalues[0]\n",
    "    E1 = eigenvalues[1]\n",
    "\n",
    "    delta = E1-E0\n",
    "    print('Spectral gap:', delta)\n",
    "    print('Ground state energy:', E0)\n",
    "\n",
    "    return H3, psi_0\n"
   ]
  },
  {
   "cell_type": "code",
   "execution_count": 3,
   "metadata": {},
   "outputs": [],
   "source": [
    "L = 20\n",
    "G = nx.Graph()\n",
    "G.add_edges_from([(k,(k+1)%L) for k in range(L-1)]) \n",
    "# nx.draw(G, with_labels=True)"
   ]
  },
  {
   "cell_type": "code",
   "execution_count": 4,
   "metadata": {},
   "outputs": [
    {
     "name": "stdout",
     "output_type": "stream",
     "text": [
      "X(0)*X(1) + X(1)*X(2) + X(10)*X(11) + X(11)*X(12) + X(12)*X(13) + X(13)*X(14) + X(14)*X(15) + X(15)*X(16) + X(16)*X(17) + X(17)*X(18) + X(18)*X(19) + X(2)*X(3) + X(3)*X(4) + X(4)*X(5) + X(5)*X(6) + X(6)*X(7) + X(7)*X(8) + X(8)*X(9) + X(9)*X(10) + Y(0)*Y(1) + Y(1)*Y(2) + Y(10)*Y(11) + Y(11)*Y(12) + Y(12)*Y(13) + Y(13)*Y(14) + Y(14)*Y(15) + Y(15)*Y(16) + Y(16)*Y(17) + Y(17)*Y(18) + Y(18)*Y(19) + Y(2)*Y(3) + Y(3)*Y(4) + Y(4)*Y(5) + Y(5)*Y(6) + Y(6)*Y(7) + Y(7)*Y(8) + Y(8)*Y(9) + Y(9)*Y(10) + Z(0)*Z(1) + Z(1)*Z(2) + Z(10)*Z(11) + Z(11)*Z(12) + Z(12)*Z(13) + Z(13)*Z(14) + Z(14)*Z(15) + Z(15)*Z(16) + Z(16)*Z(17) + Z(17)*Z(18) + Z(18)*Z(19) + Z(2)*Z(3) + Z(3)*Z(4) + Z(4)*Z(5) + Z(5)*Z(6) + Z(6)*Z(7) + Z(7)*Z(8) + Z(8)*Z(9) + Z(9)*Z(10)\n"
     ]
    }
   ],
   "source": [
    "from qrisp.operators import X, Y, Z\n",
    "\n",
    "J = 1\n",
    "B = 0\n",
    "H = create_heisenberg_hamiltonian(G, J, B)\n",
    "print(H)\n",
    "\n",
    "# Define scaling factor\n",
    "F = 10\n",
    "\n",
    "# Hamiltonian simulation via first order Suzuki-Trotter formula with 5 steps\n",
    "def exp_H(qv, t):\n",
    "    H.trotterization(method='commuting')(qv,t/F,5)\n",
    "\n",
    "# Hamiltonian simulation via second order Suzuki-Trotter formula with 1 step\n",
    "def exp_H_2(qv, t):\n",
    "    H.trotterization(order=2,method='commuting')(qv,t/F,1)"
   ]
  },
  {
   "cell_type": "markdown",
   "metadata": {},
   "source": [
    "## QITE with Singlet or VQE + QPE"
   ]
  },
  {
   "cell_type": "code",
   "execution_count": 5,
   "metadata": {},
   "outputs": [
    {
     "name": "stdout",
     "output_type": "stream",
     "text": [
      "                                                                                     \u001b[2K\r"
     ]
    }
   ],
   "source": [
    "# Tensor product of singlet states\n",
    "M = nx.maximal_matching(G)\n",
    "U_0 = create_heisenberg_init_function(M)\n",
    "\n",
    "# HVA\n",
    "H0 = sum((X(i)*X(j)+Y(i)*Y(j)+Z(i)*Z(j)) for i,j in M)\n",
    "H1 = sum((X(i)*X(j)+Y(i)*Y(j)+Z(i)*Z(j)) for i,j in set(G.edges())-M)\n",
    "\n",
    "def ansatz(qv,theta):\n",
    "    # Rescaling t->1/4 equivalent to choosing rescaled inital parameters for VQE\n",
    "    H1.trotterization(method='commuting')(qv,t=theta[1]/4)\n",
    "    H0.trotterization(method='commuting')(qv,t=theta[0]/4)\n",
    "\n",
    "#vqe = VQEProblem(H, ansatz, 2, init_function=U_0)\n",
    "#U_0 = vqe.train_function(QuantumVariable(G.number_of_nodes()),depth=1,max_iter=100)\n",
    "\n",
    "results = []\n",
    "\n",
    "steps = 2\n",
    "\n",
    "s_values = np.linspace(.01,1.5,20)\n",
    "theta = sp.Symbol('theta')\n",
    "optimal_s = [theta]\n",
    "optimal_energies = []\n",
    "\n",
    "H_matrix = H.to_sparse_matrix()\n",
    "\n",
    "for k in range(1,steps+1):\n",
    "\n",
    "    # Perform k steps of QITE\n",
    "    qv = QuantumVariable(L)\n",
    "    QITE(qv, U_0, exp_H, optimal_s, k)\n",
    "    qc = qv.qs.compile()\n",
    "\n",
    "    energies = [compute_moments(get_statevector(qc,L,subs_dic={theta:s_}),H_matrix)[0] for s_ in s_values]\n",
    "\n",
    "    index = np.argmin(energies)\n",
    "    s_min = s_values[index]\n",
    "\n",
    "    optimal_s.insert(-1,s_min)\n",
    "    optimal_energies.append(energies[index])\n"
   ]
  },
  {
   "cell_type": "code",
   "execution_count": 6,
   "metadata": {},
   "outputs": [],
   "source": [
    "def prepare_ground_state(precision, steps, H, U_0, psi_0):\n",
    "\n",
    "    result = dict()\n",
    "\n",
    "    qv = QuantumVariable(G.number_of_nodes())\n",
    "    U_0(qv)\n",
    "\n",
    "    # Hamiltonian simulation via first order Suzuki-Trotter formula with 5 steps \n",
    "    # Note: 5 steps are insufficient to obtain the ground state energy within error 0.1 (10 steps are sufficent)\n",
    "    exp_H = H.trotterization(order=2,forward_evolution=False)\n",
    "\n",
    "    qpe_res = QPE(qv,exp_H,precision=precision,kwargs={\"t\":2*np.pi,\"steps\":steps},iter_spec=True)\n",
    "\n",
    "    qc = qpe_res.qs.compile()\n",
    "    tqc = qc.transpile(basis_gates=[\"cz\",\"u\"])\n",
    "\n",
    "    result[\"ops\"] = tqc.count_ops()\n",
    "    result[\"depth\"] = tqc.depth()\n",
    "\n",
    "    results = qpe_res.get_measurement(precompiled_qc=qc)\n",
    "    sorted_results = dict(sorted(results.items(), key=lambda item: item[1], reverse=True))\n",
    "    #print(sorted_results)\n",
    "    P0 = sorted_results[0]\n",
    "    #print('Success probability:', P0)\n",
    "    result[\"P0\"] = P0\n",
    "\n",
    "    #qc = qpe_res.qs.compile()\n",
    "\n",
    "    n = H.find_minimal_qubit_amount()\n",
    "\n",
    "    for i in range(qc.num_qubits() - n):\n",
    "        qc.qubits.insert(0, qc.qubits.pop(-1))\n",
    "\n",
    "    phi = qc.statevector_array()[:2**n]\n",
    "    phi = phi/np.linalg.norm(phi)\n",
    "\n",
    "    F0 = (np.abs(np.dot(phi.conj().transpose(),psi_0))**2)\n",
    "    #print('Fidelity:', F0)\n",
    "    result[\"F0\"] = F0\n",
    "\n",
    "    return result"
   ]
  },
  {
   "cell_type": "code",
   "execution_count": 7,
   "metadata": {},
   "outputs": [
    {
     "name": "stdout",
     "output_type": "stream",
     "text": [
      "Spectral gap: 0.006581216420109792\n",
      "Ground state energy: -1.6597943287871816e-16\n"
     ]
    }
   ],
   "source": [
    "# QITE initial state\n",
    "def U_QITE(qv):\n",
    "    QITE(qv, U_0, exp_H_2, optimal_s[:2], 2)\n",
    "\n",
    "H_rescaled, psi_0 = rescaled_Hamiltonian(L, scaling_factor=0.5)"
   ]
  },
  {
   "cell_type": "code",
   "execution_count": 8,
   "metadata": {},
   "outputs": [
    {
     "name": "stdout",
     "output_type": "stream",
     "text": [
      "WARNING: Faulty uncomputation found during simulation.                               \u001b[2K\n",
      "Simulating 26 qubits.. |███████▌                                             | [ 14%]"
     ]
    },
    {
     "name": "stderr",
     "output_type": "stream",
     "text": [
      "\n",
      "KeyboardInterrupt\n",
      "\n"
     ]
    }
   ],
   "source": [
    "results = dict()\n",
    "\n",
    "for precision in range(1,8):\n",
    "    result = prepare_ground_state(precision, steps, H_rescaled, U_QITE, psi_0)\n",
    "    results[precision] = result"
   ]
  },
  {
   "cell_type": "code",
   "execution_count": null,
   "metadata": {},
   "outputs": [],
   "source": [
    "# Save benchmark data\n",
    "current_datetime = datetime.now()\n",
    "date_time_string = current_datetime.strftime(\"%m-%d-%H\")\n",
    "#save_data(results,'data/Singlet_QITE_QPE_L='+str(L)+'_'+date_time_string)\n",
    "save_data(results,'data/VQE_QITE_QPE_marek_L='+str(L)+'_rescaled'+date_time_string)"
   ]
  },
  {
   "cell_type": "code",
   "execution_count": null,
   "metadata": {},
   "outputs": [],
   "source": []
  }
 ],
 "metadata": {
  "kernelspec": {
   "display_name": "Python 3 (ipykernel)",
   "language": "python",
   "name": "python3"
  },
  "language_info": {
   "codemirror_mode": {
    "name": "ipython",
    "version": 3
   },
   "file_extension": ".py",
   "mimetype": "text/x-python",
   "name": "python",
   "nbconvert_exporter": "python",
   "pygments_lexer": "ipython3",
   "version": "3.12.3"
  }
 },
 "nbformat": 4,
 "nbformat_minor": 2
}
