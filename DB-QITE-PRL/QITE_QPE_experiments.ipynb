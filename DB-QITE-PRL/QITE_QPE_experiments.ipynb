{
 "cells": [
  {
   "cell_type": "code",
   "execution_count": 16,
   "metadata": {},
   "outputs": [],
   "source": [
    "#\n",
    "# Please execute on QITE_experiments branch from GitHub\n",
    "# \n",
    "\n",
    "from qrisp import QuantumVariable, h, x, prepare, conjugate, QPE\n",
    "from qrisp.vqe import VQEProblem\n",
    "from qrisp.vqe.problems.heisenberg import create_heisenberg_init_function, heisenberg_problem, create_heisenberg_hamiltonian\n",
    "import networkx as nx\n",
    "import numpy as np\n",
    "import scipy\n",
    "import matplotlib.pyplot as plt\n",
    "from qrisp.qite import QITE\n",
    "from qrisp import QuantumVariable\n",
    "\n",
    "import numpy as np\n",
    "import sympy as sp\n",
    "import time\n",
    "\n",
    "import pickle\n",
    "from time import time\n",
    "from datetime import datetime\n",
    "\n",
    "def save_data(data, filename):  \n",
    "    # Open a file for writing\n",
    "    with open(filename+'.pickle', 'wb') as file:\n",
    "        # Write the object to the file\n",
    "        pickle.dump(data, file)\n",
    "\n",
    "def load_data(filename):\n",
    "    with open(filename+'.pickle', 'rb') as file:\n",
    "        # Load the object from the file\n",
    "        data = pickle.load(file)\n",
    "    return data\n",
    "\n",
    "def get_statevector(qc,n,subs_dic=None):\n",
    "    if subs_dic is not None:\n",
    "        bqc = qc.bind_parameters(subs_dic) \n",
    "    else:\n",
    "        bqc = qc\n",
    "    \n",
    "    for i in range(bqc.num_qubits() - n):\n",
    "        bqc.qubits.insert(0, bqc.qubits.pop(-1))\n",
    "\n",
    "    statevector = bqc.statevector_array()[:2**n]\n",
    "    statevector = statevector/np.linalg.norm(statevector)\n",
    "\n",
    "    return statevector\n",
    "\n",
    "def compute_moments(psi, H):\n",
    "    E = (psi.conj().T @ H.dot(psi)).real\n",
    "    S = (psi.conj().T @ (H @ H).dot(psi)).real\n",
    "    return E, S, S - E**2\n",
    "\n",
    "from scipy.sparse.linalg import eigsh\n",
    "from scipy.sparse.linalg import svds\n",
    "from qrisp.operators import X, Y, Z\n",
    "\n",
    "def rescaled_Hamiltonian(L, scaling_factor=1):\n",
    "\n",
    "    # Create a graph\n",
    "    G = nx.Graph()\n",
    "    G.add_edges_from([(k,k+1) for k in range(L-1)]) \n",
    "\n",
    "    def create_heisenberg_hamiltonian(G):\n",
    "        H = sum(X(i)*X(j)+Y(i)*Y(j)+Z(i)*Z(j) for (i,j) in G.edges())\n",
    "        return H\n",
    "\n",
    "    H = create_heisenberg_hamiltonian(G)\n",
    "\n",
    "    M = H.to_sparse_matrix()\n",
    "    eigenvalues, eigenvectors = eigsh(M, k=1, which='SA')\n",
    "    E0 = eigenvalues[0]\n",
    "\n",
    "    # Rescale to E0=0\n",
    "    H2 = H - E0\n",
    "\n",
    "    M = H2.to_sparse_matrix()\n",
    "    u, s, vt = svds(M, k=1, which='LM')\n",
    "    spectral_norm = s[0]\n",
    "\n",
    "    E_max = spectral_norm\n",
    "\n",
    "    # Rescale such that spectrum in [0,1)\n",
    "    H3 = H2*(1/(E_max+1))*scaling_factor\n",
    "\n",
    "    M = H3.to_sparse_matrix()\n",
    "    eigenvalues, eigenvectors = eigsh(M, k=2, which='SA')\n",
    "\n",
    "    # Ground state\n",
    "    psi_0 = eigenvectors[:,0]\n",
    "\n",
    "    E0 = eigenvalues[0]\n",
    "    E1 = eigenvalues[1]\n",
    "\n",
    "    delta = E1-E0\n",
    "    print('Spectral gap:', delta)\n",
    "    print('Ground state energy:', E0)\n",
    "\n",
    "    return H3, psi_0\n"
   ]
  },
  {
   "cell_type": "code",
   "execution_count": 2,
   "metadata": {},
   "outputs": [],
   "source": [
    "L = 20\n",
    "G = nx.Graph()\n",
    "G.add_edges_from([(k,(k+1)%L) for k in range(L-1)]) \n",
    "# nx.draw(G, with_labels=True)"
   ]
  },
  {
   "cell_type": "code",
   "execution_count": 3,
   "metadata": {},
   "outputs": [
    {
     "name": "stdout",
     "output_type": "stream",
     "text": [
      "X(0)*X(1) + X(1)*X(2) + X(10)*X(11) + X(11)*X(12) + X(12)*X(13) + X(13)*X(14) + X(14)*X(15) + X(15)*X(16) + X(16)*X(17) + X(17)*X(18) + X(18)*X(19) + X(2)*X(3) + X(3)*X(4) + X(4)*X(5) + X(5)*X(6) + X(6)*X(7) + X(7)*X(8) + X(8)*X(9) + X(9)*X(10) + Y(0)*Y(1) + Y(1)*Y(2) + Y(10)*Y(11) + Y(11)*Y(12) + Y(12)*Y(13) + Y(13)*Y(14) + Y(14)*Y(15) + Y(15)*Y(16) + Y(16)*Y(17) + Y(17)*Y(18) + Y(18)*Y(19) + Y(2)*Y(3) + Y(3)*Y(4) + Y(4)*Y(5) + Y(5)*Y(6) + Y(6)*Y(7) + Y(7)*Y(8) + Y(8)*Y(9) + Y(9)*Y(10) + Z(0)*Z(1) + Z(1)*Z(2) + Z(10)*Z(11) + Z(11)*Z(12) + Z(12)*Z(13) + Z(13)*Z(14) + Z(14)*Z(15) + Z(15)*Z(16) + Z(16)*Z(17) + Z(17)*Z(18) + Z(18)*Z(19) + Z(2)*Z(3) + Z(3)*Z(4) + Z(4)*Z(5) + Z(5)*Z(6) + Z(6)*Z(7) + Z(7)*Z(8) + Z(8)*Z(9) + Z(9)*Z(10)\n"
     ]
    }
   ],
   "source": [
    "from qrisp.operators import X, Y, Z\n",
    "\n",
    "J = 1\n",
    "B = 0\n",
    "H = create_heisenberg_hamiltonian(G, J, B)\n",
    "print(H)\n",
    "\n",
    "# Define scaling factor\n",
    "F = 10\n",
    "\n",
    "# Hamiltonian simulation via first order Suzuki-Trotter formula with 5 steps\n",
    "def exp_H(qv, t):\n",
    "    H.trotterization(method='commuting')(qv,t/F,5)\n",
    "\n",
    "# Hamiltonian simulation via second order Suzuki-Trotter formula with 1 step\n",
    "def exp_H_2(qv, t):\n",
    "    H.trotterization(order=2,method='commuting')(qv,t/F,1)"
   ]
  },
  {
   "cell_type": "markdown",
   "metadata": {},
   "source": [
    "## QITE with Singlet or VQE + QPE"
   ]
  },
  {
   "cell_type": "code",
   "execution_count": null,
   "metadata": {},
   "outputs": [
    {
     "name": "stdout",
     "output_type": "stream",
     "text": [
      "Simulating 22 qubits.. |██████████████████████████████████████████████▌      | [ 88%]\u001b[2K"
     ]
    }
   ],
   "source": [
    "# Tensor product of singlet states\n",
    "M = nx.maximal_matching(G)\n",
    "U_0 = create_heisenberg_init_function(M)\n",
    "\n",
    "# HVA\n",
    "H0 = sum((X(i)*X(j)+Y(i)*Y(j)+Z(i)*Z(j)) for i,j in M)\n",
    "H1 = sum((X(i)*X(j)+Y(i)*Y(j)+Z(i)*Z(j)) for i,j in set(G.edges())-M)\n",
    "\n",
    "def ansatz(qv,theta):\n",
    "    # Rescaling t->1/4 equivalent to choosing rescaled inital parameters for VQE\n",
    "    H1.trotterization(method='commuting')(qv,t=theta[1]/4)\n",
    "    H0.trotterization(method='commuting')(qv,t=theta[0]/4)\n",
    "\n",
    "#vqe = VQEProblem(H, ansatz, 2, init_function=U_0)\n",
    "#U_0 = vqe.train_function(QuantumVariable(G.number_of_nodes()),depth=1,max_iter=100)\n",
    "\n",
    "results = []\n",
    "\n",
    "steps = 2\n",
    "\n",
    "s_values = np.linspace(.01,1.5,20)\n",
    "theta = sp.Symbol('theta')\n",
    "optimal_s = [theta]\n",
    "optimal_energies = []\n",
    "\n",
    "H_matrix = H.to_sparse_matrix()\n",
    "\n",
    "for k in range(1,steps+1):\n",
    "\n",
    "    # Perform k steps of QITE\n",
    "    qv = QuantumVariable(L)\n",
    "    QITE(qv, U_0, exp_H, optimal_s, k)\n",
    "    qc = qv.qs.compile()\n",
    "\n",
    "    energies = [compute_moments(get_statevector(qc,L,subs_dic={theta:s_}),H_matrix)[0] for s_ in s_values]\n",
    "\n",
    "    index = np.argmin(energies)\n",
    "    s_min = s_values[index]\n",
    "\n",
    "    optimal_s.insert(-1,s_min)\n",
    "    optimal_energies.append(energies[index])\n"
   ]
  },
  {
   "cell_type": "code",
   "execution_count": null,
   "metadata": {},
   "outputs": [],
   "source": [
    "def prepare_ground_state(precision, steps, H, U_0, psi_0):\n",
    "\n",
    "    result = dict()\n",
    "\n",
    "    qv = QuantumVariable(G.number_of_nodes())\n",
    "    U_0(qv)\n",
    "\n",
    "    # Hamiltonian simulation via first order Suzuki-Trotter formula with 5 steps \n",
    "    # Note: 5 steps are insufficient to obtain the ground state energy within error 0.1 (10 steps are sufficent)\n",
    "    exp_H = H.trotterization(order=2,forward_evolution=False)\n",
    "\n",
    "    qpe_res = QPE(qv,exp_H,precision=precision,kwargs={\"t\":2*np.pi,\"steps\":steps},iter_spec=True)\n",
    "\n",
    "    qc = qpe_res.qs.compile()\n",
    "    tqc = qc.transpile(basis_gates=[\"cz\",\"u\"])\n",
    "\n",
    "    result[\"ops\"] = tqc.count_ops()\n",
    "    result[\"depth\"] = tqc.depth()\n",
    "\n",
    "    results = qpe_res.get_measurement(precompiled_qc=qc)\n",
    "    sorted_results = dict(sorted(results.items(), key=lambda item: item[1], reverse=True))\n",
    "    #print(sorted_results)\n",
    "    P0 = sorted_results[0]\n",
    "    #print('Success probability:', P0)\n",
    "    result[\"P0\"] = P0\n",
    "\n",
    "    #qc = qpe_res.qs.compile()\n",
    "\n",
    "    n = H.find_minimal_qubit_amount()\n",
    "\n",
    "    for i in range(qc.num_qubits() - n):\n",
    "        qc.qubits.insert(0, qc.qubits.pop(-1))\n",
    "\n",
    "    phi = qc.statevector_array()[:2**n]\n",
    "    phi = phi/np.linalg.norm(phi)\n",
    "\n",
    "    F0 = (np.abs(np.dot(phi.conj().transpose(),psi_0))**2)\n",
    "    #print('Fidelity:', F0)\n",
    "    result[\"F0\"] = F0\n",
    "\n",
    "    return result"
   ]
  },
  {
   "cell_type": "code",
   "execution_count": 20,
   "metadata": {},
   "outputs": [
    {
     "name": "stdout",
     "output_type": "stream",
     "text": [
      "Spectral gap: 0.006581216420122403\n",
      "Ground state energy: -1.371456044110165e-16\n"
     ]
    }
   ],
   "source": [
    "# QITE initial state\n",
    "def U_QITE(qv):\n",
    "    QITE(qv, U_0, exp_H_2, optimal_s[:2], 2)\n",
    "\n",
    "H_rescaled, psi_0 = rescaled_Hamiltonian(L, scaling_factor=0.5)"
   ]
  },
  {
   "cell_type": "code",
   "execution_count": 21,
   "metadata": {},
   "outputs": [
    {
     "name": "stdout",
     "output_type": "stream",
     "text": [
      "Simulating 25 qubits.. |█████████▌                                           | [ 18%]\u001b[2K"
     ]
    },
    {
     "ename": "KeyboardInterrupt",
     "evalue": "",
     "output_type": "error",
     "traceback": [
      "\u001b[0;31m---------------------------------------------------------------------------\u001b[0m",
      "\u001b[0;31mKeyboardInterrupt\u001b[0m                         Traceback (most recent call last)",
      "Cell \u001b[0;32mIn[21], line 4\u001b[0m\n\u001b[1;32m      1\u001b[0m results \u001b[38;5;241m=\u001b[39m \u001b[38;5;28mdict\u001b[39m()\n\u001b[1;32m      3\u001b[0m \u001b[38;5;28;01mfor\u001b[39;00m precision \u001b[38;5;129;01min\u001b[39;00m \u001b[38;5;28mrange\u001b[39m(\u001b[38;5;241m1\u001b[39m,\u001b[38;5;241m6\u001b[39m):\n\u001b[0;32m----> 4\u001b[0m     result \u001b[38;5;241m=\u001b[39m \u001b[43mprepare_ground_state\u001b[49m\u001b[43m(\u001b[49m\u001b[43mprecision\u001b[49m\u001b[43m,\u001b[49m\u001b[43m \u001b[49m\u001b[43msteps\u001b[49m\u001b[43m,\u001b[49m\u001b[43m \u001b[49m\u001b[43mH_rescaled\u001b[49m\u001b[43m,\u001b[49m\u001b[43m \u001b[49m\u001b[43mU_QITE\u001b[49m\u001b[43m,\u001b[49m\u001b[43m \u001b[49m\u001b[43mpsi_0\u001b[49m\u001b[43m)\u001b[49m\n\u001b[1;32m      5\u001b[0m     results[precision] \u001b[38;5;241m=\u001b[39m result\n",
      "Cell \u001b[0;32mIn[14], line 34\u001b[0m, in \u001b[0;36mprepare_ground_state\u001b[0;34m(precision, steps, H, U_0, psi_0)\u001b[0m\n\u001b[1;32m     31\u001b[0m \u001b[38;5;28;01mfor\u001b[39;00m i \u001b[38;5;129;01min\u001b[39;00m \u001b[38;5;28mrange\u001b[39m(qc\u001b[38;5;241m.\u001b[39mnum_qubits() \u001b[38;5;241m-\u001b[39m n):\n\u001b[1;32m     32\u001b[0m     qc\u001b[38;5;241m.\u001b[39mqubits\u001b[38;5;241m.\u001b[39minsert(\u001b[38;5;241m0\u001b[39m, qc\u001b[38;5;241m.\u001b[39mqubits\u001b[38;5;241m.\u001b[39mpop(\u001b[38;5;241m-\u001b[39m\u001b[38;5;241m1\u001b[39m))\n\u001b[0;32m---> 34\u001b[0m phi \u001b[38;5;241m=\u001b[39m \u001b[43mqc\u001b[49m\u001b[38;5;241;43m.\u001b[39;49m\u001b[43mstatevector_array\u001b[49m\u001b[43m(\u001b[49m\u001b[43m)\u001b[49m[:\u001b[38;5;241m2\u001b[39m\u001b[38;5;241m*\u001b[39m\u001b[38;5;241m*\u001b[39mn]\n\u001b[1;32m     35\u001b[0m phi \u001b[38;5;241m=\u001b[39m phi\u001b[38;5;241m/\u001b[39mnp\u001b[38;5;241m.\u001b[39mlinalg\u001b[38;5;241m.\u001b[39mnorm(phi)\n\u001b[1;32m     37\u001b[0m F0 \u001b[38;5;241m=\u001b[39m (np\u001b[38;5;241m.\u001b[39mabs(np\u001b[38;5;241m.\u001b[39mdot(phi\u001b[38;5;241m.\u001b[39mconj()\u001b[38;5;241m.\u001b[39mtranspose(),psi_0))\u001b[38;5;241m*\u001b[39m\u001b[38;5;241m*\u001b[39m\u001b[38;5;241m2\u001b[39m)\n",
      "File \u001b[0;32m~/Desktop/Qrisp/src/qrisp/circuit/quantum_circuit.py:1655\u001b[0m, in \u001b[0;36mQuantumCircuit.statevector_array\u001b[0;34m(self)\u001b[0m\n\u001b[1;32m   1606\u001b[0m \u001b[38;5;250m\u001b[39m\u001b[38;5;124;03m\"\"\"\u001b[39;00m\n\u001b[1;32m   1607\u001b[0m \u001b[38;5;124;03mPerforms a simulation of the statevector of self and returns a numpy array of\u001b[39;00m\n\u001b[1;32m   1608\u001b[0m \u001b[38;5;124;03mcomplex numbers.\u001b[39;00m\n\u001b[0;32m   (...)\u001b[0m\n\u001b[1;32m   1651\u001b[0m \n\u001b[1;32m   1652\u001b[0m \u001b[38;5;124;03m\"\"\"\u001b[39;00m\n\u001b[1;32m   1653\u001b[0m \u001b[38;5;28;01mfrom\u001b[39;00m \u001b[38;5;21;01mqrisp\u001b[39;00m\u001b[38;5;21;01m.\u001b[39;00m\u001b[38;5;21;01msimulator\u001b[39;00m \u001b[38;5;28;01mimport\u001b[39;00m statevector_sim\n\u001b[0;32m-> 1655\u001b[0m \u001b[38;5;28;01mreturn\u001b[39;00m \u001b[43mstatevector_sim\u001b[49m\u001b[43m(\u001b[49m\u001b[38;5;28;43mself\u001b[39;49m\u001b[43m)\u001b[49m\n",
      "File \u001b[0;32m~/Desktop/Qrisp/src/qrisp/simulator/simulator.py:291\u001b[0m, in \u001b[0;36mstatevector_sim\u001b[0;34m(qc)\u001b[0m\n\u001b[1;32m    288\u001b[0m     qubit_indices \u001b[38;5;241m=\u001b[39m [qc\u001b[38;5;241m.\u001b[39mqubits\u001b[38;5;241m.\u001b[39mindex(qb) \u001b[38;5;28;01mfor\u001b[39;00m qb \u001b[38;5;129;01min\u001b[39;00m instr\u001b[38;5;241m.\u001b[39mqubits]\n\u001b[1;32m    290\u001b[0m     \u001b[38;5;66;03m# Perform instructions\u001b[39;00m\n\u001b[0;32m--> 291\u001b[0m     \u001b[43mqs\u001b[49m\u001b[38;5;241;43m.\u001b[39;49m\u001b[43mapply_operation\u001b[49m\u001b[43m(\u001b[49m\u001b[43minstr\u001b[49m\u001b[38;5;241;43m.\u001b[39;49m\u001b[43mop\u001b[49m\u001b[43m,\u001b[49m\u001b[43m \u001b[49m\u001b[43mqubit_indices\u001b[49m\u001b[43m)\u001b[49m\n\u001b[1;32m    293\u001b[0m res \u001b[38;5;241m=\u001b[39m qs\u001b[38;5;241m.\u001b[39meval()\u001b[38;5;241m.\u001b[39mtensor_array\u001b[38;5;241m.\u001b[39mto_array()\n\u001b[1;32m    295\u001b[0m progress_bar\u001b[38;5;241m.\u001b[39mclose()\n",
      "File \u001b[0;32m~/Desktop/Qrisp/src/qrisp/simulator/quantum_state.py:81\u001b[0m, in \u001b[0;36mQuantumState.apply_operation\u001b[0;34m(self, operation, qubits)\u001b[0m\n\u001b[1;32m     78\u001b[0m unitary \u001b[38;5;241m=\u001b[39m operation\u001b[38;5;241m.\u001b[39mget_unitary()\n\u001b[1;32m     80\u001b[0m \u001b[38;5;66;03m# Apply the matrix\u001b[39;00m\n\u001b[0;32m---> 81\u001b[0m \u001b[43mentangled_factor\u001b[49m\u001b[38;5;241;43m.\u001b[39;49m\u001b[43mapply_matrix\u001b[49m\u001b[43m(\u001b[49m\u001b[43munitary\u001b[49m\u001b[43m,\u001b[49m\u001b[43m \u001b[49m\u001b[43mqubits\u001b[49m\u001b[43m)\u001b[49m\n\u001b[1;32m     83\u001b[0m \u001b[38;5;28;01mif\u001b[39;00m \u001b[38;5;28mlen\u001b[39m(entangled_factor\u001b[38;5;241m.\u001b[39mqubits) \u001b[38;5;241m<\u001b[39m \u001b[38;5;241m25\u001b[39m \u001b[38;5;129;01mor\u001b[39;00m entangled_factor\u001b[38;5;241m.\u001b[39mtensor_array\u001b[38;5;241m.\u001b[39mdata\u001b[38;5;241m.\u001b[39mdtype \u001b[38;5;241m==\u001b[39m xp\u001b[38;5;241m.\u001b[39mdtype(\u001b[38;5;124m\"\u001b[39m\u001b[38;5;124mO\u001b[39m\u001b[38;5;124m\"\u001b[39m):\n\u001b[1;32m     84\u001b[0m     \u001b[38;5;28;01mreturn\u001b[39;00m\n",
      "File \u001b[0;32m~/Desktop/Qrisp/src/qrisp/simulator/tensor_factor.py:94\u001b[0m, in \u001b[0;36mTensorFactor.apply_matrix\u001b[0;34m(self, matrix, qubits)\u001b[0m\n\u001b[1;32m     89\u001b[0m reshaped_tensor_array \u001b[38;5;241m=\u001b[39m \u001b[38;5;28mself\u001b[39m\u001b[38;5;241m.\u001b[39mtensor_array\u001b[38;5;241m.\u001b[39mreshape(\n\u001b[1;32m     90\u001b[0m     (matrix\u001b[38;5;241m.\u001b[39mshape[\u001b[38;5;241m0\u001b[39m], \u001b[38;5;241m2\u001b[39m\u001b[38;5;241m*\u001b[39m\u001b[38;5;241m*\u001b[39m\u001b[38;5;28mself\u001b[39m\u001b[38;5;241m.\u001b[39mn \u001b[38;5;241m/\u001b[39m\u001b[38;5;241m/\u001b[39m matrix\u001b[38;5;241m.\u001b[39mshape[\u001b[38;5;241m0\u001b[39m])\n\u001b[1;32m     91\u001b[0m )\n\u001b[1;32m     93\u001b[0m \u001b[38;5;66;03m# Apply matrix\u001b[39;00m\n\u001b[0;32m---> 94\u001b[0m \u001b[38;5;28mself\u001b[39m\u001b[38;5;241m.\u001b[39mtensor_array \u001b[38;5;241m=\u001b[39m \u001b[43mtensordot\u001b[49m\u001b[43m(\u001b[49m\n\u001b[1;32m     95\u001b[0m \u001b[43m    \u001b[49m\u001b[43mmatrix\u001b[49m\u001b[43m,\u001b[49m\u001b[43m \u001b[49m\u001b[43mreshaped_tensor_array\u001b[49m\u001b[43m,\u001b[49m\u001b[43m \u001b[49m\u001b[43maxes\u001b[49m\u001b[38;5;241;43m=\u001b[39;49m\u001b[43m(\u001b[49m\u001b[38;5;241;43m1\u001b[39;49m\u001b[43m,\u001b[49m\u001b[43m \u001b[49m\u001b[38;5;241;43m0\u001b[39;49m\u001b[43m)\u001b[49m\u001b[43m,\u001b[49m\u001b[43m \u001b[49m\u001b[43mcontract_sparsity_threshold\u001b[49m\u001b[38;5;241;43m=\u001b[39;49m\u001b[38;5;241;43m0.05\u001b[39;49m\n\u001b[1;32m     96\u001b[0m \u001b[43m\u001b[49m\u001b[43m)\u001b[49m\u001b[38;5;241m.\u001b[39mreshape(\u001b[38;5;241m2\u001b[39m\u001b[38;5;241m*\u001b[39m\u001b[38;5;241m*\u001b[39m\u001b[38;5;28mself\u001b[39m\u001b[38;5;241m.\u001b[39mn)\n",
      "File \u001b[0;32m~/Desktop/Qrisp/src/qrisp/simulator/bi_arrays.py:1345\u001b[0m, in \u001b[0;36mtensordot\u001b[0;34m(a, b, axes, contract_sparsity_threshold)\u001b[0m\n\u001b[1;32m   1341\u001b[0m             mp_wrapper()\n\u001b[1;32m   1343\u001b[0m         \u001b[38;5;28;01mreturn\u001b[39;00m res\n\u001b[0;32m-> 1345\u001b[0m \u001b[38;5;28;01mreturn\u001b[39;00m \u001b[43ma\u001b[49m\u001b[38;5;241;43m.\u001b[39;49m\u001b[43mcontract\u001b[49m\u001b[43m(\u001b[49m\u001b[43mb\u001b[49m\u001b[43m,\u001b[49m\u001b[43m \u001b[49m\u001b[43maxes\u001b[49m\u001b[43m[\u001b[49m\u001b[38;5;241;43m0\u001b[39;49m\u001b[43m]\u001b[49m\u001b[43m,\u001b[49m\u001b[43m \u001b[49m\u001b[43maxes\u001b[49m\u001b[43m[\u001b[49m\u001b[38;5;241;43m1\u001b[39;49m\u001b[43m]\u001b[49m\u001b[43m)\u001b[49m\n",
      "File \u001b[0;32m~/Desktop/Qrisp/src/qrisp/simulator/bi_arrays.py:1062\u001b[0m, in \u001b[0;36mDenseBiArray.contract\u001b[0;34m(self, other, axes_self, axes_other)\u001b[0m\n\u001b[1;32m   1060\u001b[0m     res\u001b[38;5;241m.\u001b[39mthread\u001b[38;5;241m.\u001b[39mstart()\n\u001b[1;32m   1061\u001b[0m \u001b[38;5;28;01melse\u001b[39;00m:\n\u001b[0;32m-> 1062\u001b[0m     \u001b[43mmp_wrapper\u001b[49m\u001b[43m(\u001b[49m\u001b[43m)\u001b[49m\n\u001b[1;32m   1063\u001b[0m \u001b[38;5;66;03m# Return the result\u001b[39;00m\n\u001b[1;32m   1064\u001b[0m \u001b[38;5;28;01mreturn\u001b[39;00m res\n",
      "File \u001b[0;32m~/Desktop/Qrisp/src/qrisp/simulator/bi_arrays.py:1042\u001b[0m, in \u001b[0;36mDenseBiArray.contract.<locals>.mp_wrapper\u001b[0;34m()\u001b[0m\n\u001b[1;32m   1039\u001b[0m \u001b[38;5;28mself\u001b[39m\u001b[38;5;241m.\u001b[39mapply_swaps()\n\u001b[1;32m   1040\u001b[0m other\u001b[38;5;241m.\u001b[39mapply_swaps()\n\u001b[0;32m-> 1042\u001b[0m res\u001b[38;5;241m.\u001b[39mdata \u001b[38;5;241m=\u001b[39m \u001b[43mnp\u001b[49m\u001b[38;5;241;43m.\u001b[39;49m\u001b[43mmatmul\u001b[49m\u001b[43m(\u001b[49m\u001b[38;5;28;43mself\u001b[39;49m\u001b[38;5;241;43m.\u001b[39;49m\u001b[43mdata\u001b[49m\u001b[43m,\u001b[49m\u001b[43m \u001b[49m\u001b[43mother\u001b[49m\u001b[38;5;241;43m.\u001b[39;49m\u001b[43mdata\u001b[49m\u001b[43m)\u001b[49m\u001b[38;5;241m.\u001b[39mravel()\n\u001b[1;32m   1044\u001b[0m \u001b[38;5;28mself\u001b[39m\u001b[38;5;241m.\u001b[39mswapaxes(\u001b[38;5;241m0\u001b[39m, \u001b[38;5;241m1\u001b[39m)\n\u001b[1;32m   1045\u001b[0m \u001b[38;5;28mself\u001b[39m\u001b[38;5;241m.\u001b[39mreshape(original_shape_self)\n",
      "\u001b[0;31mKeyboardInterrupt\u001b[0m: "
     ]
    }
   ],
   "source": [
    "results = dict()\n",
    "\n",
    "for precision in range(1,6):\n",
    "    result = prepare_ground_state(precision, steps, H_rescaled, U_QITE, psi_0)\n",
    "    results[precision] = result"
   ]
  },
  {
   "cell_type": "code",
   "execution_count": null,
   "metadata": {},
   "outputs": [],
   "source": [
    "# Save benchmark data\n",
    "current_datetime = datetime.now()\n",
    "date_time_string = current_datetime.strftime(\"%m-%d-%H\")\n",
    "#save_data(results,'data/Singlet_QITE_QPE_L='+str(L)+'_'+date_time_string)\n",
    "save_data(results,'data/VQE_QITE_QPE_L='+str(L)+'_rescaled'+date_time_string)"
   ]
  },
  {
   "cell_type": "code",
   "execution_count": null,
   "metadata": {},
   "outputs": [],
   "source": []
  }
 ],
 "metadata": {
  "kernelspec": {
   "display_name": "qrisp_new",
   "language": "python",
   "name": "python3"
  },
  "language_info": {
   "codemirror_mode": {
    "name": "ipython",
    "version": 3
   },
   "file_extension": ".py",
   "mimetype": "text/x-python",
   "name": "python",
   "nbconvert_exporter": "python",
   "pygments_lexer": "ipython3",
   "version": "3.10.15"
  }
 },
 "nbformat": 4,
 "nbformat_minor": 2
}
