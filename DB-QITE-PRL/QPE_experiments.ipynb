{
 "cells": [
  {
   "cell_type": "markdown",
   "id": "e8d1c6a4",
   "metadata": {},
   "source": [
    "# Heisenberg XXX model\n",
    "\n",
    "$$ H_{\\text{TFIM}} = \\sum_{j=1}^{L}(X_jX_{j+1}+Y_jY_{j+1}+Z_jZ_{j+1}) $$\n",
    "\n",
    "pip install qrisp \n",
    "\n",
    "https://www.qrisp.eu\n"
   ]
  },
  {
   "cell_type": "code",
   "execution_count": 1,
   "id": "ba14dbf3",
   "metadata": {},
   "outputs": [],
   "source": [
    "import networkx as nx\n",
    "import numpy as np\n",
    "from scipy.sparse.linalg import eigsh\n",
    "from scipy.sparse.linalg import svds\n",
    "from qrisp.operators import X, Y, Z\n",
    "from qrisp import QuantumVariable\n",
    "from qrisp.vqe.problems.heisenberg import *\n",
    "from qrisp import QPE\n",
    "from mpl_toolkits.axes_grid1.inset_locator import inset_axes\n",
    "\n",
    "import pickle\n",
    "from time import time\n",
    "from datetime import datetime\n",
    "\n",
    "def save_data(data, filename):  \n",
    "    # Open a file for writing\n",
    "    with open(filename+'.pickle', 'wb') as file:\n",
    "        # Write the object to the file\n",
    "        pickle.dump(data, file)\n",
    "\n",
    "def load_data(filename):\n",
    "    with open(filename+'.pickle', 'rb') as file:\n",
    "        # Load the object from the file\n",
    "        data = pickle.load(file)\n",
    "    return data"
   ]
  },
  {
   "cell_type": "markdown",
   "id": "5dbc5821",
   "metadata": {},
   "source": [
    "## Define Heisenberg Hamiltonian"
   ]
  },
  {
   "cell_type": "code",
   "execution_count": 43,
   "id": "4472e67e",
   "metadata": {},
   "outputs": [],
   "source": [
    "def create_instance(L, type='Singlet'):\n",
    "\n",
    "    # Create a graph\n",
    "    G = nx.Graph()\n",
    "    G.add_edges_from([(k,k+1) for k in range(L-1)]) \n",
    "\n",
    "    def create_heisenberg_hamiltonian(G):\n",
    "        H = sum(X(i)*X(j)+Y(i)*Y(j)+Z(i)*Z(j) for (i,j) in G.edges())\n",
    "        return H\n",
    "\n",
    "    H = create_heisenberg_hamiltonian(G)\n",
    "\n",
    "    M = H.to_sparse_matrix()\n",
    "    eigenvalues, eigenvectors = eigsh(M, k=1, which='SA')\n",
    "    E0 = eigenvalues[0]\n",
    "\n",
    "    # Rescale to E0=0\n",
    "    H2 = H - E0\n",
    "\n",
    "    M = H2.to_sparse_matrix()\n",
    "    u, s, vt = svds(M, k=1, which='LM')\n",
    "    spectral_norm = s[0]\n",
    "\n",
    "    E_max = spectral_norm\n",
    "\n",
    "    # Rescale such that spectrum in [0,1)\n",
    "    H3 = H2*(1/(E_max+1))\n",
    "\n",
    "    M = H3.to_sparse_matrix()\n",
    "    eigenvalues, eigenvectors = eigsh(M, k=2, which='SA')\n",
    "\n",
    "    # Ground state\n",
    "    psi_0 = eigenvectors[:,0]\n",
    "\n",
    "    E0 = eigenvalues[0]\n",
    "    E1 = eigenvalues[1]\n",
    "\n",
    "    delta = E1-E0\n",
    "    #print('Spectral gap:', delta)\n",
    "    #print('Ground state energy:', E0)\n",
    "\n",
    "    if type=='VQE':\n",
    "        # VQE warm start\n",
    "        vqe = heisenberg_problem(G,1,0)\n",
    "        U_0 = vqe.train_function(QuantumVariable(G.number_of_nodes()),depth=1,max_iter=100)\n",
    "\n",
    "    if type=='Singlet':\n",
    "        # Tensor product of singlet states\n",
    "        M = nx.maximal_matching(G)\n",
    "        U_0 = create_heisenberg_init_function(M)\n",
    "\n",
    "    qv = QuantumVariable(G.number_of_nodes())\n",
    "    U_0(qv)\n",
    "\n",
    "    psi = qv.qs.statevector_array()\n",
    "    F0 = np.abs(np.dot(psi.conj().transpose(),psi_0))**2\n",
    "    print('Initial Fidelity', F0)\n",
    "\n",
    "    return G, H3, U_0, psi_0\n"
   ]
  },
  {
   "cell_type": "markdown",
   "id": "c90c6441",
   "metadata": {},
   "source": [
    "# Benchmarking"
   ]
  },
  {
   "cell_type": "code",
   "execution_count": 42,
   "id": "f0d3fa68",
   "metadata": {},
   "outputs": [],
   "source": [
    "def prepare_ground_state(precision, steps, G, H, U_0, psi_0, results_dict):\n",
    "\n",
    "    result = dict()\n",
    "\n",
    "    qv = QuantumVariable(G.number_of_nodes())\n",
    "    U_0(qv)\n",
    "\n",
    "    # Hamiltonian simulation via first order Suzuki-Trotter formula with 5 steps \n",
    "    # Note: 5 steps are insufficient to obtain the ground state energy within error 0.1 (10 steps are sufficent)\n",
    "    exp_H = H.trotterization(order=2,forward_evolution=False)\n",
    "\n",
    "    qpe_res = QPE(qv,exp_H,precision=precision,kwargs={\"t\":2*np.pi,\"steps\":steps},iter_spec=True)\n",
    "\n",
    "    qc = qpe_res.qs.compile()\n",
    "    tqc = qc.transpile(basis_gates=[\"cz\",\"u\"])\n",
    "\n",
    "    result[\"ops\"] = tqc.count_ops()\n",
    "    result[\"depth\"] = tqc.depth()\n",
    "\n",
    "    results = qpe_res.get_measurement(precompiled_qc=qc)\n",
    "    sorted_results = dict(sorted(results.items(), key=lambda item: item[1], reverse=True))\n",
    "    #print(sorted_results)\n",
    "    P0 = sorted_results[0]\n",
    "    #print('Success probability:', P0)\n",
    "    result[\"P0\"] = P0\n",
    "\n",
    "    #qc = qpe_res.qs.compile()\n",
    "\n",
    "    n = H.find_minimal_qubit_amount()\n",
    "\n",
    "    for i in range(qc.num_qubits() - n):\n",
    "        qc.qubits.insert(0, qc.qubits.pop(-1))\n",
    "\n",
    "    phi = qc.statevector_array()[:2**n]\n",
    "    phi = phi/np.linalg.norm(phi)\n",
    "\n",
    "    F0 = (np.abs(np.dot(phi.conj().transpose(),psi_0))**2)\n",
    "    #print('Fidelity:', F0)\n",
    "    result[\"F0\"] = F0\n",
    "\n",
    "    results_dict[precision] = result\n",
    "\n"
   ]
  },
  {
   "cell_type": "code",
   "execution_count": 67,
   "id": "9e0cd4cb",
   "metadata": {},
   "outputs": [],
   "source": [
    "def benchmark(L):\n",
    "\n",
    "    G, H, U_0, psi_0 = create_instance(L, type='Singlet')\n",
    "    results_dict = dict()\n",
    "    precision_range = [1,2,3,4,5]\n",
    "    for precision in precision_range:\n",
    "        prepare_ground_state(precision, 2, G, H, U_0, psi_0, results_dict)\n",
    "\n",
    "    return results_dict\n"
   ]
  },
  {
   "cell_type": "code",
   "execution_count": 68,
   "id": "efb28569",
   "metadata": {},
   "outputs": [
    {
     "name": "stdout",
     "output_type": "stream",
     "text": [
      "Initial Fidelity 0.6826139052502765                                                  \u001b[2K\n",
      "Simulating 15 qubits.. |████████████████▍                                    | [ 31%]\u001b[2K"
     ]
    },
    {
     "ename": "KeyboardInterrupt",
     "evalue": "",
     "output_type": "error",
     "traceback": [
      "\u001b[0;31m---------------------------------------------------------------------------\u001b[0m",
      "\u001b[0;31mKeyboardInterrupt\u001b[0m                         Traceback (most recent call last)",
      "Cell \u001b[0;32mIn[68], line 3\u001b[0m\n\u001b[1;32m      1\u001b[0m benchmark_results \u001b[38;5;241m=\u001b[39m \u001b[38;5;28mdict\u001b[39m()\n\u001b[1;32m      2\u001b[0m \u001b[38;5;28;01mfor\u001b[39;00m L \u001b[38;5;129;01min\u001b[39;00m \u001b[38;5;28mrange\u001b[39m(\u001b[38;5;241m10\u001b[39m,\u001b[38;5;241m22\u001b[39m,\u001b[38;5;241m2\u001b[39m):\n\u001b[0;32m----> 3\u001b[0m     res \u001b[38;5;241m=\u001b[39m \u001b[43mbenchmark\u001b[49m\u001b[43m(\u001b[49m\u001b[43mL\u001b[49m\u001b[43m)\u001b[49m\n\u001b[1;32m      4\u001b[0m     benchmark_results[L] \u001b[38;5;241m=\u001b[39m res\n",
      "Cell \u001b[0;32mIn[67], line 7\u001b[0m, in \u001b[0;36mbenchmark\u001b[0;34m(L)\u001b[0m\n\u001b[1;32m      5\u001b[0m precision_range \u001b[38;5;241m=\u001b[39m [\u001b[38;5;241m1\u001b[39m,\u001b[38;5;241m2\u001b[39m,\u001b[38;5;241m3\u001b[39m,\u001b[38;5;241m4\u001b[39m,\u001b[38;5;241m5\u001b[39m]\n\u001b[1;32m      6\u001b[0m \u001b[38;5;28;01mfor\u001b[39;00m precision \u001b[38;5;129;01min\u001b[39;00m precision_range:\n\u001b[0;32m----> 7\u001b[0m     \u001b[43mprepare_ground_state\u001b[49m\u001b[43m(\u001b[49m\u001b[43mprecision\u001b[49m\u001b[43m,\u001b[49m\u001b[43m \u001b[49m\u001b[38;5;241;43m2\u001b[39;49m\u001b[43m,\u001b[49m\u001b[43m \u001b[49m\u001b[43mG\u001b[49m\u001b[43m,\u001b[49m\u001b[43m \u001b[49m\u001b[43mH\u001b[49m\u001b[43m,\u001b[49m\u001b[43m \u001b[49m\u001b[43mU_0\u001b[49m\u001b[43m,\u001b[49m\u001b[43m \u001b[49m\u001b[43mpsi_0\u001b[49m\u001b[43m,\u001b[49m\u001b[43m \u001b[49m\u001b[43mresults_dict\u001b[49m\u001b[43m)\u001b[49m\n\u001b[1;32m      9\u001b[0m \u001b[38;5;28;01mreturn\u001b[39;00m results_dict\n",
      "Cell \u001b[0;32mIn[42], line 34\u001b[0m, in \u001b[0;36mprepare_ground_state\u001b[0;34m(precision, steps, G, H, U_0, psi_0, results_dict)\u001b[0m\n\u001b[1;32m     31\u001b[0m \u001b[38;5;28;01mfor\u001b[39;00m i \u001b[38;5;129;01min\u001b[39;00m \u001b[38;5;28mrange\u001b[39m(qc\u001b[38;5;241m.\u001b[39mnum_qubits() \u001b[38;5;241m-\u001b[39m n):\n\u001b[1;32m     32\u001b[0m     qc\u001b[38;5;241m.\u001b[39mqubits\u001b[38;5;241m.\u001b[39minsert(\u001b[38;5;241m0\u001b[39m, qc\u001b[38;5;241m.\u001b[39mqubits\u001b[38;5;241m.\u001b[39mpop(\u001b[38;5;241m-\u001b[39m\u001b[38;5;241m1\u001b[39m))\n\u001b[0;32m---> 34\u001b[0m phi \u001b[38;5;241m=\u001b[39m \u001b[43mqc\u001b[49m\u001b[38;5;241;43m.\u001b[39;49m\u001b[43mstatevector_array\u001b[49m\u001b[43m(\u001b[49m\u001b[43m)\u001b[49m[:\u001b[38;5;241m2\u001b[39m\u001b[38;5;241m*\u001b[39m\u001b[38;5;241m*\u001b[39mn]\n\u001b[1;32m     35\u001b[0m phi \u001b[38;5;241m=\u001b[39m phi\u001b[38;5;241m/\u001b[39mnp\u001b[38;5;241m.\u001b[39mlinalg\u001b[38;5;241m.\u001b[39mnorm(phi)\n\u001b[1;32m     37\u001b[0m F0 \u001b[38;5;241m=\u001b[39m (np\u001b[38;5;241m.\u001b[39mabs(np\u001b[38;5;241m.\u001b[39mdot(phi\u001b[38;5;241m.\u001b[39mconj()\u001b[38;5;241m.\u001b[39mtranspose(),psi_0))\u001b[38;5;241m*\u001b[39m\u001b[38;5;241m*\u001b[39m\u001b[38;5;241m2\u001b[39m)\n",
      "File \u001b[0;32m~/Desktop/Qrisp/src/qrisp/circuit/quantum_circuit.py:1655\u001b[0m, in \u001b[0;36mQuantumCircuit.statevector_array\u001b[0;34m(self)\u001b[0m\n\u001b[1;32m   1606\u001b[0m \u001b[38;5;250m\u001b[39m\u001b[38;5;124;03m\"\"\"\u001b[39;00m\n\u001b[1;32m   1607\u001b[0m \u001b[38;5;124;03mPerforms a simulation of the statevector of self and returns a numpy array of\u001b[39;00m\n\u001b[1;32m   1608\u001b[0m \u001b[38;5;124;03mcomplex numbers.\u001b[39;00m\n\u001b[0;32m   (...)\u001b[0m\n\u001b[1;32m   1651\u001b[0m \n\u001b[1;32m   1652\u001b[0m \u001b[38;5;124;03m\"\"\"\u001b[39;00m\n\u001b[1;32m   1653\u001b[0m \u001b[38;5;28;01mfrom\u001b[39;00m \u001b[38;5;21;01mqrisp\u001b[39;00m\u001b[38;5;21;01m.\u001b[39;00m\u001b[38;5;21;01msimulator\u001b[39;00m \u001b[38;5;28;01mimport\u001b[39;00m statevector_sim\n\u001b[0;32m-> 1655\u001b[0m \u001b[38;5;28;01mreturn\u001b[39;00m \u001b[43mstatevector_sim\u001b[49m\u001b[43m(\u001b[49m\u001b[38;5;28;43mself\u001b[39;49m\u001b[43m)\u001b[49m\n",
      "File \u001b[0;32m~/Desktop/Qrisp/src/qrisp/simulator/simulator.py:291\u001b[0m, in \u001b[0;36mstatevector_sim\u001b[0;34m(qc)\u001b[0m\n\u001b[1;32m    288\u001b[0m     qubit_indices \u001b[38;5;241m=\u001b[39m [qc\u001b[38;5;241m.\u001b[39mqubits\u001b[38;5;241m.\u001b[39mindex(qb) \u001b[38;5;28;01mfor\u001b[39;00m qb \u001b[38;5;129;01min\u001b[39;00m instr\u001b[38;5;241m.\u001b[39mqubits]\n\u001b[1;32m    290\u001b[0m     \u001b[38;5;66;03m# Perform instructions\u001b[39;00m\n\u001b[0;32m--> 291\u001b[0m     \u001b[43mqs\u001b[49m\u001b[38;5;241;43m.\u001b[39;49m\u001b[43mapply_operation\u001b[49m\u001b[43m(\u001b[49m\u001b[43minstr\u001b[49m\u001b[38;5;241;43m.\u001b[39;49m\u001b[43mop\u001b[49m\u001b[43m,\u001b[49m\u001b[43m \u001b[49m\u001b[43mqubit_indices\u001b[49m\u001b[43m)\u001b[49m\n\u001b[1;32m    293\u001b[0m res \u001b[38;5;241m=\u001b[39m qs\u001b[38;5;241m.\u001b[39meval()\u001b[38;5;241m.\u001b[39mtensor_array\u001b[38;5;241m.\u001b[39mto_array()\n\u001b[1;32m    295\u001b[0m progress_bar\u001b[38;5;241m.\u001b[39mclose()\n",
      "File \u001b[0;32m~/Desktop/Qrisp/src/qrisp/simulator/quantum_state.py:81\u001b[0m, in \u001b[0;36mQuantumState.apply_operation\u001b[0;34m(self, operation, qubits)\u001b[0m\n\u001b[1;32m     78\u001b[0m unitary \u001b[38;5;241m=\u001b[39m operation\u001b[38;5;241m.\u001b[39mget_unitary()\n\u001b[1;32m     80\u001b[0m \u001b[38;5;66;03m# Apply the matrix\u001b[39;00m\n\u001b[0;32m---> 81\u001b[0m \u001b[43mentangled_factor\u001b[49m\u001b[38;5;241;43m.\u001b[39;49m\u001b[43mapply_matrix\u001b[49m\u001b[43m(\u001b[49m\u001b[43munitary\u001b[49m\u001b[43m,\u001b[49m\u001b[43m \u001b[49m\u001b[43mqubits\u001b[49m\u001b[43m)\u001b[49m\n\u001b[1;32m     83\u001b[0m \u001b[38;5;28;01mif\u001b[39;00m \u001b[38;5;28mlen\u001b[39m(entangled_factor\u001b[38;5;241m.\u001b[39mqubits) \u001b[38;5;241m<\u001b[39m \u001b[38;5;241m25\u001b[39m \u001b[38;5;129;01mor\u001b[39;00m entangled_factor\u001b[38;5;241m.\u001b[39mtensor_array\u001b[38;5;241m.\u001b[39mdata\u001b[38;5;241m.\u001b[39mdtype \u001b[38;5;241m==\u001b[39m xp\u001b[38;5;241m.\u001b[39mdtype(\u001b[38;5;124m\"\u001b[39m\u001b[38;5;124mO\u001b[39m\u001b[38;5;124m\"\u001b[39m):\n\u001b[1;32m     84\u001b[0m     \u001b[38;5;28;01mreturn\u001b[39;00m\n",
      "\u001b[0;31mKeyboardInterrupt\u001b[0m: "
     ]
    },
    {
     "name": "stdout",
     "output_type": "stream",
     "text": [
      "Simulating 15 qubits.. |████████████████▋                                    | [ 32%]"
     ]
    }
   ],
   "source": [
    "benchmark_results = dict()\n",
    "for L in range(10,22,2):\n",
    "    res = benchmark(L)\n",
    "    benchmark_results[L] = res\n"
   ]
  },
  {
   "cell_type": "code",
   "execution_count": null,
   "id": "e11844dd",
   "metadata": {},
   "outputs": [],
   "source": [
    "# Save benchmark data\n",
    "current_datetime = datetime.now()\n",
    "date_time_string = current_datetime.strftime(\"%m-%d-%H\")\n",
    "#save_data(benchmark_results,'data/benchmarks_QPE_Singlet'+date_time_string)"
   ]
  },
  {
   "cell_type": "code",
   "execution_count": null,
   "id": "ec6773dc",
   "metadata": {},
   "outputs": [],
   "source": []
  }
 ],
 "metadata": {
  "kernelspec": {
   "display_name": "qrisp_new",
   "language": "python",
   "name": "python3"
  },
  "language_info": {
   "codemirror_mode": {
    "name": "ipython",
    "version": 3
   },
   "file_extension": ".py",
   "mimetype": "text/x-python",
   "name": "python",
   "nbconvert_exporter": "python",
   "pygments_lexer": "ipython3",
   "version": "3.10.15"
  }
 },
 "nbformat": 4,
 "nbformat_minor": 5
}
