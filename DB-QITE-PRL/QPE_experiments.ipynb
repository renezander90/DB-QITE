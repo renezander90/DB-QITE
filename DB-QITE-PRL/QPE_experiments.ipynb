{
 "cells": [
  {
   "cell_type": "markdown",
   "id": "e8d1c6a4",
   "metadata": {},
   "source": [
    "# Heisenberg XXX model\n",
    "\n",
    "$$ H_{\\text{TFIM}} = \\sum_{j=1}^{L}(X_jX_{j+1}+Y_jY_{j+1}+Z_jZ_{j+1}) $$\n",
    "\n",
    "pip install qrisp \n",
    "\n",
    "https://www.qrisp.eu\n"
   ]
  },
  {
   "cell_type": "code",
   "execution_count": 1,
   "id": "ba14dbf3",
   "metadata": {},
   "outputs": [],
   "source": [
    "import networkx as nx\n",
    "import numpy as np\n",
    "from scipy.sparse.linalg import eigsh\n",
    "from scipy.sparse.linalg import svds\n",
    "from qrisp.operators import X, Y, Z\n",
    "from qrisp import QuantumVariable\n",
    "from qrisp.vqe.problems.heisenberg import *\n",
    "from qrisp import QPE\n",
    "from mpl_toolkits.axes_grid1.inset_locator import inset_axes\n",
    "\n",
    "import pickle\n",
    "from time import time\n",
    "from datetime import datetime\n",
    "\n",
    "def save_data(data, filename):  \n",
    "    # Open a file for writing\n",
    "    with open(filename+'.pickle', 'wb') as file:\n",
    "        # Write the object to the file\n",
    "        pickle.dump(data, file)\n",
    "\n",
    "def load_data(filename):\n",
    "    with open(filename+'.pickle', 'rb') as file:\n",
    "        # Load the object from the file\n",
    "        data = pickle.load(file)\n",
    "    return data"
   ]
  },
  {
   "cell_type": "markdown",
   "id": "5dbc5821",
   "metadata": {},
   "source": [
    "## Define Heisenberg Hamiltonian"
   ]
  },
  {
   "cell_type": "code",
   "execution_count": null,
   "id": "4472e67e",
   "metadata": {},
   "outputs": [],
   "source": [
    "def create_instance(L, type='Singlet'):\n",
    "\n",
    "    # Create a graph\n",
    "    G = nx.Graph()\n",
    "    G.add_edges_from([(k,k+1) for k in range(L-1)]) \n",
    "\n",
    "    def create_heisenberg_hamiltonian(G):\n",
    "        H = sum(X(i)*X(j)+Y(i)*Y(j)+Z(i)*Z(j) for (i,j) in G.edges())\n",
    "        return H\n",
    "\n",
    "    H = create_heisenberg_hamiltonian(G)\n",
    "\n",
    "    M = H.to_sparse_matrix()\n",
    "    eigenvalues, eigenvectors = eigsh(M, k=1, which='SA')\n",
    "    E0 = eigenvalues[0]\n",
    "\n",
    "    # Rescale to E0=0\n",
    "    H2 = H - E0\n",
    "\n",
    "    M = H2.to_sparse_matrix()\n",
    "    u, s, vt = svds(M, k=1, which='LM')\n",
    "    spectral_norm = s[0]\n",
    "\n",
    "    E_max = spectral_norm\n",
    "\n",
    "    # Rescale such that spectrum in [0,1)\n",
    "    H3 = H2*(1/(E_max+1))\n",
    "    #H3 = H2*(1/(E_max))*(1/10) \n",
    "\n",
    "    M = H3.to_sparse_matrix()\n",
    "    eigenvalues, eigenvectors = eigsh(M, k=2, which='SA')\n",
    "\n",
    "    # Ground state\n",
    "    psi_0 = eigenvectors[:,0]\n",
    "\n",
    "    E0 = eigenvalues[0]\n",
    "    E1 = eigenvalues[1]\n",
    "\n",
    "    delta = E1-E0\n",
    "    #print('Spectral gap:', delta)\n",
    "    #print('Ground state energy:', E0)\n",
    "\n",
    "    if type=='VQE':\n",
    "        # VQE warm start\n",
    "        vqe = heisenberg_problem(G,1,0)\n",
    "        U_0 = vqe.train_function(QuantumVariable(G.number_of_nodes()),depth=1,max_iter=100)\n",
    "\n",
    "    if type=='Singlet':\n",
    "        # Tensor product of singlet states\n",
    "        M = nx.maximal_matching(G)\n",
    "        U_0 = create_heisenberg_init_function(M)\n",
    "\n",
    "    qv = QuantumVariable(G.number_of_nodes())\n",
    "    U_0(qv)\n",
    "\n",
    "    psi = qv.qs.statevector_array()\n",
    "    F0 = np.abs(np.dot(psi.conj().transpose(),psi_0))**2\n",
    "    print('Initial Fidelity', F0)\n",
    "\n",
    "    return G, H3, U_0, psi_0\n"
   ]
  },
  {
   "cell_type": "markdown",
   "id": "c90c6441",
   "metadata": {},
   "source": [
    "# Benchmarking"
   ]
  },
  {
   "cell_type": "code",
   "execution_count": 7,
   "id": "f0d3fa68",
   "metadata": {},
   "outputs": [],
   "source": [
    "def prepare_ground_state(precision, steps, G, H, U_0, psi_0, results_dict):\n",
    "\n",
    "    result = dict()\n",
    "\n",
    "    qv = QuantumVariable(G.number_of_nodes())\n",
    "    U_0(qv)\n",
    "\n",
    "    # Hamiltonian simulation via first order Suzuki-Trotter formula with 5 steps \n",
    "    # Note: 5 steps are insufficient to obtain the ground state energy within error 0.1 (10 steps are sufficent)\n",
    "    exp_H = H.trotterization(order=2,forward_evolution=False)\n",
    "\n",
    "    qpe_res = QPE(qv,exp_H,precision=precision,kwargs={\"t\":2*np.pi,\"steps\":steps},iter_spec=True)\n",
    "\n",
    "    qc = qpe_res.qs.compile()\n",
    "    tqc = qc.transpile(basis_gates=[\"cz\",\"u\"])\n",
    "\n",
    "    result[\"ops\"] = tqc.count_ops()\n",
    "    result[\"depth\"] = tqc.depth()\n",
    "\n",
    "    results = qpe_res.get_measurement(precompiled_qc=qc)\n",
    "    sorted_results = dict(sorted(results.items(), key=lambda item: item[1], reverse=True))\n",
    "    #print(sorted_results)\n",
    "    P0 = sorted_results[0]\n",
    "    #print('Success probability:', P0)\n",
    "    result[\"P0\"] = P0\n",
    "\n",
    "    #qc = qpe_res.qs.compile()\n",
    "\n",
    "    n = H.find_minimal_qubit_amount()\n",
    "\n",
    "    for i in range(qc.num_qubits() - n):\n",
    "        qc.qubits.insert(0, qc.qubits.pop(-1))\n",
    "\n",
    "    phi = qc.statevector_array()[:2**n]\n",
    "    phi = phi/np.linalg.norm(phi)\n",
    "\n",
    "    F0 = (np.abs(np.dot(phi.conj().transpose(),psi_0))**2)\n",
    "    #print('Fidelity:', F0)\n",
    "    result[\"F0\"] = F0\n",
    "\n",
    "    results_dict[precision] = result\n",
    "\n"
   ]
  },
  {
   "cell_type": "code",
   "execution_count": 8,
   "id": "9e0cd4cb",
   "metadata": {},
   "outputs": [],
   "source": [
    "def benchmark(L):\n",
    "\n",
    "    G, H, U_0, psi_0 = create_instance(L, type='Singlet')\n",
    "    results_dict = dict()\n",
    "    precision_range = [1,2,3,4,5]\n",
    "    for precision in precision_range:\n",
    "        prepare_ground_state(precision, 2, G, H, U_0, psi_0, results_dict)\n",
    "\n",
    "    return results_dict\n"
   ]
  },
  {
   "cell_type": "code",
   "execution_count": 9,
   "id": "efb28569",
   "metadata": {},
   "outputs": [
    {
     "name": "stdout",
     "output_type": "stream",
     "text": [
      "Initial Fidelity 0.6826139052502757                                                  \u001b[2K\n",
      "Initial Fidelity 0.6057654115860739                                                  \u001b[2K\n",
      "Initial Fidelity 0.5353533643673487                                                  \u001b[2K\n",
      "Initial Fidelity 0.47162856961970107                                                 \u001b[2K\n",
      "Initial Fidelity 0.4144467720575188                                                  \u001b[2K\n",
      "Initial Fidelity 0.363455182303966                                                   \u001b[2K\n",
      "                                                                                     \u001b[2K\r"
     ]
    }
   ],
   "source": [
    "benchmark_results = dict()\n",
    "for L in range(10,22,2):\n",
    "    res = benchmark(L)\n",
    "    benchmark_results[L] = res\n"
   ]
  },
  {
   "cell_type": "code",
   "execution_count": null,
   "id": "e11844dd",
   "metadata": {},
   "outputs": [],
   "source": [
    "# Save benchmark data\n",
    "current_datetime = datetime.now()\n",
    "date_time_string = current_datetime.strftime(\"%m-%d-%H\")\n",
    "#save_data(benchmark_results,'data/benchmarks_QPE_Singlet_'+date_time_string)"
   ]
  },
  {
   "cell_type": "code",
   "execution_count": null,
   "id": "ec6773dc",
   "metadata": {},
   "outputs": [],
   "source": []
  }
 ],
 "metadata": {
  "kernelspec": {
   "display_name": "qrisp_new",
   "language": "python",
   "name": "python3"
  },
  "language_info": {
   "codemirror_mode": {
    "name": "ipython",
    "version": 3
   },
   "file_extension": ".py",
   "mimetype": "text/x-python",
   "name": "python",
   "nbconvert_exporter": "python",
   "pygments_lexer": "ipython3",
   "version": "3.10.15"
  }
 },
 "nbformat": 4,
 "nbformat_minor": 5
}
