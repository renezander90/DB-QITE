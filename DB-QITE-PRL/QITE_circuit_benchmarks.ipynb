{
 "cells": [
  {
   "cell_type": "code",
   "execution_count": 9,
   "metadata": {},
   "outputs": [],
   "source": [
    "#\n",
    "# Please execute on QITE_experiments branch from GitHub\n",
    "# \n",
    "\n",
    "from qrisp import QuantumVariable, h, x, prepare, conjugate\n",
    "from qrisp.vqe import VQEProblem\n",
    "from qrisp.vqe.problems.heisenberg import create_heisenberg_init_function, heisenberg_problem, create_heisenberg_hamiltonian\n",
    "import networkx as nx\n",
    "import numpy as np\n",
    "import scipy\n",
    "import matplotlib.pyplot as plt\n",
    "from compile_QITE import compile_QITE\n",
    "\n",
    "import pickle\n",
    "from time import time\n",
    "from datetime import datetime\n",
    "\n",
    "def save_data(data, filename):  \n",
    "    # Open a file for writing\n",
    "    with open(filename+'.pickle', 'wb') as file:\n",
    "        # Write the object to the file\n",
    "        pickle.dump(data, file)\n",
    "\n",
    "def load_data(filename):\n",
    "    with open(filename+'.pickle', 'rb') as file:\n",
    "        # Load the object from the file\n",
    "        data = pickle.load(file)\n",
    "    return data"
   ]
  },
  {
   "cell_type": "code",
   "execution_count": 13,
   "metadata": {},
   "outputs": [],
   "source": [
    "L = 50\n",
    "G = nx.Graph()\n",
    "G.add_edges_from([(k,(k+1)%L) for k in range(L-1)]) \n",
    "# nx.draw(G, with_labels=True)"
   ]
  },
  {
   "cell_type": "code",
   "execution_count": 14,
   "metadata": {},
   "outputs": [
    {
     "name": "stdout",
     "output_type": "stream",
     "text": [
      "X(0)*X(1) + X(1)*X(2) + X(10)*X(11) + X(11)*X(12) + X(12)*X(13) + X(13)*X(14) + X(14)*X(15) + X(15)*X(16) + X(16)*X(17) + X(17)*X(18) + X(18)*X(19) + X(19)*X(20) + X(2)*X(3) + X(20)*X(21) + X(21)*X(22) + X(22)*X(23) + X(23)*X(24) + X(24)*X(25) + X(25)*X(26) + X(26)*X(27) + X(27)*X(28) + X(28)*X(29) + X(29)*X(30) + X(3)*X(4) + X(30)*X(31) + X(31)*X(32) + X(32)*X(33) + X(33)*X(34) + X(34)*X(35) + X(35)*X(36) + X(36)*X(37) + X(37)*X(38) + X(38)*X(39) + X(39)*X(40) + X(4)*X(5) + X(40)*X(41) + X(41)*X(42) + X(42)*X(43) + X(43)*X(44) + X(44)*X(45) + X(45)*X(46) + X(46)*X(47) + X(47)*X(48) + X(48)*X(49) + X(5)*X(6) + X(6)*X(7) + X(7)*X(8) + X(8)*X(9) + X(9)*X(10) + Y(0)*Y(1) + Y(1)*Y(2) + Y(10)*Y(11) + Y(11)*Y(12) + Y(12)*Y(13) + Y(13)*Y(14) + Y(14)*Y(15) + Y(15)*Y(16) + Y(16)*Y(17) + Y(17)*Y(18) + Y(18)*Y(19) + Y(19)*Y(20) + Y(2)*Y(3) + Y(20)*Y(21) + Y(21)*Y(22) + Y(22)*Y(23) + Y(23)*Y(24) + Y(24)*Y(25) + Y(25)*Y(26) + Y(26)*Y(27) + Y(27)*Y(28) + Y(28)*Y(29) + Y(29)*Y(30) + Y(3)*Y(4) + Y(30)*Y(31) + Y(31)*Y(32) + Y(32)*Y(33) + Y(33)*Y(34) + Y(34)*Y(35) + Y(35)*Y(36) + Y(36)*Y(37) + Y(37)*Y(38) + Y(38)*Y(39) + Y(39)*Y(40) + Y(4)*Y(5) + Y(40)*Y(41) + Y(41)*Y(42) + Y(42)*Y(43) + Y(43)*Y(44) + Y(44)*Y(45) + Y(45)*Y(46) + Y(46)*Y(47) + Y(47)*Y(48) + Y(48)*Y(49) + Y(5)*Y(6) + Y(6)*Y(7) + Y(7)*Y(8) + Y(8)*Y(9) + Y(9)*Y(10) + Z(0)*Z(1) + Z(1)*Z(2) + Z(10)*Z(11) + Z(11)*Z(12) + Z(12)*Z(13) + Z(13)*Z(14) + Z(14)*Z(15) + Z(15)*Z(16) + Z(16)*Z(17) + Z(17)*Z(18) + Z(18)*Z(19) + Z(19)*Z(20) + Z(2)*Z(3) + Z(20)*Z(21) + Z(21)*Z(22) + Z(22)*Z(23) + Z(23)*Z(24) + Z(24)*Z(25) + Z(25)*Z(26) + Z(26)*Z(27) + Z(27)*Z(28) + Z(28)*Z(29) + Z(29)*Z(30) + Z(3)*Z(4) + Z(30)*Z(31) + Z(31)*Z(32) + Z(32)*Z(33) + Z(33)*Z(34) + Z(34)*Z(35) + Z(35)*Z(36) + Z(36)*Z(37) + Z(37)*Z(38) + Z(38)*Z(39) + Z(39)*Z(40) + Z(4)*Z(5) + Z(40)*Z(41) + Z(41)*Z(42) + Z(42)*Z(43) + Z(43)*Z(44) + Z(44)*Z(45) + Z(45)*Z(46) + Z(46)*Z(47) + Z(47)*Z(48) + Z(48)*Z(49) + Z(5)*Z(6) + Z(6)*Z(7) + Z(7)*Z(8) + Z(8)*Z(9) + Z(9)*Z(10)\n"
     ]
    }
   ],
   "source": [
    "from qrisp.operators import X, Y, Z\n",
    "\n",
    "J = 1\n",
    "B = 0\n",
    "H = create_heisenberg_hamiltonian(G, J, B)\n",
    "print(H)\n",
    "\n",
    "# Define scaling factor\n",
    "F = 10\n",
    "\n",
    "# Hamiltonian simulation via first order Suzuki-Trotter formula with 5 steps\n",
    "def exp_H(qv, t):\n",
    "    H.trotterization(method='commuting')(qv,t/F,5)\n",
    "\n",
    "# Hamiltonian simulation via second order Suzuki-Trotter formula with 2 steps\n",
    "def exp_H_2(qv, t):\n",
    "    H.trotterization(order=2,method='commuting')(qv,t/F,2)"
   ]
  },
  {
   "cell_type": "markdown",
   "metadata": {},
   "source": [
    "## QITE with singlet, plus, vqe warm start"
   ]
  },
  {
   "cell_type": "code",
   "execution_count": 15,
   "metadata": {},
   "outputs": [],
   "source": [
    "# Tensor product of singlet states\n",
    "M = nx.maximal_matching(G)\n",
    "U_singlet = create_heisenberg_init_function(M)\n",
    "\n",
    "# HVA\n",
    "H0 = sum((X(i)*X(j)+Y(i)*Y(j)+Z(i)*Z(j)) for i,j in M)\n",
    "H1 = sum((X(i)*X(j)+Y(i)*Y(j)+Z(i)*Z(j)) for i,j in set(G.edges())-M)\n",
    "\n",
    "def ansatz(qv,theta):\n",
    "    # Rescaling t->1/4 equivalent to choosing rescaled inital parameters for VQE\n",
    "    H1.trotterization(method='commuting')(qv,t=theta[1]/4)\n",
    "    H0.trotterization(method='commuting')(qv,t=theta[0]/4)\n",
    "\n",
    "def U_vqe(qv):\n",
    "    return ansatz(qv, [1,1])\n",
    "\n",
    "# Calculate energy for HVA\n",
    "def state_prep():\n",
    "    qv = QuantumVariable(L)\n",
    "    U_vqe(qv)\n",
    "    return qv\n",
    "\n",
    "#print(H.expectation_value(state_prep)())\n",
    "\n",
    "results = []\n",
    "\n",
    "results.append(compile_QITE(H, U_singlet, exp_H_2, [1,1,1,1,1], 3, method='GC'))\n",
    "results.append(compile_QITE(H, U_vqe, exp_H_2, [1,1,1,1,1], 3, method='GC'))"
   ]
  },
  {
   "cell_type": "code",
   "execution_count": 10,
   "metadata": {},
   "outputs": [],
   "source": [
    "# Save benchmark data\n",
    "current_datetime = datetime.now()\n",
    "date_time_string = current_datetime.strftime(\"%m-%d-%H\")\n",
    "#save_data(results,'data/circuit_benchmarks_2nd_L='+str(L)+'_'+date_time_string)"
   ]
  },
  {
   "cell_type": "code",
   "execution_count": 5,
   "metadata": {},
   "outputs": [
    {
     "data": {
      "text/plain": [
       "[{'circuit_data': [{0: {'u3': 75, 'cz': 25},\n",
       "    1: {'u3': 2527, 'cz': 1551},\n",
       "    2: {'u3': 9104, 'cz': 5695},\n",
       "    3: {'u3': 28835, 'cz': 18127}},\n",
       "   {0: 50, 1: 52, 2: 52, 3: 52},\n",
       "   {0: 3, 1: 519, 2: 2031, 3: 6567}]},\n",
       " {'circuit_data': [{0: {'u3': 343, 'cz': 196},\n",
       "    1: {'u3': 3378, 'cz': 2064},\n",
       "    2: {'u3': 11707, 'cz': 7234},\n",
       "    3: {'u3': 36694, 'cz': 22744}},\n",
       "   {0: 50, 1: 52, 2: 52, 3: 52},\n",
       "   {0: 17, 1: 561, 2: 2157, 3: 6945}]}]"
      ]
     },
     "execution_count": 5,
     "metadata": {},
     "output_type": "execute_result"
    }
   ],
   "source": [
    "results"
   ]
  }
 ],
 "metadata": {
  "kernelspec": {
   "display_name": "qrisp",
   "language": "python",
   "name": "python3"
  },
  "language_info": {
   "codemirror_mode": {
    "name": "ipython",
    "version": 3
   },
   "file_extension": ".py",
   "mimetype": "text/x-python",
   "name": "python",
   "nbconvert_exporter": "python",
   "pygments_lexer": "ipython3",
   "version": "3.10.16"
  }
 },
 "nbformat": 4,
 "nbformat_minor": 2
}
