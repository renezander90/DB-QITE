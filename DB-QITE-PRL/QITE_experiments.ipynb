{
 "cells": [
  {
   "cell_type": "code",
   "execution_count": 29,
   "metadata": {},
   "outputs": [],
   "source": [
    "#\n",
    "# Please execute on QITE_experiments branch from GitHub\n",
    "# \n",
    "\n",
    "from qrisp import QuantumVariable, h, x, prepare, conjugate\n",
    "from qrisp.vqe import VQEProblem\n",
    "from qrisp.vqe.problems.heisenberg import create_heisenberg_init_function, heisenberg_problem, create_heisenberg_hamiltonian\n",
    "import networkx as nx\n",
    "import numpy as np\n",
    "import scipy\n",
    "import matplotlib.pyplot as plt\n",
    "from run_QITE_PRL import run_QITE_PRL\n",
    "\n",
    "import pickle\n",
    "from time import time\n",
    "from datetime import datetime\n",
    "\n",
    "def save_data(data, filename):  \n",
    "    # Open a file for writing\n",
    "    with open(filename+'.pickle', 'wb') as file:\n",
    "        # Write the object to the file\n",
    "        pickle.dump(data, file)\n",
    "\n",
    "def load_data(filename):\n",
    "    with open(filename+'.pickle', 'rb') as file:\n",
    "        # Load the object from the file\n",
    "        data = pickle.load(file)\n",
    "    return data"
   ]
  },
  {
   "cell_type": "code",
   "execution_count": 30,
   "metadata": {},
   "outputs": [],
   "source": [
    "L = 20\n",
    "G = nx.Graph()\n",
    "G.add_edges_from([(k,(k+1)%L) for k in range(L-1)]) \n",
    "# nx.draw(G, with_labels=True)"
   ]
  },
  {
   "cell_type": "code",
   "execution_count": null,
   "metadata": {},
   "outputs": [
    {
     "name": "stdout",
     "output_type": "stream",
     "text": [
      "X(0)*X(1) + X(1)*X(2) + X(10)*X(11) + X(11)*X(12) + X(12)*X(13) + X(13)*X(14) + X(14)*X(15) + X(15)*X(16) + X(16)*X(17) + X(17)*X(18) + X(18)*X(19) + X(2)*X(3) + X(3)*X(4) + X(4)*X(5) + X(5)*X(6) + X(6)*X(7) + X(7)*X(8) + X(8)*X(9) + X(9)*X(10) + Y(0)*Y(1) + Y(1)*Y(2) + Y(10)*Y(11) + Y(11)*Y(12) + Y(12)*Y(13) + Y(13)*Y(14) + Y(14)*Y(15) + Y(15)*Y(16) + Y(16)*Y(17) + Y(17)*Y(18) + Y(18)*Y(19) + Y(2)*Y(3) + Y(3)*Y(4) + Y(4)*Y(5) + Y(5)*Y(6) + Y(6)*Y(7) + Y(7)*Y(8) + Y(8)*Y(9) + Y(9)*Y(10) + Z(0)*Z(1) + Z(1)*Z(2) + Z(10)*Z(11) + Z(11)*Z(12) + Z(12)*Z(13) + Z(13)*Z(14) + Z(14)*Z(15) + Z(15)*Z(16) + Z(16)*Z(17) + Z(17)*Z(18) + Z(18)*Z(19) + Z(2)*Z(3) + Z(3)*Z(4) + Z(4)*Z(5) + Z(5)*Z(6) + Z(6)*Z(7) + Z(7)*Z(8) + Z(8)*Z(9) + Z(9)*Z(10)\n"
     ]
    }
   ],
   "source": [
    "from qrisp.operators import X, Y, Z\n",
    "\n",
    "J = 1\n",
    "B = 0\n",
    "H = create_heisenberg_hamiltonian(G, J, B)\n",
    "print(H)\n",
    "\n",
    "# Define scaling factor\n",
    "F = 10\n",
    "\n",
    "# Hamiltonian simulation via first order Suzuki-Trotter formula with 5 steps\n",
    "def exp_H(qv, t):\n",
    "    H.trotterization(method='commuting')(qv,t/F,5)\n",
    "\n",
    "# Hamiltonian simulation via second order Suzuki-Trotter formula with 2 steps\n",
    "def exp_H_2(qv, t):\n",
    "    H.trotterization(order=2,method='commuting')(qv,t/F,2)"
   ]
  },
  {
   "cell_type": "markdown",
   "metadata": {},
   "source": [
    "## QITE with singlet, plus, vqe warm start"
   ]
  },
  {
   "cell_type": "code",
   "execution_count": 32,
   "metadata": {},
   "outputs": [
    {
     "name": "stdout",
     "output_type": "stream",
     "text": [
      "-33.83877340137857                                                                   \u001b[2K\n",
      "                                                                                     \u001b[2K\r"
     ]
    }
   ],
   "source": [
    "# Tensor product of singlet states\n",
    "M = nx.maximal_matching(G)\n",
    "U_singlet = create_heisenberg_init_function(M)\n",
    "\n",
    "# HVA\n",
    "H0 = sum((X(i)*X(j)+Y(i)*Y(j)+Z(i)*Z(j)) for i,j in M)\n",
    "H1 = sum((X(i)*X(j)+Y(i)*Y(j)+Z(i)*Z(j)) for i,j in set(G.edges())-M)\n",
    "\n",
    "def ansatz(qv,theta):\n",
    "    # Rescaling t->1/4 equivalent to choosing rescaled inital parameters for VQE\n",
    "    H1.trotterization(method='commuting')(qv,t=theta[1]/4)\n",
    "    H0.trotterization(method='commuting')(qv,t=theta[0]/4)\n",
    "\n",
    "#vqe = heisenberg_problem(G,J,B, ansatz_type='per hamiltonian')\n",
    "vqe = VQEProblem(H, ansatz, 2, init_function=U_singlet)\n",
    "U_vqe = vqe.train_function(QuantumVariable(G.number_of_nodes()),depth=1,max_iter=100)\n",
    "\n",
    "# Calculate energy for HVA\n",
    "def state_prep():\n",
    "    qv = QuantumVariable(L)\n",
    "    U_vqe(qv)\n",
    "    return qv\n",
    "\n",
    "print(H.expectation_value(state_prep)())\n",
    "\n",
    "results = []\n",
    "\n",
    "results.append(run_QITE_PRL(H, U_singlet, exp_H_2, np.linspace(.01,1.5,20), 5, method='GC', use_statevectors=True))\n",
    "results.append(run_QITE_PRL(H, U_vqe, exp_H_2, np.linspace(.01,1.5,20), 5, method='GC', use_statevectors=True))"
   ]
  },
  {
   "cell_type": "code",
   "execution_count": null,
   "metadata": {},
   "outputs": [],
   "source": [
    "# Save benchmark data\n",
    "current_datetime = datetime.now()\n",
    "date_time_string = current_datetime.strftime(\"%m-%d-%H\")\n",
    "save_data(results,'data/benchmarks_2nd_L='+str(L)+'_'+date_time_string)"
   ]
  },
  {
   "cell_type": "code",
   "execution_count": null,
   "metadata": {},
   "outputs": [],
   "source": []
  }
 ],
 "metadata": {
  "kernelspec": {
   "display_name": "qrisp_new",
   "language": "python",
   "name": "python3"
  },
  "language_info": {
   "codemirror_mode": {
    "name": "ipython",
    "version": 3
   },
   "file_extension": ".py",
   "mimetype": "text/x-python",
   "name": "python",
   "nbconvert_exporter": "python",
   "pygments_lexer": "ipython3",
   "version": "3.10.15"
  }
 },
 "nbformat": 4,
 "nbformat_minor": 2
}
