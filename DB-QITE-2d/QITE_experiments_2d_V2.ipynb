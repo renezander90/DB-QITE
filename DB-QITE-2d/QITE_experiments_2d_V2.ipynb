{
 "cells": [
  {
   "cell_type": "markdown",
   "metadata": {},
   "source": [
    "pip install qrisp \n",
    "\n",
    "https://www.qrisp.eu\n",
    "\n",
    "DB-QITE implementation in Qrisp: https://qrisp.eu/reference/Algorithms/QITE.html\n",
    "\n",
    "Experiments performed on QITE_experiments branch: https://github.com/eclipse-qrisp/Qrisp/tree/QITE_experiments with lowered simulator cutoff_ratio for high precision state vector simulations\n"
   ]
  },
  {
   "cell_type": "code",
   "execution_count": 1,
   "metadata": {},
   "outputs": [],
   "source": [
    "from qrisp import QuantumVariable\n",
    "from qrisp.vqe import VQEProblem\n",
    "from qrisp.vqe.problems.heisenberg import create_heisenberg_init_function\n",
    "\n",
    "import networkx as nx\n",
    "import numpy as np\n",
    "\n",
    "import pickle\n",
    "from datetime import datetime\n",
    "\n",
    "from run_QITE import run_QITE\n",
    "\n",
    "def save_data(data, filename):  \n",
    "    # Open a file for writing\n",
    "    with open(filename+'.pickle', 'wb') as file:\n",
    "        # Write the object to the file\n",
    "        pickle.dump(data, file)\n",
    "\n",
    "def load_data(filename):\n",
    "    with open(filename+'.pickle', 'rb') as file:\n",
    "        # Load the object from the file\n",
    "        data = pickle.load(file)\n",
    "    return data"
   ]
  },
  {
   "cell_type": "markdown",
   "metadata": {},
   "source": [
    "# 2d Heisenberg XXX model\n",
    "\n",
    "$$ H_{\\text{TFIM}} = \\sum_{(i,j)\\in E}(X_iX_j+Y_iY_j+Z_iZ_j) $$"
   ]
  },
  {
   "cell_type": "code",
   "execution_count": 2,
   "metadata": {},
   "outputs": [
    {
     "data": {
      "image/png": "[encoded data removed]",
      "text/plain": [
       "<Figure size 640x480 with 1 Axes>"
      ]
     },
     "metadata": {},
     "output_type": "display_data"
    }
   ],
   "source": [
    "from qrisp.operators import X, Y, Z\n",
    "\n",
    "def generate_2D_cluster_graph(N):\n",
    "       list_horizontal = [[l*N+k,l*N+k+1] for k in range(N-1) for l in range(N)]\n",
    "       list_vertical = [[l*N+k,l*N+k+N] for k in range(N) for l in range(N-1)]\n",
    "       coupling_list = list_horizontal+list_vertical\n",
    "       graph = nx.Graph()\n",
    "       graph.add_edges_from(coupling_list)\n",
    "       pos = {l*N+k:[k,-l] for k in range(N) for l in range(N)}\n",
    "       return graph, pos\n",
    "\n",
    "L = 4\n",
    "G, pos = generate_2D_cluster_graph(L)\n",
    "\n",
    "nx.draw(G, with_labels=True,\n",
    "            pos=pos,\n",
    "            node_color='skyblue', node_size=700,\n",
    "            font_size=10, font_weight='bold',\n",
    "            edge_color='gray', alpha=0.7)"
   ]
  },
  {
   "cell_type": "code",
   "execution_count": 3,
   "metadata": {},
   "outputs": [
    {
     "name": "stdout",
     "output_type": "stream",
     "text": [
      "X(0)*X(1) + X(0)*X(4) + X(1)*X(2) + X(1)*X(5) + X(10)*X(11) + X(10)*X(14) + X(11)*X(15) + X(12)*X(13) + X(13)*X(14) + X(14)*X(15) + X(2)*X(3) + X(2)*X(6) + X(3)*X(7) + X(4)*X(5) + X(4)*X(8) + X(5)*X(6) + X(5)*X(9) + X(6)*X(10) + X(6)*X(7) + X(7)*X(11) + X(8)*X(12) + X(8)*X(9) + X(9)*X(10) + X(9)*X(13) + Y(0)*Y(1) + Y(0)*Y(4) + Y(1)*Y(2) + Y(1)*Y(5) + Y(10)*Y(11) + Y(10)*Y(14) + Y(11)*Y(15) + Y(12)*Y(13) + Y(13)*Y(14) + Y(14)*Y(15) + Y(2)*Y(3) + Y(2)*Y(6) + Y(3)*Y(7) + Y(4)*Y(5) + Y(4)*Y(8) + Y(5)*Y(6) + Y(5)*Y(9) + Y(6)*Y(10) + Y(6)*Y(7) + Y(7)*Y(11) + Y(8)*Y(12) + Y(8)*Y(9) + Y(9)*Y(10) + Y(9)*Y(13) + Z(0)*Z(1) + Z(0)*Z(4) + Z(1)*Z(2) + Z(1)*Z(5) + Z(10)*Z(11) + Z(10)*Z(14) + Z(11)*Z(15) + Z(12)*Z(13) + Z(13)*Z(14) + Z(14)*Z(15) + Z(2)*Z(3) + Z(2)*Z(6) + Z(3)*Z(7) + Z(4)*Z(5) + Z(4)*Z(8) + Z(5)*Z(6) + Z(5)*Z(9) + Z(6)*Z(10) + Z(6)*Z(7) + Z(7)*Z(11) + Z(8)*Z(12) + Z(8)*Z(9) + Z(9)*Z(10) + Z(9)*Z(13)\n"
     ]
    }
   ],
   "source": [
    "H = sum((X(i)*X(j)+Y(i)*Y(j)+Z(i)*Z(j)) for i,j in G.edges())\n",
    "print(H)\n",
    "#print(H.ground_state_energy())\n",
    "\n",
    "# Define scaling factor\n",
    "alpha = 10\n",
    "\n",
    "# Hamiltonian simulation via second order Suzuki-Trotter formula with s steps\n",
    "s = 1\n",
    "def exp_H(qv, t):\n",
    "    H.trotterization(order=2, method='commuting')(qv, t/alpha, s)"
   ]
  },
  {
   "cell_type": "markdown",
   "metadata": {},
   "source": [
    "## DB-QITE with Singlet and HVA warm-start"
   ]
  },
  {
   "cell_type": "code",
   "execution_count": 4,
   "metadata": {},
   "outputs": [
    {
     "name": "stdout",
     "output_type": "stream",
     "text": [
      "-33.781354992920775                                                                  \u001b[2K\n",
      "                                                                                     \u001b[2K\r"
     ]
    }
   ],
   "source": [
    "# Tensor product of singlet states\n",
    "M = nx.maximal_matching(G)\n",
    "U_singlet = create_heisenberg_init_function(M)\n",
    "\n",
    "# HVA\n",
    "H0 = sum((X(i)*X(j)+Y(i)*Y(j)+Z(i)*Z(j)) for i,j in M)\n",
    "H1 = sum((X(i)*X(j)+Y(i)*Y(j)+Z(i)*Z(j)) for i,j in set(G.edges())-M)\n",
    "\n",
    "def ansatz(qv, theta):\n",
    "    # Rescaling t->1/4 equivalent to choosing rescaled inital parameters for HVA\n",
    "    H1.trotterization(method='commuting')(qv, t=theta[1]/4)\n",
    "    H0.trotterization(method='commuting')(qv, t=theta[0]/4)\n",
    "\n",
    "HVA = VQEProblem(H, ansatz, 2, init_function=U_singlet)\n",
    "U_HVA = HVA.train_function(QuantumVariable(G.number_of_nodes()), depth=1, max_iter=100)\n",
    "\n",
    "# Calculate energy for HVA\n",
    "def state_prep():\n",
    "    qv = QuantumVariable(G.number_of_nodes())\n",
    "    U_HVA(qv)\n",
    "    return qv\n",
    "\n",
    "print(H.expectation_value(state_prep)())\n",
    "\n",
    "results = []\n",
    "\n",
    "results.append(run_QITE(H, U_singlet, exp_H, np.linspace(.01,1.5,10), 3, method='GC', use_statevectors=True))\n",
    "results.append(run_QITE(H, U_HVA, exp_H, np.linspace(.01,1.5,10), 3, method='GC', use_statevectors=True))"
   ]
  },
  {
   "cell_type": "code",
   "execution_count": 5,
   "metadata": {},
   "outputs": [],
   "source": [
    "# Save benchmark data\n",
    "current_datetime = datetime.now()\n",
    "date_time_string = current_datetime.strftime(\"%m-%d-%H\")\n",
    "save_data(results,'data/benchmarks_2d_L='+str(L)+'_s='+str(s)+'_'+date_time_string)"
   ]
  },
  {
   "cell_type": "code",
   "execution_count": null,
   "metadata": {},
   "outputs": [],
   "source": []
  }
 ],
 "metadata": {
  "kernelspec": {
   "display_name": "qrisp",
   "language": "python",
   "name": "python3"
  },
  "language_info": {
   "codemirror_mode": {
    "name": "ipython",
    "version": 3
   },
   "file_extension": ".py",
   "mimetype": "text/x-python",
   "name": "python",
   "nbconvert_exporter": "python",
   "pygments_lexer": "ipython3",
   "version": "3.10.16"
  }
 },
 "nbformat": 4,
 "nbformat_minor": 2
}
