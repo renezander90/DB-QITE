{
 "cells": [
  {
   "cell_type": "markdown",
   "id": "e8d1c6a4",
   "metadata": {},
   "source": [
    "# Heisenberg XXX model\n",
    "\n",
    "$$ H_{\\text{TFIM}} = \\sum_{j=1}^{L}(X_jX_{j+1}+Y_jY_{j+1}+Z_jZ_{j+1}) $$\n",
    "\n",
    "pip install qrisp \n",
    "\n",
    "https://www.qrisp.eu\n"
   ]
  },
  {
   "cell_type": "code",
   "execution_count": 1,
   "id": "ba14dbf3",
   "metadata": {},
   "outputs": [
    {
     "data": {
      "image/png": "[encoded data removed]",
      "text/plain": [
       "<Figure size 640x480 with 1 Axes>"
      ]
     },
     "metadata": {},
     "output_type": "display_data"
    }
   ],
   "source": [
    "import networkx as nx\n",
    "\n",
    "# Create a graph\n",
    "L = 10\n",
    "G = nx.Graph()\n",
    "G.add_edges_from([(k,k+1) for k in range(L-1)]) \n",
    "nx.draw(G, with_labels=True)"
   ]
  },
  {
   "cell_type": "markdown",
   "id": "5dbc5821",
   "metadata": {},
   "source": [
    "## Define Heisenberg Hamiltonian"
   ]
  },
  {
   "cell_type": "code",
   "execution_count": 2,
   "id": "065122e0",
   "metadata": {},
   "outputs": [
    {
     "name": "stdout",
     "output_type": "stream",
     "text": [
      "X(0)*X(1) + X(1)*X(2) + X(2)*X(3) + X(3)*X(4) + X(4)*X(5) + X(5)*X(6) + X(6)*X(7) + X(7)*X(8) + X(8)*X(9) + Y(0)*Y(1) + Y(1)*Y(2) + Y(2)*Y(3) + Y(3)*Y(4) + Y(4)*Y(5) + Y(5)*Y(6) + Y(6)*Y(7) + Y(7)*Y(8) + Y(8)*Y(9) + Z(0)*Z(1) + Z(1)*Z(2) + Z(2)*Z(3) + Z(3)*Z(4) + Z(4)*Z(5) + Z(5)*Z(6) + Z(6)*Z(7) + Z(7)*Z(8) + Z(8)*Z(9)\n"
     ]
    }
   ],
   "source": [
    "from qrisp.operators import X, Y, Z\n",
    "\n",
    "def create_heisenberg_hamiltonian(G):\n",
    "    H = sum(X(i)*X(j)+Y(i)*Y(j)+Z(i)*Z(j) for (i,j) in G.edges())\n",
    "    return H\n",
    "\n",
    "H = create_heisenberg_hamiltonian(G)\n",
    "print(H)"
   ]
  },
  {
   "cell_type": "markdown",
   "id": "1438e2e1",
   "metadata": {},
   "source": [
    "## Calculate eigenvalues clasically"
   ]
  },
  {
   "cell_type": "code",
   "execution_count": 3,
   "id": "4472e67e",
   "metadata": {},
   "outputs": [
    {
     "data": {
      "text/plain": [
       "(array([-17.03214083+3.44761314e-17j, -15.72269436-4.07694302e-17j,\n",
       "        -14.10817429-5.87491153e-17j, -15.72269436+2.77555758e-17j,\n",
       "        -15.72269436-2.41909433e-17j, -14.10817429+3.72678400e-17j]),\n",
       " array([[-1.24136280e-18-7.66297108e-21j,  1.82535827e-20-2.11829380e-18j,\n",
       "         -4.62331678e-21+8.95228203e-19j,  1.66912420e-19-7.22575255e-18j,\n",
       "          1.93441316e-17-8.02080358e-19j, -2.78569535e-17+2.19798259e-17j],\n",
       "        [-3.22008041e-18-2.07974501e-18j, -1.16251347e-17+7.45754704e-18j,\n",
       "         -1.34530146e-17-4.16582335e-18j, -8.81158034e-18+2.69793173e-18j,\n",
       "         -1.64294434e-17-1.23278796e-17j,  4.21350600e-17+1.97567357e-17j],\n",
       "        [-8.01181965e-19-2.46421592e-18j, -4.91491989e-18+2.75179613e-18j,\n",
       "         -1.19505429e-17-1.56966910e-18j, -3.21058232e-18+5.35336824e-19j,\n",
       "         -8.41670304e-18-6.60082958e-18j,  4.16216992e-17+9.10972395e-18j],\n",
       "        ...,\n",
       "        [ 3.44172279e-18-8.90676273e-19j, -6.67553107e-18+6.09278542e-18j,\n",
       "          3.09826669e-18+2.98714224e-19j, -6.58007106e-18+2.67450700e-18j,\n",
       "         -1.46776192e-18-9.70866823e-18j,  7.56395185e-18+1.56488726e-17j],\n",
       "        [-4.53428773e-18-2.26298948e-18j, -3.25595468e-18+9.05398606e-19j,\n",
       "          5.40808213e-18+1.07569714e-17j, -1.23995652e-18-2.95114831e-18j,\n",
       "          2.01925890e-18-9.11011112e-18j,  1.18866121e-17+1.56205471e-17j],\n",
       "        [-3.94450034e-18-2.71391072e-18j,  3.46011633e-18-5.16982133e-18j,\n",
       "         -3.02400738e-19-1.98364266e-18j,  3.62541444e-18-9.31950859e-18j,\n",
       "          2.25227872e-17+7.89065353e-18j, -4.61556887e-17+1.13222454e-17j]]))"
      ]
     },
     "execution_count": 3,
     "metadata": {},
     "output_type": "execute_result"
    }
   ],
   "source": [
    "import scipy\n",
    "matrix = H.to_sparse_matrix()\n",
    "scipy.sparse.linalg.eigs(matrix)"
   ]
  },
  {
   "cell_type": "markdown",
   "id": "0120af2b",
   "metadata": {},
   "source": [
    "## VQE warm start \n",
    "\n",
    "* 2 layers of problem specific Ansatz: https://arxiv.org/abs/2108.08086, https://qrisp.eu/reference/Algorithms/vqe/vqeProblems/heisenberg.html"
   ]
  },
  {
   "cell_type": "code",
   "execution_count": 4,
   "id": "aab14084",
   "metadata": {},
   "outputs": [
    {
     "name": "stdout",
     "output_type": "stream",
     "text": [
      "-16.325377406056276                                                                  \u001b[2K\n"
     ]
    }
   ],
   "source": [
    "from qrisp import QuantumVariable\n",
    "from qrisp.vqe.problems.heisenberg import *\n",
    "\n",
    "vqe = heisenberg_problem(G,1,0)\n",
    "U_0 = vqe.train_function(QuantumVariable(G.number_of_nodes()),depth=1,max_iter=100)\n",
    "\n",
    "qv = QuantumVariable(G.number_of_nodes())\n",
    "U_0(qv)\n",
    "E_0 = H.get_measurement(qv,precision=0.01)\n",
    "print(E_0)\n"
   ]
  },
  {
   "cell_type": "markdown",
   "id": "705b609c",
   "metadata": {},
   "source": [
    "## QPE\n",
    "\n",
    "Recall that $n+\\lceil \\log(2+\\frac{1}{2\\epsilon})\\rceil$ precision qubits for QPE yield an estimate accurate to $n$ bits with probability $1-\\epsilon$."
   ]
  },
  {
   "cell_type": "code",
   "execution_count": null,
   "id": "770b6af0",
   "metadata": {},
   "outputs": [
    {
     "name": "stdout",
     "output_type": "stream",
     "text": [
      "{'x': 10, 'h': 8090, 'p': 42, 'cx': 11211, 'rz': 8380, 'cz': 2790, 'QFT_dg': 1, 'gphase': 1}\n",
      "{'u3': 16676, 'cx': 14027}\n",
      "15\n",
      "12593\n"
     ]
    }
   ],
   "source": [
    "from qrisp import QPE\n",
    "\n",
    "qv = QuantumVariable(G.number_of_nodes())\n",
    "U_0(qv)\n",
    "\n",
    "# Hamiltonian simulation via first order Suzuki-Trotter formula with 5 steps \n",
    "# Note: 5 steps are insufficient to obtain the ground state energy within error 0.1 (10 steps are sufficent)\n",
    "def exp_H(qv, t=1, iter=1):\n",
    "    H.trotterization(forward_evolution=False,method='commuting')(qv, t, 5, iter)\n",
    "\n",
    "qpe_res = QPE(qv,exp_H,precision=5,iter_spec=True)\n",
    "qc = qpe_res.qs.compile()\n",
    "tqc = qc.transpile(basis_gates=[\"cx\",\"u\"])\n",
    "print(qc.count_ops())\n",
    "print(tqc.count_ops())\n",
    "print(tqc.num_qubits())\n",
    "print(tqc.depth())"
   ]
  },
  {
   "cell_type": "code",
   "execution_count": 6,
   "id": "4146f666",
   "metadata": {},
   "outputs": [
    {
     "name": "stdout",
     "output_type": "stream",
     "text": [
      "                                                                                     \u001b[2K\r"
     ]
    }
   ],
   "source": [
    "results = qpe_res.get_measurement(precompiled_qc=qc)\n",
    "sorted_results= dict(sorted(results.items(), key=lambda item: item[1], reverse=True))"
   ]
  },
  {
   "cell_type": "code",
   "execution_count": 7,
   "id": "8d98a96d",
   "metadata": {},
   "outputs": [
    {
     "data": {
      "text/plain": [
       "{0.34375: 0.5971719434388687,\n",
       " 0.875: 0.11688233764675292,\n",
       " 0.375: 0.09768195363907277,\n",
       " 0.78125: 0.04937098741974839,\n",
       " 0.3125: 0.03167063341266825,\n",
       " 0.84375: 0.014410288205764113,\n",
       " 0.125: 0.011290225804516088,\n",
       " 0.8125: 0.010870217404348086,\n",
       " 0.09375: 0.009010180203604072,\n",
       " 0.40625: 0.008950179003580071,\n",
       " 0.28125: 0.007420148402968059,\n",
       " 0.625: 0.005590111802236045,\n",
       " 0.90625: 0.005570111402228044,\n",
       " 0.4375: 0.003530070601412028,\n",
       " 0.75: 0.003290065801316026,\n",
       " 0.6875: 0.003270065401308026,\n",
       " 0.25: 0.002300046000920018,\n",
       " 0.46875: 0.002130042600852017,\n",
       " 0.9375: 0.001980039600792016,\n",
       " 0.15625: 0.0019200384007680153,\n",
       " 0.1875: 0.0019200384007680153,\n",
       " 0.65625: 0.0017200344006880136,\n",
       " 0.21875: 0.0015600312006240123,\n",
       " 0.71875: 0.001540030800616012,\n",
       " 0.0625: 0.001510030200604012,\n",
       " 0.5: 0.0013100262005240103,\n",
       " 0.53125: 0.0012800256005120103,\n",
       " 0.96875: 0.0012000240004800093,\n",
       " 0.03125: 0.0009600192003840077,\n",
       " 0.0: 0.0009500190003800075,\n",
       " 0.59375: 0.000890017800356007,\n",
       " 0.5625: 0.0008500170003400067}"
      ]
     },
     "execution_count": 7,
     "metadata": {},
     "output_type": "execute_result"
    }
   ],
   "source": [
    "sorted_results"
   ]
  },
  {
   "cell_type": "markdown",
   "id": "9f1f7853",
   "metadata": {},
   "source": [
    "## Find ground state engergy\n",
    "\n",
    "* Exact solution: -17.03214083\n",
    "* QPE results are modulo $2\\pi$: $-17.03214083 + 4\\pi = -4.465770215640827$\n",
    "* Subtract $4\\pi$ from solution"
   ]
  },
  {
   "cell_type": "code",
   "execution_count": 8,
   "id": "a0aa2234",
   "metadata": {},
   "outputs": [
    {
     "name": "stdout",
     "output_type": "stream",
     "text": [
      "Energy: -16.689710972195776 Probability: 0.5971719434388687\n",
      "Energy: -13.351768777756622 Probability: 0.11688233764675292\n",
      "Energy: -16.493361431346415 Probability: 0.09768195363907277\n",
      "Energy: -13.940817400304708 Probability: 0.04937098741974839\n",
      "Energy: -16.886060513045138 Probability: 0.03167063341266825\n"
     ]
    }
   ],
   "source": [
    "import numpy as np\n",
    "\n",
    "for phi,prob in list(sorted_results.items())[:5]:\n",
    "    E_qpe = 2*np.pi*(phi-1) # Results are modulo 2*pi, therefore subtract 2*pi\n",
    "    E_qpe -= 4*np.pi \n",
    "    print(\"Energy: \" + str(E_qpe) + \" Probability: \" + str(prob))"
   ]
  },
  {
   "cell_type": "code",
   "execution_count": null,
   "id": "33089d9f",
   "metadata": {},
   "outputs": [],
   "source": []
  }
 ],
 "metadata": {
  "kernelspec": {
   "display_name": "qrisp_new",
   "language": "python",
   "name": "python3"
  },
  "language_info": {
   "codemirror_mode": {
    "name": "ipython",
    "version": 3
   },
   "file_extension": ".py",
   "mimetype": "text/x-python",
   "name": "python",
   "nbconvert_exporter": "python",
   "pygments_lexer": "ipython3",
   "version": "3.10.15"
  }
 },
 "nbformat": 4,
 "nbformat_minor": 5
}
