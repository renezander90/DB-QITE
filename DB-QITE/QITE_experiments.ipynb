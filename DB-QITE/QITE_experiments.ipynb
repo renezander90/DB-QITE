{
 "cells": [
  {
   "cell_type": "markdown",
   "metadata": {},
   "source": [
    "pip install qrisp \n",
    "\n",
    "https://www.qrisp.eu\n",
    "\n",
    "DB-QITE implementation in Qrisp: https://qrisp.eu/reference/Algorithms/QITE.html\n",
    "\n",
    "Experiments performed on QITE_experiments branch: https://github.com/eclipse-qrisp/Qrisp/tree/QITE_experiments with lowered simulator cutoff_ratio for high precision state vector simulations\n"
   ]
  },
  {
   "cell_type": "code",
   "execution_count": null,
   "metadata": {},
   "outputs": [],
   "source": [
    "from qrisp import QuantumVariable\n",
    "from qrisp.vqe import VQEProblem\n",
    "from qrisp.vqe.problems.heisenberg import create_heisenberg_init_function\n",
    "\n",
    "import networkx as nx\n",
    "import numpy as np\n",
    "\n",
    "import pickle\n",
    "from datetime import datetime\n",
    "\n",
    "from run_QITE import run_QITE\n",
    "\n",
    "def save_data(data, filename):  \n",
    "    # Open a file for writing\n",
    "    with open(filename+'.pickle', 'wb') as file:\n",
    "        # Write the object to the file\n",
    "        pickle.dump(data, file)\n",
    "\n",
    "def load_data(filename):\n",
    "    with open(filename+'.pickle', 'rb') as file:\n",
    "        # Load the object from the file\n",
    "        data = pickle.load(file)\n",
    "    return data"
   ]
  },
  {
   "cell_type": "markdown",
   "metadata": {},
   "source": [
    "# Heisenberg XXX model\n",
    "\n",
    "$$ H_{\\text{TFIM}} = \\sum_{j=0}^{L-1}(X_jX_{j+1}+Y_jY_{j+1}+Z_jZ_{j+1}) $$"
   ]
  },
  {
   "cell_type": "code",
   "execution_count": null,
   "metadata": {},
   "outputs": [],
   "source": [
    "from qrisp.operators import X, Y, Z\n",
    "\n",
    "L = 20\n",
    "G = nx.Graph()\n",
    "G.add_edges_from([(k, (k+1)%L) for k in range(L-1)]) \n",
    "# nx.draw(G, with_labels=True)\n",
    "\n",
    "H = sum((X(i)*X(j)+Y(i)*Y(j)+Z(i)*Z(j)) for i,j in G.edges())\n",
    "print(H)\n",
    "\n",
    "# Define scaling factor\n",
    "alpha = 10\n",
    "\n",
    "# Hamiltonian simulation via second order Suzuki-Trotter formula with 2 steps\n",
    "def exp_H(qv, t):\n",
    "    H.trotterization(order=2, method='commuting')(qv, t/alpha, 2)"
   ]
  },
  {
   "cell_type": "markdown",
   "metadata": {},
   "source": [
    "## DB-QITE with Singlet and HVA warm-start"
   ]
  },
  {
   "cell_type": "code",
   "execution_count": null,
   "metadata": {},
   "outputs": [],
   "source": [
    "# Tensor product of singlet states\n",
    "M = nx.maximal_matching(G)\n",
    "U_singlet = create_heisenberg_init_function(M)\n",
    "\n",
    "# HVA\n",
    "H0 = sum((X(i)*X(j)+Y(i)*Y(j)+Z(i)*Z(j)) for i,j in M)\n",
    "H1 = sum((X(i)*X(j)+Y(i)*Y(j)+Z(i)*Z(j)) for i,j in set(G.edges())-M)\n",
    "\n",
    "def ansatz(qv, theta):\n",
    "    # Rescaling t->1/4 equivalent to choosing rescaled inital parameters for HVA\n",
    "    H1.trotterization(method='commuting')(qv, t=theta[1]/4)\n",
    "    H0.trotterization(method='commuting')(qv, t=theta[0]/4)\n",
    "\n",
    "HVA = VQEProblem(H, ansatz, 2, init_function=U_singlet)\n",
    "U_HVA = HVA.train_function(QuantumVariable(G.number_of_nodes()), depth=1, max_iter=100)\n",
    "\n",
    "# Calculate energy for HVA\n",
    "def state_prep():\n",
    "    qv = QuantumVariable(L)\n",
    "    U_HVA(qv)\n",
    "    return qv\n",
    "\n",
    "print(H.expectation_value(state_prep)())\n",
    "\n",
    "results = []\n",
    "\n",
    "results.append(run_QITE(H, U_singlet, exp_H, np.linspace(.01,1.5,20), 5, method='GC', use_statevectors=True))\n",
    "results.append(run_QITE(H, U_HVA, exp_H, np.linspace(.01,1.5,20), 5, method='GC', use_statevectors=True))"
   ]
  },
  {
   "cell_type": "code",
   "execution_count": null,
   "metadata": {},
   "outputs": [],
   "source": [
    "# Save benchmark data\n",
    "current_datetime = datetime.now()\n",
    "date_time_string = current_datetime.strftime(\"%m-%d-%H\")\n",
    "#save_data(results,'data/benchmarks_2nd_L='+str(L)+'_'+date_time_string)"
   ]
  },
  {
   "cell_type": "code",
   "execution_count": null,
   "metadata": {},
   "outputs": [],
   "source": []
  }
 ],
 "metadata": {
  "kernelspec": {
   "display_name": "qrisp_new",
   "language": "python",
   "name": "python3"
  },
  "language_info": {
   "codemirror_mode": {
    "name": "ipython",
    "version": 3
   },
   "file_extension": ".py",
   "mimetype": "text/x-python",
   "name": "python",
   "nbconvert_exporter": "python",
   "pygments_lexer": "ipython3",
   "version": "3.10.15"
  }
 },
 "nbformat": 4,
 "nbformat_minor": 2
}
