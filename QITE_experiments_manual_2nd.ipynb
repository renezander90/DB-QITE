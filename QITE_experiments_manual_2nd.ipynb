{
 "cells": [
  {
   "cell_type": "code",
   "execution_count": 1,
   "metadata": {},
   "outputs": [],
   "source": [
    "from qrisp import QuantumVariable, h, prepare, conjugate\n",
    "from qrisp.vqe.problems.heisenberg import create_heisenberg_init_function, heisenberg_problem, create_heisenberg_hamiltonian\n",
    "import networkx as nx\n",
    "import numpy as np\n",
    "import scipy\n",
    "import matplotlib.pyplot as plt\n",
    "from run_QITE import run_QITE\n",
    "\n",
    "import pickle\n",
    "from time import time\n",
    "from datetime import datetime\n",
    "\n",
    "def save_data(data, filename):  \n",
    "    # Open a file for writing\n",
    "    with open(filename+'.pickle', 'wb') as file:\n",
    "        # Write the object to the file\n",
    "        pickle.dump(data, file)\n",
    "\n",
    "def load_data(filename):\n",
    "    with open(filename+'.pickle', 'rb') as file:\n",
    "        # Load the object from the file\n",
    "        data = pickle.load(file)\n",
    "    return data"
   ]
  },
  {
   "cell_type": "code",
   "execution_count": 2,
   "metadata": {},
   "outputs": [],
   "source": [
    "L = 10\n",
    "G = nx.Graph()\n",
    "G.add_edges_from([(k,(k+1)%L) for k in range(L-1)]) \n",
    "# nx.draw(G, with_labels=True)"
   ]
  },
  {
   "cell_type": "code",
   "execution_count": 3,
   "metadata": {},
   "outputs": [
    {
     "name": "stdout",
     "output_type": "stream",
     "text": [
      "X(0)*X(1) + X(1)*X(2) + X(2)*X(3) + X(3)*X(4) + X(4)*X(5) + X(5)*X(6) + X(6)*X(7) + X(7)*X(8) + X(8)*X(9) + Y(0)*Y(1) + Y(1)*Y(2) + Y(2)*Y(3) + Y(3)*Y(4) + Y(4)*Y(5) + Y(5)*Y(6) + Y(6)*Y(7) + Y(7)*Y(8) + Y(8)*Y(9) + 0.5*Z(0) + Z(0)*Z(1) + 0.5*Z(1) + Z(1)*Z(2) + 0.5*Z(2) + Z(2)*Z(3) + 0.5*Z(3) + Z(3)*Z(4) + 0.5*Z(4) + Z(4)*Z(5) + 0.5*Z(5) + Z(5)*Z(6) + 0.5*Z(6) + Z(6)*Z(7) + 0.5*Z(7) + Z(7)*Z(8) + 0.5*Z(8) + Z(8)*Z(9) + 0.5*Z(9)\n"
     ]
    }
   ],
   "source": [
    "from qrisp.operators import X, Y, Z\n",
    "\n",
    "J = 1\n",
    "B = 0.5\n",
    "H = create_heisenberg_hamiltonian(G, J, B)\n",
    "print(H)\n",
    "\n",
    "# Define scaling factor\n",
    "F = 10\n",
    "\n",
    "# Hamiltonian simulation via first order Suzuki-Trotter formula with 5 steps\n",
    "def exp_H(qv, t):\n",
    "    H.trotterization(method='commuting')(qv,t/F,5)"
   ]
  },
  {
   "cell_type": "code",
   "execution_count": 4,
   "metadata": {},
   "outputs": [],
   "source": [
    "O = H.hermitize().eliminate_ladder_conjugates()\n",
    "commuting_groups = O.group_up(lambda a, b: a.commute(b))\n",
    "#for group in commuting_groups:\n",
    "#    print(group)\n",
    "\n",
    "def trotter_step_2(qarg, t, steps):\n",
    "    dt = t / steps\n",
    "    #\n",
    "    # 1) Forward half-step\n",
    "    #\n",
    "    for com_group in commuting_groups:\n",
    "        with conjugate(com_group.change_of_basis)(qarg, method=\"commuting\") as diagonal_operator:\n",
    "            intersect_groups = diagonal_operator.group_up(lambda a, b: not a.intersect(b))\n",
    "            for intersect_group in intersect_groups:\n",
    "                for term, coeff in intersect_group.terms_dict.items():\n",
    "                    term.simulate(\n",
    "                        -coeff * (dt/2) * (-1),\n",
    "                        qarg\n",
    "                    )\n",
    "    \n",
    "    #\n",
    "    # 2) Backward half-step (reverse order)\n",
    "    #\n",
    "    for com_group in reversed(commuting_groups):\n",
    "        with conjugate(com_group.change_of_basis)(qarg, method=\"commuting\") as diagonal_operator:\n",
    "            intersect_groups = diagonal_operator.group_up(lambda a, b: not a.intersect(b))\n",
    "            for intersect_group in intersect_groups:\n",
    "                for term, coeff in intersect_group.terms_dict.items():\n",
    "                    term.simulate(\n",
    "                        -coeff * (dt/2) * (-1),\n",
    "                        qarg\n",
    "                    )\n",
    "\n",
    "F=10\n",
    "\n",
    "def exp_H_2(qv, t, steps=2):\n",
    "    for i in range(steps):\n",
    "        trotter_step_2(qv, t/F, steps)"
   ]
  },
  {
   "cell_type": "markdown",
   "metadata": {},
   "source": [
    "# QITE with manually setup eigenstates"
   ]
  },
  {
   "cell_type": "code",
   "execution_count": 5,
   "metadata": {},
   "outputs": [
    {
     "name": "stdout",
     "output_type": "stream",
     "text": [
      "Eigen energies: [-17.03214083 -16.72269436 -15.72269436 ...  12.80422607  13.\n",
      "  14.        ]\n",
      "                                                                                     \u001b[2K\r"
     ]
    }
   ],
   "source": [
    "# Manual setup\n",
    "H_matrix = H.to_array()\n",
    "eigvals, eigvecs = np.linalg.eigh(H_matrix)\n",
    "idx = np.argsort(eigvals)\n",
    "eigvals_sorted = eigvals[idx].real\n",
    "print('Eigen energies:', eigvals_sorted)\n",
    "eigvecs_sorted = eigvecs[:,idx].T\n",
    "eigvecs_sorted = [vec.reshape(-1,1) for vec in eigvecs_sorted]\n",
    "\n",
    "epsilon = 0.001\n",
    "alpha = 0.5\n",
    "\n",
    "results= []\n",
    "\n",
    "mid_id_ls = [1,2,4]\n",
    "for mid_id in mid_id_ls:\n",
    "    results_psi = []\n",
    "    psi = eigvecs_sorted[10] + alpha*eigvecs_sorted[mid_id] + epsilon*eigvecs_sorted[0]\n",
    "    psi = (psi/np.linalg.norm(psi)).transpose()[0]\n",
    "\n",
    "    def U_0(qv):\n",
    "        prepare(qv, psi,reversed=False)\n",
    "\n",
    "    qv = QuantumVariable(10)\n",
    "    U_0(qv)\n",
    "\n",
    "    results.append(run_QITE(H, U_0, exp_H_2, np.linspace(.01,5.0,20), 4, method='GC', use_statevectors=True))\n",
    "    results.append(run_QITE(H, U_0, exp_H_2, np.linspace(.01,10.0,20), 0, method='HOPF', use_statevectors=True))\n",
    "    "
   ]
  },
  {
   "cell_type": "code",
   "execution_count": 8,
   "metadata": {},
   "outputs": [],
   "source": [
    "# Save benchmark data\n",
    "current_datetime = datetime.now()\n",
    "date_time_string = current_datetime.strftime(\"%m-%d-%H\")\n",
    "save_data(results,'data/benchmarks_manual_2nd_B=0.5_'+date_time_string)"
   ]
  },
  {
   "cell_type": "code",
   "execution_count": null,
   "metadata": {},
   "outputs": [],
   "source": []
  }
 ],
 "metadata": {
  "kernelspec": {
   "display_name": "qrisp",
   "language": "python",
   "name": "python3"
  },
  "language_info": {
   "codemirror_mode": {
    "name": "ipython",
    "version": 3
   },
   "file_extension": ".py",
   "mimetype": "text/x-python",
   "name": "python",
   "nbconvert_exporter": "python",
   "pygments_lexer": "ipython3",
   "version": "3.10.16"
  }
 },
 "nbformat": 4,
 "nbformat_minor": 2
}
