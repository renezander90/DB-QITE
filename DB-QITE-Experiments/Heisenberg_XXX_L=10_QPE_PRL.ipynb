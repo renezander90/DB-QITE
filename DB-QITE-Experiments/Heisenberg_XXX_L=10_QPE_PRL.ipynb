{
 "cells": [
  {
   "cell_type": "markdown",
   "id": "e8d1c6a4",
   "metadata": {},
   "source": [
    "# Heisenberg XXX model\n",
    "\n",
    "$$ H_{\\text{TFIM}} = \\sum_{j=1}^{L}(X_jX_{j+1}+Y_jY_{j+1}+Z_jZ_{j+1}) $$\n",
    "\n",
    "pip install qrisp \n",
    "\n",
    "https://www.qrisp.eu\n"
   ]
  },
  {
   "cell_type": "code",
   "execution_count": 1,
   "id": "ba14dbf3",
   "metadata": {},
   "outputs": [],
   "source": [
    "import networkx as nx\n",
    "import numpy as np\n",
    "\n",
    "# Create a graph\n",
    "L = 10\n",
    "G = nx.Graph()\n",
    "G.add_edges_from([(k,k+1) for k in range(L-1)]) \n",
    "#nx.draw(G, with_labels=True)"
   ]
  },
  {
   "cell_type": "markdown",
   "id": "5dbc5821",
   "metadata": {},
   "source": [
    "## Define Heisenberg Hamiltonian"
   ]
  },
  {
   "cell_type": "code",
   "execution_count": 2,
   "id": "065122e0",
   "metadata": {},
   "outputs": [
    {
     "name": "stdout",
     "output_type": "stream",
     "text": [
      "X(0)*X(1) + X(1)*X(2) + X(2)*X(3) + X(3)*X(4) + X(4)*X(5) + X(5)*X(6) + X(6)*X(7) + X(7)*X(8) + X(8)*X(9) + Y(0)*Y(1) + Y(1)*Y(2) + Y(2)*Y(3) + Y(3)*Y(4) + Y(4)*Y(5) + Y(5)*Y(6) + Y(6)*Y(7) + Y(7)*Y(8) + Y(8)*Y(9) + Z(0)*Z(1) + Z(1)*Z(2) + Z(2)*Z(3) + Z(3)*Z(4) + Z(4)*Z(5) + Z(5)*Z(6) + Z(6)*Z(7) + Z(7)*Z(8) + Z(8)*Z(9)\n"
     ]
    }
   ],
   "source": [
    "from qrisp.operators import X, Y, Z\n",
    "\n",
    "def create_heisenberg_hamiltonian(G):\n",
    "    H = sum(X(i)*X(j)+Y(i)*Y(j)+Z(i)*Z(j) for (i,j) in G.edges())\n",
    "    return H\n",
    "\n",
    "H = create_heisenberg_hamiltonian(G)\n",
    "print(H)"
   ]
  },
  {
   "cell_type": "markdown",
   "id": "1438e2e1",
   "metadata": {},
   "source": [
    "## Calculate eigenvalues clasically"
   ]
  },
  {
   "cell_type": "code",
   "execution_count": 3,
   "id": "4472e67e",
   "metadata": {},
   "outputs": [],
   "source": [
    "from scipy.sparse.linalg import eigsh\n",
    "matrix = H.to_sparse_matrix()\n",
    "eigenvalues, eigenvectors = eigsh(matrix, k=2, which='SA')\n",
    "E0 = eigenvalues[0]\n",
    "v0 = eigenvectors[:,0]"
   ]
  },
  {
   "cell_type": "markdown",
   "id": "0120af2b",
   "metadata": {},
   "source": [
    "## VQE warm start \n",
    "\n",
    "* 2 layers of problem specific Ansatz: https://arxiv.org/abs/2108.08086, https://qrisp.eu/reference/Algorithms/vqe/vqeProblems/heisenberg.html"
   ]
  },
  {
   "cell_type": "code",
   "execution_count": 4,
   "id": "aab14084",
   "metadata": {},
   "outputs": [
    {
     "name": "stdout",
     "output_type": "stream",
     "text": [
      "                                                                                     \u001b[2K\r"
     ]
    },
    {
     "name": "stderr",
     "output_type": "stream",
     "text": [
      "/Users/renezander/Desktop/Qrisp/src/qrisp/operators/qubit/qubit_operator.py:1570: UserWarning: DeprecationWarning: This method will no longer be supported in a later release of Qrisp. Instead please migrate to .expectation_value.\n",
      "  warnings.warn(\"DeprecationWarning: This method will no longer be supported in a later release of Qrisp. Instead please migrate to .expectation_value.\")\n"
     ]
    },
    {
     "name": "stdout",
     "output_type": "stream",
     "text": [
      "-16.322811934632377                                                                  \u001b[2K\n",
      "                                                                                     \u001b[2K\r"
     ]
    },
    {
     "data": {
      "text/plain": [
       "np.float64(0.8786313665939549)"
      ]
     },
     "execution_count": 4,
     "metadata": {},
     "output_type": "execute_result"
    }
   ],
   "source": [
    "from qrisp import QuantumVariable\n",
    "from qrisp.vqe.problems.heisenberg import *\n",
    "\n",
    "vqe = heisenberg_problem(G,1,0)\n",
    "U_0 = vqe.train_function(QuantumVariable(G.number_of_nodes()),depth=1,max_iter=100)\n",
    "\n",
    "qv = QuantumVariable(G.number_of_nodes())\n",
    "U_0(qv)\n",
    "E_0 = H.get_measurement(qv,precision=0.01)\n",
    "print(E_0)\n",
    "\n",
    "psi = qv.qs.statevector_array()\n",
    "\n",
    "np.abs(np.dot(psi.conj().transpose(),v0))**2"
   ]
  },
  {
   "cell_type": "markdown",
   "id": "705b609c",
   "metadata": {},
   "source": [
    "## QPE\n",
    "\n",
    "Recall that $n+\\lceil \\log(2+\\frac{1}{2\\epsilon})\\rceil$ precision qubits for QPE yield an estimate accurate to $n$ bits with probability $1-\\epsilon$."
   ]
  },
  {
   "cell_type": "code",
   "execution_count": 10,
   "id": "770b6af0",
   "metadata": {},
   "outputs": [
    {
     "name": "stdout",
     "output_type": "stream",
     "text": [
      "{'x': 10, 'h': 5298, 'p': 42, 'cx': 16791, 'rz': 8380, 'sx': 2790, 'sx_dg': 2790, 'QFT_dg': 1, 'gphase': 1}\n",
      "{'u3': 16673, 'cx': 16817}\n",
      "15\n",
      "12579\n"
     ]
    }
   ],
   "source": [
    "from qrisp import QPE\n",
    "\n",
    "qv = QuantumVariable(G.number_of_nodes())\n",
    "U_0(qv)\n",
    "\n",
    "# Hamiltonian simulation via first order Suzuki-Trotter formula with 5 steps \n",
    "# Note: 5 steps are insufficient to obtain the ground state energy within error 0.1 (10 steps are sufficent)\n",
    "exp_H = H.trotterization(order=1,forward_evolution=False)\n",
    "\n",
    "qpe_res = QPE(qv,exp_H,precision=5,kwargs={\"steps\":5},iter_spec=True)\n",
    "\n",
    "qc = qpe_res.qs.compile()\n",
    "tqc = qc.transpile(basis_gates=[\"cx\",\"u\"])\n",
    "\n",
    "print(qc.count_ops())\n",
    "print(tqc.count_ops())\n",
    "print(tqc.num_qubits())\n",
    "print(tqc.depth())"
   ]
  },
  {
   "cell_type": "code",
   "execution_count": 14,
   "id": "4146f666",
   "metadata": {},
   "outputs": [
    {
     "name": "stdout",
     "output_type": "stream",
     "text": [
      "                                                                                     \u001b[2K\r"
     ]
    }
   ],
   "source": [
    "results = qpe_res.get_measurement(precompiled_qc=qc)\n",
    "sorted_results= dict(sorted(results.items(), key=lambda item: item[1], reverse=True))"
   ]
  },
  {
   "cell_type": "code",
   "execution_count": 15,
   "id": "8d98a96d",
   "metadata": {},
   "outputs": [
    {
     "data": {
      "text/plain": [
       "{0.34375: 0.5975380492390153,\n",
       " 0.875: 0.11682766344673108,\n",
       " 0.375: 0.09758804823903522,\n",
       " 0.78125: 0.04929901401971961,\n",
       " 0.3125: 0.031619367612647754,\n",
       " 0.84375: 0.014409711805763885,\n",
       " 0.125: 0.01126977460450791,\n",
       " 0.8125: 0.010859782804343915,\n",
       " 0.09375: 0.008999820003599928,\n",
       " 0.40625: 0.00893982120357593,\n",
       " 0.28125: 0.007419851602967942,\n",
       " 0.625: 0.005579888402231956,\n",
       " 0.90625: 0.005569888602227956,\n",
       " 0.4375: 0.0035199296014079722,\n",
       " 0.75: 0.003289934201315974,\n",
       " 0.6875: 0.003269934601307974,\n",
       " 0.25: 0.002299954000919982,\n",
       " 0.46875: 0.002129957400851983,\n",
       " 0.9375: 0.0019799604007919845,\n",
       " 0.15625: 0.0019199616007679848,\n",
       " 0.1875: 0.0019199616007679848,\n",
       " 0.65625: 0.0017199656006879863,\n",
       " 0.21875: 0.0015499690006199878,\n",
       " 0.71875: 0.0015399692006159878,\n",
       " 0.0625: 0.0015099698006039882,\n",
       " 0.5: 0.0013099738005239896,\n",
       " 0.53125: 0.00126997460050799,\n",
       " 0.96875: 0.0011999760004799903,\n",
       " 0.03125: 0.0009599808003839924,\n",
       " 0.0: 0.0009499810003799925,\n",
       " 0.59375: 0.000889982200355993,\n",
       " 0.5625: 0.0008499830003399932}"
      ]
     },
     "execution_count": 15,
     "metadata": {},
     "output_type": "execute_result"
    }
   ],
   "source": [
    "sorted_results"
   ]
  },
  {
   "cell_type": "markdown",
   "id": "9f1f7853",
   "metadata": {},
   "source": [
    "## Find ground state engergy\n",
    "\n",
    "* Exact solution: -17.03214083\n",
    "* QPE results are modulo $2\\pi$: $-17.03214083 + 4\\pi = -4.465770215640827$\n",
    "* Subtract $4\\pi$ from solution"
   ]
  },
  {
   "cell_type": "code",
   "execution_count": 18,
   "id": "a0aa2234",
   "metadata": {},
   "outputs": [
    {
     "name": "stdout",
     "output_type": "stream",
     "text": [
      "Energy: -16.689710972195776 Probability: 0.5975380492390153\n",
      "Energy: -13.351768777756622 Probability: 0.11682766344673108\n",
      "Energy: -16.493361431346415 Probability: 0.09758804823903522\n",
      "Energy: -13.940817400304708 Probability: 0.04929901401971961\n",
      "Energy: -16.886060513045138 Probability: 0.031619367612647754\n"
     ]
    }
   ],
   "source": [
    "import numpy as np\n",
    "\n",
    "for phi,prob in list(sorted_results.items())[:5]:\n",
    "    E_qpe = 2*np.pi*(phi-1) # Results are modulo 2*pi, therefore subtract 2*pi\n",
    "    E_qpe -= 4*np.pi \n",
    "    print(\"Energy: \" + str(E_qpe) + \" Probability: \" + str(prob))"
   ]
  },
  {
   "cell_type": "code",
   "execution_count": null,
   "id": "33089d9f",
   "metadata": {},
   "outputs": [],
   "source": []
  }
 ],
 "metadata": {
  "kernelspec": {
   "display_name": "qrisp_new",
   "language": "python",
   "name": "python3"
  },
  "language_info": {
   "codemirror_mode": {
    "name": "ipython",
    "version": 3
   },
   "file_extension": ".py",
   "mimetype": "text/x-python",
   "name": "python",
   "nbconvert_exporter": "python",
   "pygments_lexer": "ipython3",
   "version": "3.10.15"
  }
 },
 "nbformat": 4,
 "nbformat_minor": 5
}
